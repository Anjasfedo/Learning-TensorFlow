{
  "nbformat": 4,
  "nbformat_minor": 0,
  "metadata": {
    "colab": {
      "provenance": [],
      "authorship_tag": "ABX9TyNkQfsiyqur3gfbo8UUkeZL",
      "include_colab_link": true
    },
    "kernelspec": {
      "name": "python3",
      "display_name": "Python 3"
    },
    "language_info": {
      "name": "python"
    }
  },
  "cells": [
    {
      "cell_type": "markdown",
      "metadata": {
        "id": "view-in-github",
        "colab_type": "text"
      },
      "source": [
        "<a href=\"https://colab.research.google.com/github/G1A021037-ANJASFEDO/Learning-TensorFlow/blob/main/Introduction_TensorFlow.ipynb\" target=\"_parent\"><img src=\"https://colab.research.google.com/assets/colab-badge.svg\" alt=\"Open In Colab\"/></a>"
      ]
    },
    {
      "cell_type": "code",
      "execution_count": 33,
      "metadata": {
        "id": "uCc8rqXiPZBF"
      },
      "outputs": [],
      "source": [
        "# Import the TensorFlow library\n",
        "import tensorflow as tf\n"
      ]
    },
    {
      "cell_type": "markdown",
      "source": [
        "##Introduction"
      ],
      "metadata": {
        "id": "iRf_pKM7W1wB"
      }
    },
    {
      "cell_type": "markdown",
      "source": [
        "###Create Tensor"
      ],
      "metadata": {
        "id": "RrjALj-FRBt-"
      }
    },
    {
      "cell_type": "code",
      "source": [
        "# Define a string variable\n",
        "string = tf.Variable(\"Anjas\", tf.string)\n",
        "\n",
        "# TensorFlow variables are used to store and update mutable state during the execution of a TensorFlow program.\n",
        "# In this case, 'string' is a variable initialized with the string \"Anjas\" and has a data type of tf.string.\n",
        "\n",
        "# Define an integer variable\n",
        "number = tf.Variable(20, tf.int32)\n",
        "\n",
        "# Similarly, 'number' is a variable initialized with the integer value 20 and has a data type of tf.int32.\n",
        "\n",
        "# Define a floating-point variable\n",
        "floats = tf.Variable(20.1, tf.float32)\n",
        "\n",
        "# 'floats' is a variable initialized with the floating-point value 20.1 and has a data type of tf.float32.\n",
        "\n",
        "# TensorFlow variables allow for dynamic updates during training or execution of a model.\n"
      ],
      "metadata": {
        "id": "IAGH7-UDQR1S"
      },
      "execution_count": 34,
      "outputs": []
    },
    {
      "cell_type": "markdown",
      "source": [
        "###Rank/Degree"
      ],
      "metadata": {
        "id": "PxC9Gfw_RWjn"
      }
    },
    {
      "cell_type": "code",
      "source": [
        "# Define a rank-1 tensor (vector) with string elements\n",
        "rank1_tensor = tf.Variable([\"A\", \"B\", \"C\"], tf.string)\n",
        "\n",
        "# 'rank1_tensor' is a one-dimensional tensor (vector) initialized with string elements \"A\", \"B\", and \"C\".\n",
        "# The data type of the tensor is tf.string.\n",
        "\n",
        "# Define a rank-2 tensor (matrix) with string elements\n",
        "rank2_tensor = tf.Variable([[\"A\", \"B\", \"C\"], [\"D\", \"E\", \"F\"]], tf.string)\n",
        "\n",
        "# 'rank2_tensor' is a two-dimensional tensor (matrix) initialized with string elements in two rows and three columns.\n",
        "# The data type of the tensor is tf.string.\n",
        "\n",
        "# Check the rank of the rank-2 tensor\n",
        "tensor_rank = tf.rank(rank2_tensor)\n",
        "\n",
        "# 'tf.rank()' is used to determine the rank of a tensor, which represents the number of dimensions in the tensor.\n",
        "\n",
        "# Print the tensor rank\n",
        "print(\"Rank of rank2_tensor:\", tensor_rank.numpy())\n",
        "\n",
        "# The rank of 'rank2_tensor' is then printed to the console using the 'numpy()' method to extract the rank value.\n"
      ],
      "metadata": {
        "colab": {
          "base_uri": "https://localhost:8080/"
        },
        "id": "JfqAfWD8RbCe",
        "outputId": "af90108f-5003-4c07-af0a-eb8960c8dec6"
      },
      "execution_count": 35,
      "outputs": [
        {
          "output_type": "stream",
          "name": "stdout",
          "text": [
            "Rank of rank2_tensor: 2\n"
          ]
        }
      ]
    },
    {
      "cell_type": "markdown",
      "source": [
        "###Shape of Tensor"
      ],
      "metadata": {
        "id": "VPjv9CS7Sai5"
      }
    },
    {
      "cell_type": "code",
      "source": [
        "# Access the shape of the rank-2 tensor\n",
        "tensor_shape = rank2_tensor.shape\n",
        "\n",
        "# 'rank2_tensor.shape' is used to retrieve the shape of the tensor, which represents the size of each dimension.\n",
        "\n",
        "# Print the tensor shape\n",
        "print(\"Shape of rank2_tensor:\", tensor_shape)\n",
        "\n",
        "# The shape of 'rank2_tensor' is then printed to the console.\n",
        "\n",
        "# Note: In TensorFlow, the shape is represented as a TensorShape object, which provides methods to access dimensions.\n"
      ],
      "metadata": {
        "colab": {
          "base_uri": "https://localhost:8080/"
        },
        "id": "QWW1FcxASc17",
        "outputId": "7b914c7b-8b47-44d0-dcd2-122225922e06"
      },
      "execution_count": 36,
      "outputs": [
        {
          "output_type": "stream",
          "name": "stdout",
          "text": [
            "Shape of rank2_tensor: (2, 3)\n"
          ]
        }
      ]
    },
    {
      "cell_type": "markdown",
      "source": [
        "###Change Shape"
      ],
      "metadata": {
        "id": "z0bCnr0VT7A3"
      }
    },
    {
      "cell_type": "code",
      "source": [
        "# Create a rank-3 tensor filled with ones\n",
        "tensor1 = tf.ones([1, 2, 3])\n",
        "\n",
        "# 'tensor1' is initialized as a rank-3 tensor (a 3D tensor) filled with ones.\n",
        "# The shape of 'tensor1' is [1, 2, 3], representing one element along the first dimension, two along the second, and three along the third.\n",
        "\n",
        "# Reshape 'tensor1' to a new shape [2, 3, 1]\n",
        "tensor2 = tf.reshape(tensor1, [2, 3, 1])\n",
        "\n",
        "# 'tf.reshape()' is used to change the shape of a tensor. In this case, 'tensor1' is reshaped to a new shape of [2, 3, 1].\n",
        "# The total number of elements remains the same after reshaping.\n",
        "\n",
        "# Reshape 'tensor2' to a new shape [3, -1]\n",
        "tensor3 = tf.reshape(tensor2, [3, -1])\n",
        "\n",
        "# Reshaping 'tensor2' to [3, -1] means that the size of the second dimension is inferred to make the total number of elements equal to the original tensor.\n",
        "# The '-1' is a placeholder that automatically calculates the size based on the other dimensions.\n",
        "\n",
        "# Print the original and reshaped tensors\n",
        "print(\"Original tensor:\", tensor1)\n",
        "print(\"Reshaped tensor (tensor2):\", tensor2)\n",
        "print(\"Reshaped tensor (tensor3):\", tensor3)\n"
      ],
      "metadata": {
        "id": "F4hu8LY2T-Ol",
        "colab": {
          "base_uri": "https://localhost:8080/"
        },
        "outputId": "1328bcb9-cf6c-4b59-8e02-bef3de0368d4"
      },
      "execution_count": 37,
      "outputs": [
        {
          "output_type": "stream",
          "name": "stdout",
          "text": [
            "Original tensor: tf.Tensor(\n",
            "[[[1. 1. 1.]\n",
            "  [1. 1. 1.]]], shape=(1, 2, 3), dtype=float32)\n",
            "Reshaped tensor (tensor2): tf.Tensor(\n",
            "[[[1.]\n",
            "  [1.]\n",
            "  [1.]]\n",
            "\n",
            " [[1.]\n",
            "  [1.]\n",
            "  [1.]]], shape=(2, 3, 1), dtype=float32)\n",
            "Reshaped tensor (tensor3): tf.Tensor(\n",
            "[[1. 1.]\n",
            " [1. 1.]\n",
            " [1. 1.]], shape=(3, 2), dtype=float32)\n"
          ]
        }
      ]
    },
    {
      "cell_type": "markdown",
      "source": [
        "###Type of Tensor"
      ],
      "metadata": {
        "id": "JgqgUNSRUYj9"
      }
    },
    {
      "cell_type": "markdown",
      "source": [
        "- Variable\n",
        "- Constant\n",
        "- Placeholder\n",
        "- SparseTensor\n",
        "except Variable, all of Tensor Type is immuttable"
      ],
      "metadata": {
        "id": "8K3ij8ZWUhtT"
      }
    },
    {
      "cell_type": "markdown",
      "source": [
        "###Evaluating Tensor"
      ],
      "metadata": {
        "id": "MPxa3jcLUx-x"
      }
    },
    {
      "cell_type": "code",
      "source": [
        "# Convert the TensorFlow tensor 'tensor2' to a NumPy array\n",
        "result = tensor2.numpy()\n",
        "\n",
        "# TensorFlow tensors can be converted to NumPy arrays using the 'numpy()' method. This allows interoperability between TensorFlow and NumPy.\n",
        "\n",
        "# Print the NumPy array\n",
        "print(result)\n"
      ],
      "metadata": {
        "colab": {
          "base_uri": "https://localhost:8080/"
        },
        "id": "wgVCwdxtVbpm",
        "outputId": "85f1cc28-a247-4683-a0f2-012531c48b6a"
      },
      "execution_count": 38,
      "outputs": [
        {
          "output_type": "stream",
          "name": "stdout",
          "text": [
            "[[[1.]\n",
            "  [1.]\n",
            "  [1.]]\n",
            "\n",
            " [[1.]\n",
            "  [1.]\n",
            "  [1.]]]\n"
          ]
        }
      ]
    },
    {
      "cell_type": "markdown",
      "source": [
        "##Reshape Tensor"
      ],
      "metadata": {
        "id": "VPfYUU-_YhKS"
      }
    },
    {
      "cell_type": "code",
      "source": [
        "# Check TensorFlow version\n",
        "print(\"TensorFlow version:\", tf.__version__)\n",
        "\n",
        "# Print the version of TensorFlow to ensure compatibility and access to latest features.\n"
      ],
      "metadata": {
        "colab": {
          "base_uri": "https://localhost:8080/"
        },
        "id": "WUkt5NdQXgnL",
        "outputId": "63d9e17a-d09e-4d0b-de9b-1fd4f157573d"
      },
      "execution_count": 39,
      "outputs": [
        {
          "output_type": "stream",
          "name": "stdout",
          "text": [
            "TensorFlow version: 2.14.0\n"
          ]
        }
      ]
    },
    {
      "cell_type": "code",
      "source": [
        "# Uncomment one of the following sections at a time to run it.\n",
        "\n",
        "# Option 1: Create a tensor filled with ones\n",
        "# t = tf.ones()\n",
        "\n",
        "# Option 2: Create a tensor filled with zeros with shape [5, 5, 5, 5]\n",
        "t = tf.zeros([5, 5, 5, 5])\n",
        "\n",
        "# 't' is initialized as a rank-4 tensor (4D tensor) filled with zeros. The shape of 't' is [5, 5, 5, 5].\n",
        "\n",
        "# Reshape 't' to a new shape [125, -1]\n",
        "t = tf.reshape(t, [125, -1])\n",
        "\n",
        "# Reshaping 't' to [125, -1] means that the size of the second dimension is inferred to make the total number of elements equal to the original tensor.\n",
        "# The '-1' is a placeholder that automatically calculates the size based on the other dimensions.\n",
        "\n",
        "# Print the reshaped tensor\n",
        "print(t)\n"
      ],
      "metadata": {
        "colab": {
          "base_uri": "https://localhost:8080/"
        },
        "id": "ZvuwpCd-Xmjn",
        "outputId": "538f3197-cc74-4afb-c347-0d9b089e81f0"
      },
      "execution_count": 40,
      "outputs": [
        {
          "output_type": "stream",
          "name": "stdout",
          "text": [
            "tf.Tensor(\n",
            "[[0. 0. 0. 0. 0.]\n",
            " [0. 0. 0. 0. 0.]\n",
            " [0. 0. 0. 0. 0.]\n",
            " [0. 0. 0. 0. 0.]\n",
            " [0. 0. 0. 0. 0.]\n",
            " [0. 0. 0. 0. 0.]\n",
            " [0. 0. 0. 0. 0.]\n",
            " [0. 0. 0. 0. 0.]\n",
            " [0. 0. 0. 0. 0.]\n",
            " [0. 0. 0. 0. 0.]\n",
            " [0. 0. 0. 0. 0.]\n",
            " [0. 0. 0. 0. 0.]\n",
            " [0. 0. 0. 0. 0.]\n",
            " [0. 0. 0. 0. 0.]\n",
            " [0. 0. 0. 0. 0.]\n",
            " [0. 0. 0. 0. 0.]\n",
            " [0. 0. 0. 0. 0.]\n",
            " [0. 0. 0. 0. 0.]\n",
            " [0. 0. 0. 0. 0.]\n",
            " [0. 0. 0. 0. 0.]\n",
            " [0. 0. 0. 0. 0.]\n",
            " [0. 0. 0. 0. 0.]\n",
            " [0. 0. 0. 0. 0.]\n",
            " [0. 0. 0. 0. 0.]\n",
            " [0. 0. 0. 0. 0.]\n",
            " [0. 0. 0. 0. 0.]\n",
            " [0. 0. 0. 0. 0.]\n",
            " [0. 0. 0. 0. 0.]\n",
            " [0. 0. 0. 0. 0.]\n",
            " [0. 0. 0. 0. 0.]\n",
            " [0. 0. 0. 0. 0.]\n",
            " [0. 0. 0. 0. 0.]\n",
            " [0. 0. 0. 0. 0.]\n",
            " [0. 0. 0. 0. 0.]\n",
            " [0. 0. 0. 0. 0.]\n",
            " [0. 0. 0. 0. 0.]\n",
            " [0. 0. 0. 0. 0.]\n",
            " [0. 0. 0. 0. 0.]\n",
            " [0. 0. 0. 0. 0.]\n",
            " [0. 0. 0. 0. 0.]\n",
            " [0. 0. 0. 0. 0.]\n",
            " [0. 0. 0. 0. 0.]\n",
            " [0. 0. 0. 0. 0.]\n",
            " [0. 0. 0. 0. 0.]\n",
            " [0. 0. 0. 0. 0.]\n",
            " [0. 0. 0. 0. 0.]\n",
            " [0. 0. 0. 0. 0.]\n",
            " [0. 0. 0. 0. 0.]\n",
            " [0. 0. 0. 0. 0.]\n",
            " [0. 0. 0. 0. 0.]\n",
            " [0. 0. 0. 0. 0.]\n",
            " [0. 0. 0. 0. 0.]\n",
            " [0. 0. 0. 0. 0.]\n",
            " [0. 0. 0. 0. 0.]\n",
            " [0. 0. 0. 0. 0.]\n",
            " [0. 0. 0. 0. 0.]\n",
            " [0. 0. 0. 0. 0.]\n",
            " [0. 0. 0. 0. 0.]\n",
            " [0. 0. 0. 0. 0.]\n",
            " [0. 0. 0. 0. 0.]\n",
            " [0. 0. 0. 0. 0.]\n",
            " [0. 0. 0. 0. 0.]\n",
            " [0. 0. 0. 0. 0.]\n",
            " [0. 0. 0. 0. 0.]\n",
            " [0. 0. 0. 0. 0.]\n",
            " [0. 0. 0. 0. 0.]\n",
            " [0. 0. 0. 0. 0.]\n",
            " [0. 0. 0. 0. 0.]\n",
            " [0. 0. 0. 0. 0.]\n",
            " [0. 0. 0. 0. 0.]\n",
            " [0. 0. 0. 0. 0.]\n",
            " [0. 0. 0. 0. 0.]\n",
            " [0. 0. 0. 0. 0.]\n",
            " [0. 0. 0. 0. 0.]\n",
            " [0. 0. 0. 0. 0.]\n",
            " [0. 0. 0. 0. 0.]\n",
            " [0. 0. 0. 0. 0.]\n",
            " [0. 0. 0. 0. 0.]\n",
            " [0. 0. 0. 0. 0.]\n",
            " [0. 0. 0. 0. 0.]\n",
            " [0. 0. 0. 0. 0.]\n",
            " [0. 0. 0. 0. 0.]\n",
            " [0. 0. 0. 0. 0.]\n",
            " [0. 0. 0. 0. 0.]\n",
            " [0. 0. 0. 0. 0.]\n",
            " [0. 0. 0. 0. 0.]\n",
            " [0. 0. 0. 0. 0.]\n",
            " [0. 0. 0. 0. 0.]\n",
            " [0. 0. 0. 0. 0.]\n",
            " [0. 0. 0. 0. 0.]\n",
            " [0. 0. 0. 0. 0.]\n",
            " [0. 0. 0. 0. 0.]\n",
            " [0. 0. 0. 0. 0.]\n",
            " [0. 0. 0. 0. 0.]\n",
            " [0. 0. 0. 0. 0.]\n",
            " [0. 0. 0. 0. 0.]\n",
            " [0. 0. 0. 0. 0.]\n",
            " [0. 0. 0. 0. 0.]\n",
            " [0. 0. 0. 0. 0.]\n",
            " [0. 0. 0. 0. 0.]\n",
            " [0. 0. 0. 0. 0.]\n",
            " [0. 0. 0. 0. 0.]\n",
            " [0. 0. 0. 0. 0.]\n",
            " [0. 0. 0. 0. 0.]\n",
            " [0. 0. 0. 0. 0.]\n",
            " [0. 0. 0. 0. 0.]\n",
            " [0. 0. 0. 0. 0.]\n",
            " [0. 0. 0. 0. 0.]\n",
            " [0. 0. 0. 0. 0.]\n",
            " [0. 0. 0. 0. 0.]\n",
            " [0. 0. 0. 0. 0.]\n",
            " [0. 0. 0. 0. 0.]\n",
            " [0. 0. 0. 0. 0.]\n",
            " [0. 0. 0. 0. 0.]\n",
            " [0. 0. 0. 0. 0.]\n",
            " [0. 0. 0. 0. 0.]\n",
            " [0. 0. 0. 0. 0.]\n",
            " [0. 0. 0. 0. 0.]\n",
            " [0. 0. 0. 0. 0.]\n",
            " [0. 0. 0. 0. 0.]\n",
            " [0. 0. 0. 0. 0.]\n",
            " [0. 0. 0. 0. 0.]\n",
            " [0. 0. 0. 0. 0.]\n",
            " [0. 0. 0. 0. 0.]\n",
            " [0. 0. 0. 0. 0.]], shape=(125, 5), dtype=float32)\n"
          ]
        }
      ]
    }
  ]
}