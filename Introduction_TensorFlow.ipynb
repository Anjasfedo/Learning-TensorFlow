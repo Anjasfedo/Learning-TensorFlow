{
  "nbformat": 4,
  "nbformat_minor": 0,
  "metadata": {
    "colab": {
      "provenance": [],
      "authorship_tag": "ABX9TyM8nOP+dtjiau/8PWgtQZ0v",
      "include_colab_link": true
    },
    "kernelspec": {
      "name": "python3",
      "display_name": "Python 3"
    },
    "language_info": {
      "name": "python"
    }
  },
  "cells": [
    {
      "cell_type": "markdown",
      "metadata": {
        "id": "view-in-github",
        "colab_type": "text"
      },
      "source": [
        "<a href=\"https://colab.research.google.com/github/G1A021037-ANJASFEDO/Learning-TensorFlow/blob/main/Introduction_TensorFlow.ipynb\" target=\"_parent\"><img src=\"https://colab.research.google.com/assets/colab-badge.svg\" alt=\"Open In Colab\"/></a>"
      ]
    },
    {
      "cell_type": "code",
      "execution_count": null,
      "metadata": {
        "id": "uCc8rqXiPZBF"
      },
      "outputs": [],
      "source": [
        "import tensorflow as tf"
      ]
    },
    {
      "cell_type": "markdown",
      "source": [
        "##Introduction"
      ],
      "metadata": {
        "id": "iRf_pKM7W1wB"
      }
    },
    {
      "cell_type": "markdown",
      "source": [
        "###Create Tensor"
      ],
      "metadata": {
        "id": "RrjALj-FRBt-"
      }
    },
    {
      "cell_type": "code",
      "source": [
        "string = tf.Variable(\"Anjas\", tf.string)\n",
        "number = tf.Variable(20, tf.int32)\n",
        "floats = tf.Variable(20.1, tf.float32)"
      ],
      "metadata": {
        "id": "IAGH7-UDQR1S"
      },
      "execution_count": null,
      "outputs": []
    },
    {
      "cell_type": "markdown",
      "source": [
        "###Rank/Degree"
      ],
      "metadata": {
        "id": "PxC9Gfw_RWjn"
      }
    },
    {
      "cell_type": "code",
      "source": [
        "rank1_tensor = tf.Variable([\"A\", \"B\", \"C\"], tf.string)\n",
        "rank2_tensor = tf.Variable([[\"A\", \"B\", \"C\"], [\"D\", \"E\", \"F\"]], tf.string)\n",
        "\n",
        "tf.rank(rank2_tensor)"
      ],
      "metadata": {
        "colab": {
          "base_uri": "https://localhost:8080/"
        },
        "id": "JfqAfWD8RbCe",
        "outputId": "60982380-d69e-4d3f-ae6f-6d3729a02693"
      },
      "execution_count": null,
      "outputs": [
        {
          "output_type": "execute_result",
          "data": {
            "text/plain": [
              "<tf.Tensor: shape=(), dtype=int32, numpy=2>"
            ]
          },
          "metadata": {},
          "execution_count": 13
        }
      ]
    },
    {
      "cell_type": "markdown",
      "source": [
        "###Shape of Tensor"
      ],
      "metadata": {
        "id": "VPjv9CS7Sai5"
      }
    },
    {
      "cell_type": "code",
      "source": [
        "rank2_tensor.shape"
      ],
      "metadata": {
        "colab": {
          "base_uri": "https://localhost:8080/"
        },
        "id": "QWW1FcxASc17",
        "outputId": "9d529b27-b34e-4bf2-b0f1-85a0107dd1c9"
      },
      "execution_count": null,
      "outputs": [
        {
          "output_type": "execute_result",
          "data": {
            "text/plain": [
              "TensorShape([2, 3])"
            ]
          },
          "metadata": {},
          "execution_count": 14
        }
      ]
    },
    {
      "cell_type": "markdown",
      "source": [
        "###Change Shape"
      ],
      "metadata": {
        "id": "z0bCnr0VT7A3"
      }
    },
    {
      "cell_type": "code",
      "source": [
        "tensor1 = tf.ones([1,2,3])\n",
        "tensor2 = tf.reshape(tensor1, [2,3,1])\n",
        "tensor3 = tf.reshape(tensor2, [3, -1])"
      ],
      "metadata": {
        "id": "F4hu8LY2T-Ol"
      },
      "execution_count": null,
      "outputs": []
    },
    {
      "cell_type": "code",
      "source": [
        "print(tensor1)\n",
        "print(tensor2)\n",
        "print(tensor3)"
      ],
      "metadata": {
        "colab": {
          "base_uri": "https://localhost:8080/"
        },
        "id": "EdywOwALUEnu",
        "outputId": "7b9ed282-0ddf-4793-9995-7833b63df653"
      },
      "execution_count": null,
      "outputs": [
        {
          "output_type": "stream",
          "name": "stdout",
          "text": [
            "tf.Tensor(\n",
            "[[[1. 1. 1.]\n",
            "  [1. 1. 1.]]], shape=(1, 2, 3), dtype=float32)\n",
            "tf.Tensor(\n",
            "[[[1.]\n",
            "  [1.]\n",
            "  [1.]]\n",
            "\n",
            " [[1.]\n",
            "  [1.]\n",
            "  [1.]]], shape=(2, 3, 1), dtype=float32)\n",
            "tf.Tensor(\n",
            "[[1. 1.]\n",
            " [1. 1.]\n",
            " [1. 1.]], shape=(3, 2), dtype=float32)\n"
          ]
        }
      ]
    },
    {
      "cell_type": "markdown",
      "source": [
        "###Type of Tensor"
      ],
      "metadata": {
        "id": "JgqgUNSRUYj9"
      }
    },
    {
      "cell_type": "markdown",
      "source": [
        "- Variable\n",
        "- Constant\n",
        "- Placeholder\n",
        "- SparseTensor\n",
        "except Variable, all of Tensor Type is immuttable"
      ],
      "metadata": {
        "id": "8K3ij8ZWUhtT"
      }
    },
    {
      "cell_type": "markdown",
      "source": [
        "###Evaluating Tensor"
      ],
      "metadata": {
        "id": "MPxa3jcLUx-x"
      }
    },
    {
      "cell_type": "code",
      "source": [
        "result = tensor2.numpy()\n",
        "\n",
        "print(result)"
      ],
      "metadata": {
        "colab": {
          "base_uri": "https://localhost:8080/"
        },
        "id": "wgVCwdxtVbpm",
        "outputId": "b0be21bc-c2ce-4faf-cb4d-e921890fa88f"
      },
      "execution_count": null,
      "outputs": [
        {
          "output_type": "stream",
          "name": "stdout",
          "text": [
            "[[[1.]\n",
            "  [1.]\n",
            "  [1.]]\n",
            "\n",
            " [[1.]\n",
            "  [1.]\n",
            "  [1.]]]\n"
          ]
        }
      ]
    }
  ]
}