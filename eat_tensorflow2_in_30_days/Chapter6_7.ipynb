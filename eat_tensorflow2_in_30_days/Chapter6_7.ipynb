{
  "nbformat": 4,
  "nbformat_minor": 0,
  "metadata": {
    "colab": {
      "provenance": [],
      "authorship_tag": "ABX9TyNBpnUd6HfXrtD3rVyaP6wN",
      "include_colab_link": true
    },
    "kernelspec": {
      "name": "python3",
      "display_name": "Python 3"
    },
    "language_info": {
      "name": "python"
    }
  },
  "cells": [
    {
      "cell_type": "markdown",
      "metadata": {
        "id": "view-in-github",
        "colab_type": "text"
      },
      "source": [
        "<a href=\"https://colab.research.google.com/github/Anjasfedo/Learning-TensorFlow/blob/main/eat_tensorflow2_in_30_days/Chapter6_7.ipynb\" target=\"_parent\"><img src=\"https://colab.research.google.com/assets/colab-badge.svg\" alt=\"Open In Colab\"/></a>"
      ]
    },
    {
      "cell_type": "markdown",
      "source": [
        "# 6-7 Call Tensorflow Model Using spark-scala"
      ],
      "metadata": {
        "id": "yJHWxjazTOvA"
      }
    },
    {
      "cell_type": "markdown",
      "source": [
        "This section introduce how to use the trained TensorFlow model to predict in spark.\n",
        "\n",
        "The prerequisite of this section is fundamental knowledge on spark and scala.\n",
        "\n",
        "It is easier to use pyspark, since it only requires loading model with Python on each executor and predict saparately.\n",
        "\n",
        "For the consideration of the performance, the spark in scala version is the most popular.\n",
        "\n",
        "This section shows how to use pretrained Tensorflow model in spark through TensorFlow for Java.\n",
        "\n",
        "It is possible to predict with the trained TensorFlow model in hundreds of thousands computers using the parallel computing feature of spark."
      ],
      "metadata": {
        "id": "qhcWdSJaTRKd"
      }
    },
    {
      "cell_type": "markdown",
      "source": [
        "## 0. Using TensorFlow model in spark-scala\n",
        "\n",
        "The necessary steps for predicting with trained TensorFlow model in spark (scala) are:\n",
        "- Preparing protobuf model file\n",
        "- Create a spark (scala) project, insert jar package dependencies for TensorFlow in Java.\n",
        "- Loading TensorFlow model on the driver end of spark (scala) project and debug it successfully.\n",
        "- Loading TensorFlow model on executor of spark (scala) project through RDD and debug it successfully.\n",
        "- Loading TensorFlow model on executor of spark (scala) project through Data and debug it successfully."
      ],
      "metadata": {
        "id": "ZEZaYtcYUOtT"
      }
    },
    {
      "cell_type": "markdown",
      "source": [
        "## 1. Preparing protobuf Model File\n",
        "\n",
        "Here trained simple linear regression model with `tf.keras` and save it as protobuf file."
      ],
      "metadata": {
        "id": "L1jbSjxVU6i1"
      }
    },
    {
      "cell_type": "code",
      "source": [
        "import tensorflow as tf\n",
        "from tensorflow.keras import models, layers, optimizers"
      ],
      "metadata": {
        "id": "2pIzisGHVNIz"
      },
      "execution_count": 1,
      "outputs": []
    },
    {
      "cell_type": "code",
      "source": [
        "# Number of samples\n",
        "n = 800"
      ],
      "metadata": {
        "id": "ROe5s-IpVNFH"
      },
      "execution_count": 2,
      "outputs": []
    },
    {
      "cell_type": "code",
      "source": [
        "# Generate testing dataset\n",
        "X = tf.random.uniform([n, 2], minval=-10, maxval=10)\n",
        "w0 = tf.constant([[2.0], [-1.0]])\n",
        "b0 = tf.constant(3.0)\n",
        "\n",
        "Y = X @ w0 + b0 + tf.random.normal([n, 1], mean=0.0, stddev=2.0)"
      ],
      "metadata": {
        "id": "DFBAgIVkVNAk"
      },
      "execution_count": 3,
      "outputs": []
    },
    {
      "cell_type": "code",
      "source": [
        "# Modeling\n",
        "tf.keras.backend.clear_session()\n",
        "\n",
        "inputs = layers.Input(shape=(2,), name='inputs')\n",
        "outputs = layers.Dense(1, name='outputs')(inputs)\n",
        "model = models.Model(inputs=inputs, outputs=outputs)\n",
        "model.summary()"
      ],
      "metadata": {
        "colab": {
          "base_uri": "https://localhost:8080/",
          "height": 204
        },
        "id": "UDeNdQg4VM8L",
        "outputId": "1dd916fe-d556-44a9-e4d9-fc5fa028d59d"
      },
      "execution_count": 5,
      "outputs": [
        {
          "output_type": "display_data",
          "data": {
            "text/plain": [
              "\u001b[1mModel: \"functional\"\u001b[0m\n"
            ],
            "text/html": [
              "<pre style=\"white-space:pre;overflow-x:auto;line-height:normal;font-family:Menlo,'DejaVu Sans Mono',consolas,'Courier New',monospace\"><span style=\"font-weight: bold\">Model: \"functional\"</span>\n",
              "</pre>\n"
            ]
          },
          "metadata": {}
        },
        {
          "output_type": "display_data",
          "data": {
            "text/plain": [
              "┏━━━━━━━━━━━━━━━━━━━━━━━━━━━━━━━━━━━━━━┳━━━━━━━━━━━━━━━━━━━━━━━━━━━━━┳━━━━━━━━━━━━━━━━━┓\n",
              "┃\u001b[1m \u001b[0m\u001b[1mLayer (type)                        \u001b[0m\u001b[1m \u001b[0m┃\u001b[1m \u001b[0m\u001b[1mOutput Shape               \u001b[0m\u001b[1m \u001b[0m┃\u001b[1m \u001b[0m\u001b[1m        Param #\u001b[0m\u001b[1m \u001b[0m┃\n",
              "┡━━━━━━━━━━━━━━━━━━━━━━━━━━━━━━━━━━━━━━╇━━━━━━━━━━━━━━━━━━━━━━━━━━━━━╇━━━━━━━━━━━━━━━━━┩\n",
              "│ inputs (\u001b[38;5;33mInputLayer\u001b[0m)                  │ (\u001b[38;5;45mNone\u001b[0m, \u001b[38;5;34m2\u001b[0m)                   │               \u001b[38;5;34m0\u001b[0m │\n",
              "├──────────────────────────────────────┼─────────────────────────────┼─────────────────┤\n",
              "│ outputs (\u001b[38;5;33mDense\u001b[0m)                      │ (\u001b[38;5;45mNone\u001b[0m, \u001b[38;5;34m1\u001b[0m)                   │               \u001b[38;5;34m3\u001b[0m │\n",
              "└──────────────────────────────────────┴─────────────────────────────┴─────────────────┘\n"
            ],
            "text/html": [
              "<pre style=\"white-space:pre;overflow-x:auto;line-height:normal;font-family:Menlo,'DejaVu Sans Mono',consolas,'Courier New',monospace\">┏━━━━━━━━━━━━━━━━━━━━━━━━━━━━━━━━━━━━━━┳━━━━━━━━━━━━━━━━━━━━━━━━━━━━━┳━━━━━━━━━━━━━━━━━┓\n",
              "┃<span style=\"font-weight: bold\"> Layer (type)                         </span>┃<span style=\"font-weight: bold\"> Output Shape                </span>┃<span style=\"font-weight: bold\">         Param # </span>┃\n",
              "┡━━━━━━━━━━━━━━━━━━━━━━━━━━━━━━━━━━━━━━╇━━━━━━━━━━━━━━━━━━━━━━━━━━━━━╇━━━━━━━━━━━━━━━━━┩\n",
              "│ inputs (<span style=\"color: #0087ff; text-decoration-color: #0087ff\">InputLayer</span>)                  │ (<span style=\"color: #00d7ff; text-decoration-color: #00d7ff\">None</span>, <span style=\"color: #00af00; text-decoration-color: #00af00\">2</span>)                   │               <span style=\"color: #00af00; text-decoration-color: #00af00\">0</span> │\n",
              "├──────────────────────────────────────┼─────────────────────────────┼─────────────────┤\n",
              "│ outputs (<span style=\"color: #0087ff; text-decoration-color: #0087ff\">Dense</span>)                      │ (<span style=\"color: #00d7ff; text-decoration-color: #00d7ff\">None</span>, <span style=\"color: #00af00; text-decoration-color: #00af00\">1</span>)                   │               <span style=\"color: #00af00; text-decoration-color: #00af00\">3</span> │\n",
              "└──────────────────────────────────────┴─────────────────────────────┴─────────────────┘\n",
              "</pre>\n"
            ]
          },
          "metadata": {}
        },
        {
          "output_type": "display_data",
          "data": {
            "text/plain": [
              "\u001b[1m Total params: \u001b[0m\u001b[38;5;34m3\u001b[0m (12.00 B)\n"
            ],
            "text/html": [
              "<pre style=\"white-space:pre;overflow-x:auto;line-height:normal;font-family:Menlo,'DejaVu Sans Mono',consolas,'Courier New',monospace\"><span style=\"font-weight: bold\"> Total params: </span><span style=\"color: #00af00; text-decoration-color: #00af00\">3</span> (12.00 B)\n",
              "</pre>\n"
            ]
          },
          "metadata": {}
        },
        {
          "output_type": "display_data",
          "data": {
            "text/plain": [
              "\u001b[1m Trainable params: \u001b[0m\u001b[38;5;34m3\u001b[0m (12.00 B)\n"
            ],
            "text/html": [
              "<pre style=\"white-space:pre;overflow-x:auto;line-height:normal;font-family:Menlo,'DejaVu Sans Mono',consolas,'Courier New',monospace\"><span style=\"font-weight: bold\"> Trainable params: </span><span style=\"color: #00af00; text-decoration-color: #00af00\">3</span> (12.00 B)\n",
              "</pre>\n"
            ]
          },
          "metadata": {}
        },
        {
          "output_type": "display_data",
          "data": {
            "text/plain": [
              "\u001b[1m Non-trainable params: \u001b[0m\u001b[38;5;34m0\u001b[0m (0.00 B)\n"
            ],
            "text/html": [
              "<pre style=\"white-space:pre;overflow-x:auto;line-height:normal;font-family:Menlo,'DejaVu Sans Mono',consolas,'Courier New',monospace\"><span style=\"font-weight: bold\"> Non-trainable params: </span><span style=\"color: #00af00; text-decoration-color: #00af00\">0</span> (0.00 B)\n",
              "</pre>\n"
            ]
          },
          "metadata": {}
        }
      ]
    },
    {
      "cell_type": "code",
      "source": [
        "# Train with fit method\n",
        "model.compile(optimizer='rmsprop', loss='mse', metrics=['mae'])\n",
        "model.fit(X, Y, epochs=100, batch_size=8)"
      ],
      "metadata": {
        "colab": {
          "base_uri": "https://localhost:8080/"
        },
        "id": "j5wnD2xoVM3o",
        "outputId": "e35cd14c-4d8e-4a1b-8022-d180dfa70f62"
      },
      "execution_count": 6,
      "outputs": [
        {
          "output_type": "stream",
          "name": "stdout",
          "text": [
            "Epoch 1/100\n",
            "\u001b[1m100/100\u001b[0m \u001b[32m━━━━━━━━━━━━━━━━━━━━\u001b[0m\u001b[37m\u001b[0m \u001b[1m1s\u001b[0m 2ms/step - loss: 229.6244 - mae: 12.9121\n",
            "Epoch 2/100\n",
            "\u001b[1m100/100\u001b[0m \u001b[32m━━━━━━━━━━━━━━━━━━━━\u001b[0m\u001b[37m\u001b[0m \u001b[1m0s\u001b[0m 2ms/step - loss: 193.6105 - mae: 11.7040\n",
            "Epoch 3/100\n",
            "\u001b[1m100/100\u001b[0m \u001b[32m━━━━━━━━━━━━━━━━━━━━\u001b[0m\u001b[37m\u001b[0m \u001b[1m0s\u001b[0m 2ms/step - loss: 189.5473 - mae: 11.5524\n",
            "Epoch 4/100\n",
            "\u001b[1m100/100\u001b[0m \u001b[32m━━━━━━━━━━━━━━━━━━━━\u001b[0m\u001b[37m\u001b[0m \u001b[1m1s\u001b[0m 5ms/step - loss: 179.9805 - mae: 11.4547\n",
            "Epoch 5/100\n",
            "\u001b[1m100/100\u001b[0m \u001b[32m━━━━━━━━━━━━━━━━━━━━\u001b[0m\u001b[37m\u001b[0m \u001b[1m0s\u001b[0m 3ms/step - loss: 166.9619 - mae: 11.0658\n",
            "Epoch 6/100\n",
            "\u001b[1m100/100\u001b[0m \u001b[32m━━━━━━━━━━━━━━━━━━━━\u001b[0m\u001b[37m\u001b[0m \u001b[1m1s\u001b[0m 3ms/step - loss: 161.3964 - mae: 10.8517\n",
            "Epoch 7/100\n",
            "\u001b[1m100/100\u001b[0m \u001b[32m━━━━━━━━━━━━━━━━━━━━\u001b[0m\u001b[37m\u001b[0m \u001b[1m0s\u001b[0m 2ms/step - loss: 137.0596 - mae: 9.9848\n",
            "Epoch 8/100\n",
            "\u001b[1m100/100\u001b[0m \u001b[32m━━━━━━━━━━━━━━━━━━━━\u001b[0m\u001b[37m\u001b[0m \u001b[1m0s\u001b[0m 3ms/step - loss: 126.6253 - mae: 9.4383\n",
            "Epoch 9/100\n",
            "\u001b[1m100/100\u001b[0m \u001b[32m━━━━━━━━━━━━━━━━━━━━\u001b[0m\u001b[37m\u001b[0m \u001b[1m1s\u001b[0m 2ms/step - loss: 116.3140 - mae: 9.1013\n",
            "Epoch 10/100\n",
            "\u001b[1m100/100\u001b[0m \u001b[32m━━━━━━━━━━━━━━━━━━━━\u001b[0m\u001b[37m\u001b[0m \u001b[1m0s\u001b[0m 2ms/step - loss: 106.9706 - mae: 8.8011\n",
            "Epoch 11/100\n",
            "\u001b[1m100/100\u001b[0m \u001b[32m━━━━━━━━━━━━━━━━━━━━\u001b[0m\u001b[37m\u001b[0m \u001b[1m0s\u001b[0m 3ms/step - loss: 99.6064 - mae: 8.4364 \n",
            "Epoch 12/100\n",
            "\u001b[1m100/100\u001b[0m \u001b[32m━━━━━━━━━━━━━━━━━━━━\u001b[0m\u001b[37m\u001b[0m \u001b[1m1s\u001b[0m 2ms/step - loss: 84.3549 - mae: 7.7931\n",
            "Epoch 13/100\n",
            "\u001b[1m100/100\u001b[0m \u001b[32m━━━━━━━━━━━━━━━━━━━━\u001b[0m\u001b[37m\u001b[0m \u001b[1m0s\u001b[0m 3ms/step - loss: 73.8839 - mae: 7.2311\n",
            "Epoch 14/100\n",
            "\u001b[1m100/100\u001b[0m \u001b[32m━━━━━━━━━━━━━━━━━━━━\u001b[0m\u001b[37m\u001b[0m \u001b[1m1s\u001b[0m 2ms/step - loss: 60.9175 - mae: 6.4439\n",
            "Epoch 15/100\n",
            "\u001b[1m100/100\u001b[0m \u001b[32m━━━━━━━━━━━━━━━━━━━━\u001b[0m\u001b[37m\u001b[0m \u001b[1m0s\u001b[0m 1ms/step - loss: 61.4363 - mae: 6.5877\n",
            "Epoch 16/100\n",
            "\u001b[1m100/100\u001b[0m \u001b[32m━━━━━━━━━━━━━━━━━━━━\u001b[0m\u001b[37m\u001b[0m \u001b[1m1s\u001b[0m 4ms/step - loss: 53.3498 - mae: 6.1349\n",
            "Epoch 17/100\n",
            "\u001b[1m100/100\u001b[0m \u001b[32m━━━━━━━━━━━━━━━━━━━━\u001b[0m\u001b[37m\u001b[0m \u001b[1m0s\u001b[0m 2ms/step - loss: 44.2935 - mae: 5.6191\n",
            "Epoch 18/100\n",
            "\u001b[1m100/100\u001b[0m \u001b[32m━━━━━━━━━━━━━━━━━━━━\u001b[0m\u001b[37m\u001b[0m \u001b[1m0s\u001b[0m 3ms/step - loss: 39.3323 - mae: 5.2934\n",
            "Epoch 19/100\n",
            "\u001b[1m100/100\u001b[0m \u001b[32m━━━━━━━━━━━━━━━━━━━━\u001b[0m\u001b[37m\u001b[0m \u001b[1m1s\u001b[0m 2ms/step - loss: 33.9649 - mae: 4.9492\n",
            "Epoch 20/100\n",
            "\u001b[1m100/100\u001b[0m \u001b[32m━━━━━━━━━━━━━━━━━━━━\u001b[0m\u001b[37m\u001b[0m \u001b[1m0s\u001b[0m 2ms/step - loss: 28.6355 - mae: 4.4652\n",
            "Epoch 21/100\n",
            "\u001b[1m100/100\u001b[0m \u001b[32m━━━━━━━━━━━━━━━━━━━━\u001b[0m\u001b[37m\u001b[0m \u001b[1m0s\u001b[0m 2ms/step - loss: 23.7266 - mae: 4.0621\n",
            "Epoch 22/100\n",
            "\u001b[1m100/100\u001b[0m \u001b[32m━━━━━━━━━━━━━━━━━━━━\u001b[0m\u001b[37m\u001b[0m \u001b[1m0s\u001b[0m 1ms/step - loss: 19.2927 - mae: 3.6451\n",
            "Epoch 23/100\n",
            "\u001b[1m100/100\u001b[0m \u001b[32m━━━━━━━━━━━━━━━━━━━━\u001b[0m\u001b[37m\u001b[0m \u001b[1m0s\u001b[0m 1ms/step - loss: 15.9094 - mae: 3.2610\n",
            "Epoch 24/100\n",
            "\u001b[1m100/100\u001b[0m \u001b[32m━━━━━━━━━━━━━━━━━━━━\u001b[0m\u001b[37m\u001b[0m \u001b[1m0s\u001b[0m 1ms/step - loss: 13.1200 - mae: 2.9381\n",
            "Epoch 25/100\n",
            "\u001b[1m100/100\u001b[0m \u001b[32m━━━━━━━━━━━━━━━━━━━━\u001b[0m\u001b[37m\u001b[0m \u001b[1m0s\u001b[0m 1ms/step - loss: 10.4681 - mae: 2.6575\n",
            "Epoch 26/100\n",
            "\u001b[1m100/100\u001b[0m \u001b[32m━━━━━━━━━━━━━━━━━━━━\u001b[0m\u001b[37m\u001b[0m \u001b[1m0s\u001b[0m 1ms/step - loss: 8.7477 - mae: 2.4065\n",
            "Epoch 27/100\n",
            "\u001b[1m100/100\u001b[0m \u001b[32m━━━━━━━━━━━━━━━━━━━━\u001b[0m\u001b[37m\u001b[0m \u001b[1m0s\u001b[0m 1ms/step - loss: 6.6618 - mae: 2.0863\n",
            "Epoch 28/100\n",
            "\u001b[1m100/100\u001b[0m \u001b[32m━━━━━━━━━━━━━━━━━━━━\u001b[0m\u001b[37m\u001b[0m \u001b[1m0s\u001b[0m 1ms/step - loss: 6.5481 - mae: 2.0841\n",
            "Epoch 29/100\n",
            "\u001b[1m100/100\u001b[0m \u001b[32m━━━━━━━━━━━━━━━━━━━━\u001b[0m\u001b[37m\u001b[0m \u001b[1m0s\u001b[0m 2ms/step - loss: 5.0913 - mae: 1.8456\n",
            "Epoch 30/100\n",
            "\u001b[1m100/100\u001b[0m \u001b[32m━━━━━━━━━━━━━━━━━━━━\u001b[0m\u001b[37m\u001b[0m \u001b[1m0s\u001b[0m 1ms/step - loss: 4.9069 - mae: 1.7642\n",
            "Epoch 31/100\n",
            "\u001b[1m100/100\u001b[0m \u001b[32m━━━━━━━━━━━━━━━━━━━━\u001b[0m\u001b[37m\u001b[0m \u001b[1m0s\u001b[0m 1ms/step - loss: 5.1795 - mae: 1.8101\n",
            "Epoch 32/100\n",
            "\u001b[1m100/100\u001b[0m \u001b[32m━━━━━━━━━━━━━━━━━━━━\u001b[0m\u001b[37m\u001b[0m \u001b[1m0s\u001b[0m 1ms/step - loss: 4.8533 - mae: 1.7611\n",
            "Epoch 33/100\n",
            "\u001b[1m100/100\u001b[0m \u001b[32m━━━━━━━━━━━━━━━━━━━━\u001b[0m\u001b[37m\u001b[0m \u001b[1m0s\u001b[0m 1ms/step - loss: 4.4858 - mae: 1.7138\n",
            "Epoch 34/100\n",
            "\u001b[1m100/100\u001b[0m \u001b[32m━━━━━━━━━━━━━━━━━━━━\u001b[0m\u001b[37m\u001b[0m \u001b[1m0s\u001b[0m 2ms/step - loss: 4.2532 - mae: 1.6525\n",
            "Epoch 35/100\n",
            "\u001b[1m100/100\u001b[0m \u001b[32m━━━━━━━━━━━━━━━━━━━━\u001b[0m\u001b[37m\u001b[0m \u001b[1m0s\u001b[0m 3ms/step - loss: 4.4130 - mae: 1.6450\n",
            "Epoch 36/100\n",
            "\u001b[1m100/100\u001b[0m \u001b[32m━━━━━━━━━━━━━━━━━━━━\u001b[0m\u001b[37m\u001b[0m \u001b[1m0s\u001b[0m 3ms/step - loss: 4.3588 - mae: 1.6627\n",
            "Epoch 37/100\n",
            "\u001b[1m100/100\u001b[0m \u001b[32m━━━━━━━━━━━━━━━━━━━━\u001b[0m\u001b[37m\u001b[0m \u001b[1m1s\u001b[0m 2ms/step - loss: 4.3819 - mae: 1.6896\n",
            "Epoch 38/100\n",
            "\u001b[1m100/100\u001b[0m \u001b[32m━━━━━━━━━━━━━━━━━━━━\u001b[0m\u001b[37m\u001b[0m \u001b[1m0s\u001b[0m 3ms/step - loss: 3.9382 - mae: 1.5832\n",
            "Epoch 39/100\n",
            "\u001b[1m100/100\u001b[0m \u001b[32m━━━━━━━━━━━━━━━━━━━━\u001b[0m\u001b[37m\u001b[0m \u001b[1m1s\u001b[0m 3ms/step - loss: 4.2786 - mae: 1.6431\n",
            "Epoch 40/100\n",
            "\u001b[1m100/100\u001b[0m \u001b[32m━━━━━━━━━━━━━━━━━━━━\u001b[0m\u001b[37m\u001b[0m \u001b[1m1s\u001b[0m 4ms/step - loss: 4.3061 - mae: 1.6275\n",
            "Epoch 41/100\n",
            "\u001b[1m100/100\u001b[0m \u001b[32m━━━━━━━━━━━━━━━━━━━━\u001b[0m\u001b[37m\u001b[0m \u001b[1m0s\u001b[0m 1ms/step - loss: 4.1870 - mae: 1.6556\n",
            "Epoch 42/100\n",
            "\u001b[1m100/100\u001b[0m \u001b[32m━━━━━━━━━━━━━━━━━━━━\u001b[0m\u001b[37m\u001b[0m \u001b[1m0s\u001b[0m 1ms/step - loss: 4.0373 - mae: 1.6173\n",
            "Epoch 43/100\n",
            "\u001b[1m100/100\u001b[0m \u001b[32m━━━━━━━━━━━━━━━━━━━━\u001b[0m\u001b[37m\u001b[0m \u001b[1m0s\u001b[0m 1ms/step - loss: 3.9271 - mae: 1.5776\n",
            "Epoch 44/100\n",
            "\u001b[1m100/100\u001b[0m \u001b[32m━━━━━━━━━━━━━━━━━━━━\u001b[0m\u001b[37m\u001b[0m \u001b[1m0s\u001b[0m 1ms/step - loss: 3.6162 - mae: 1.5336\n",
            "Epoch 45/100\n",
            "\u001b[1m100/100\u001b[0m \u001b[32m━━━━━━━━━━━━━━━━━━━━\u001b[0m\u001b[37m\u001b[0m \u001b[1m0s\u001b[0m 1ms/step - loss: 3.6012 - mae: 1.4846\n",
            "Epoch 46/100\n",
            "\u001b[1m100/100\u001b[0m \u001b[32m━━━━━━━━━━━━━━━━━━━━\u001b[0m\u001b[37m\u001b[0m \u001b[1m0s\u001b[0m 1ms/step - loss: 4.1645 - mae: 1.6489\n",
            "Epoch 47/100\n",
            "\u001b[1m100/100\u001b[0m \u001b[32m━━━━━━━━━━━━━━━━━━━━\u001b[0m\u001b[37m\u001b[0m \u001b[1m0s\u001b[0m 1ms/step - loss: 3.7775 - mae: 1.5437\n",
            "Epoch 48/100\n",
            "\u001b[1m100/100\u001b[0m \u001b[32m━━━━━━━━━━━━━━━━━━━━\u001b[0m\u001b[37m\u001b[0m \u001b[1m0s\u001b[0m 1ms/step - loss: 4.1796 - mae: 1.6291\n",
            "Epoch 49/100\n",
            "\u001b[1m100/100\u001b[0m \u001b[32m━━━━━━━━━━━━━━━━━━━━\u001b[0m\u001b[37m\u001b[0m \u001b[1m0s\u001b[0m 1ms/step - loss: 3.5555 - mae: 1.5157\n",
            "Epoch 50/100\n",
            "\u001b[1m100/100\u001b[0m \u001b[32m━━━━━━━━━━━━━━━━━━━━\u001b[0m\u001b[37m\u001b[0m \u001b[1m0s\u001b[0m 1ms/step - loss: 4.0824 - mae: 1.6026\n",
            "Epoch 51/100\n",
            "\u001b[1m100/100\u001b[0m \u001b[32m━━━━━━━━━━━━━━━━━━━━\u001b[0m\u001b[37m\u001b[0m \u001b[1m0s\u001b[0m 1ms/step - loss: 3.5950 - mae: 1.5068\n",
            "Epoch 52/100\n",
            "\u001b[1m100/100\u001b[0m \u001b[32m━━━━━━━━━━━━━━━━━━━━\u001b[0m\u001b[37m\u001b[0m \u001b[1m0s\u001b[0m 1ms/step - loss: 3.7896 - mae: 1.5540\n",
            "Epoch 53/100\n",
            "\u001b[1m100/100\u001b[0m \u001b[32m━━━━━━━━━━━━━━━━━━━━\u001b[0m\u001b[37m\u001b[0m \u001b[1m0s\u001b[0m 2ms/step - loss: 3.8245 - mae: 1.5631\n",
            "Epoch 54/100\n",
            "\u001b[1m100/100\u001b[0m \u001b[32m━━━━━━━━━━━━━━━━━━━━\u001b[0m\u001b[37m\u001b[0m \u001b[1m0s\u001b[0m 1ms/step - loss: 3.4965 - mae: 1.4658\n",
            "Epoch 55/100\n",
            "\u001b[1m100/100\u001b[0m \u001b[32m━━━━━━━━━━━━━━━━━━━━\u001b[0m\u001b[37m\u001b[0m \u001b[1m0s\u001b[0m 1ms/step - loss: 3.6466 - mae: 1.5439\n",
            "Epoch 56/100\n",
            "\u001b[1m100/100\u001b[0m \u001b[32m━━━━━━━━━━━━━━━━━━━━\u001b[0m\u001b[37m\u001b[0m \u001b[1m0s\u001b[0m 1ms/step - loss: 4.0438 - mae: 1.6197\n",
            "Epoch 57/100\n",
            "\u001b[1m100/100\u001b[0m \u001b[32m━━━━━━━━━━━━━━━━━━━━\u001b[0m\u001b[37m\u001b[0m \u001b[1m0s\u001b[0m 2ms/step - loss: 3.7730 - mae: 1.5538\n",
            "Epoch 58/100\n",
            "\u001b[1m100/100\u001b[0m \u001b[32m━━━━━━━━━━━━━━━━━━━━\u001b[0m\u001b[37m\u001b[0m \u001b[1m0s\u001b[0m 1ms/step - loss: 3.5519 - mae: 1.4994\n",
            "Epoch 59/100\n",
            "\u001b[1m100/100\u001b[0m \u001b[32m━━━━━━━━━━━━━━━━━━━━\u001b[0m\u001b[37m\u001b[0m \u001b[1m0s\u001b[0m 2ms/step - loss: 3.7826 - mae: 1.5560\n",
            "Epoch 60/100\n",
            "\u001b[1m100/100\u001b[0m \u001b[32m━━━━━━━━━━━━━━━━━━━━\u001b[0m\u001b[37m\u001b[0m \u001b[1m0s\u001b[0m 2ms/step - loss: 3.6040 - mae: 1.5075\n",
            "Epoch 61/100\n",
            "\u001b[1m100/100\u001b[0m \u001b[32m━━━━━━━━━━━━━━━━━━━━\u001b[0m\u001b[37m\u001b[0m \u001b[1m0s\u001b[0m 1ms/step - loss: 3.6220 - mae: 1.5173\n",
            "Epoch 62/100\n",
            "\u001b[1m100/100\u001b[0m \u001b[32m━━━━━━━━━━━━━━━━━━━━\u001b[0m\u001b[37m\u001b[0m \u001b[1m0s\u001b[0m 1ms/step - loss: 3.5485 - mae: 1.4745\n",
            "Epoch 63/100\n",
            "\u001b[1m100/100\u001b[0m \u001b[32m━━━━━━━━━━━━━━━━━━━━\u001b[0m\u001b[37m\u001b[0m \u001b[1m0s\u001b[0m 1ms/step - loss: 3.5160 - mae: 1.4963\n",
            "Epoch 64/100\n",
            "\u001b[1m100/100\u001b[0m \u001b[32m━━━━━━━━━━━━━━━━━━━━\u001b[0m\u001b[37m\u001b[0m \u001b[1m0s\u001b[0m 2ms/step - loss: 3.7235 - mae: 1.5620\n",
            "Epoch 65/100\n",
            "\u001b[1m100/100\u001b[0m \u001b[32m━━━━━━━━━━━━━━━━━━━━\u001b[0m\u001b[37m\u001b[0m \u001b[1m0s\u001b[0m 1ms/step - loss: 3.8390 - mae: 1.5559\n",
            "Epoch 66/100\n",
            "\u001b[1m100/100\u001b[0m \u001b[32m━━━━━━━━━━━━━━━━━━━━\u001b[0m\u001b[37m\u001b[0m \u001b[1m0s\u001b[0m 1ms/step - loss: 3.6475 - mae: 1.5411\n",
            "Epoch 67/100\n",
            "\u001b[1m100/100\u001b[0m \u001b[32m━━━━━━━━━━━━━━━━━━━━\u001b[0m\u001b[37m\u001b[0m \u001b[1m0s\u001b[0m 1ms/step - loss: 3.7211 - mae: 1.5326\n",
            "Epoch 68/100\n",
            "\u001b[1m100/100\u001b[0m \u001b[32m━━━━━━━━━━━━━━━━━━━━\u001b[0m\u001b[37m\u001b[0m \u001b[1m0s\u001b[0m 1ms/step - loss: 3.7752 - mae: 1.5656\n",
            "Epoch 69/100\n",
            "\u001b[1m100/100\u001b[0m \u001b[32m━━━━━━━━━━━━━━━━━━━━\u001b[0m\u001b[37m\u001b[0m \u001b[1m0s\u001b[0m 2ms/step - loss: 3.8934 - mae: 1.5762\n",
            "Epoch 70/100\n",
            "\u001b[1m100/100\u001b[0m \u001b[32m━━━━━━━━━━━━━━━━━━━━\u001b[0m\u001b[37m\u001b[0m \u001b[1m0s\u001b[0m 1ms/step - loss: 3.7065 - mae: 1.5200\n",
            "Epoch 71/100\n",
            "\u001b[1m100/100\u001b[0m \u001b[32m━━━━━━━━━━━━━━━━━━━━\u001b[0m\u001b[37m\u001b[0m \u001b[1m0s\u001b[0m 2ms/step - loss: 4.0116 - mae: 1.5905\n",
            "Epoch 72/100\n",
            "\u001b[1m100/100\u001b[0m \u001b[32m━━━━━━━━━━━━━━━━━━━━\u001b[0m\u001b[37m\u001b[0m \u001b[1m0s\u001b[0m 1ms/step - loss: 3.8304 - mae: 1.5615\n",
            "Epoch 73/100\n",
            "\u001b[1m100/100\u001b[0m \u001b[32m━━━━━━━━━━━━━━━━━━━━\u001b[0m\u001b[37m\u001b[0m \u001b[1m0s\u001b[0m 1ms/step - loss: 3.3763 - mae: 1.4513\n",
            "Epoch 74/100\n",
            "\u001b[1m100/100\u001b[0m \u001b[32m━━━━━━━━━━━━━━━━━━━━\u001b[0m\u001b[37m\u001b[0m \u001b[1m0s\u001b[0m 1ms/step - loss: 3.9450 - mae: 1.6018\n",
            "Epoch 75/100\n",
            "\u001b[1m100/100\u001b[0m \u001b[32m━━━━━━━━━━━━━━━━━━━━\u001b[0m\u001b[37m\u001b[0m \u001b[1m1s\u001b[0m 3ms/step - loss: 3.9535 - mae: 1.5796\n",
            "Epoch 76/100\n",
            "\u001b[1m100/100\u001b[0m \u001b[32m━━━━━━━━━━━━━━━━━━━━\u001b[0m\u001b[37m\u001b[0m \u001b[1m0s\u001b[0m 1ms/step - loss: 3.8458 - mae: 1.5611\n",
            "Epoch 77/100\n",
            "\u001b[1m100/100\u001b[0m \u001b[32m━━━━━━━━━━━━━━━━━━━━\u001b[0m\u001b[37m\u001b[0m \u001b[1m0s\u001b[0m 3ms/step - loss: 3.6465 - mae: 1.5302\n",
            "Epoch 78/100\n",
            "\u001b[1m100/100\u001b[0m \u001b[32m━━━━━━━━━━━━━━━━━━━━\u001b[0m\u001b[37m\u001b[0m \u001b[1m0s\u001b[0m 1ms/step - loss: 3.8285 - mae: 1.5757\n",
            "Epoch 79/100\n",
            "\u001b[1m100/100\u001b[0m \u001b[32m━━━━━━━━━━━━━━━━━━━━\u001b[0m\u001b[37m\u001b[0m \u001b[1m0s\u001b[0m 3ms/step - loss: 3.7632 - mae: 1.5289\n",
            "Epoch 80/100\n",
            "\u001b[1m100/100\u001b[0m \u001b[32m━━━━━━━━━━━━━━━━━━━━\u001b[0m\u001b[37m\u001b[0m \u001b[1m1s\u001b[0m 2ms/step - loss: 3.5874 - mae: 1.5381\n",
            "Epoch 81/100\n",
            "\u001b[1m100/100\u001b[0m \u001b[32m━━━━━━━━━━━━━━━━━━━━\u001b[0m\u001b[37m\u001b[0m \u001b[1m0s\u001b[0m 2ms/step - loss: 3.8234 - mae: 1.5468\n",
            "Epoch 82/100\n",
            "\u001b[1m100/100\u001b[0m \u001b[32m━━━━━━━━━━━━━━━━━━━━\u001b[0m\u001b[37m\u001b[0m \u001b[1m0s\u001b[0m 3ms/step - loss: 4.0249 - mae: 1.5862\n",
            "Epoch 83/100\n",
            "\u001b[1m100/100\u001b[0m \u001b[32m━━━━━━━━━━━━━━━━━━━━\u001b[0m\u001b[37m\u001b[0m \u001b[1m1s\u001b[0m 3ms/step - loss: 3.5574 - mae: 1.5199\n",
            "Epoch 84/100\n",
            "\u001b[1m100/100\u001b[0m \u001b[32m━━━━━━━━━━━━━━━━━━━━\u001b[0m\u001b[37m\u001b[0m \u001b[1m0s\u001b[0m 2ms/step - loss: 4.0646 - mae: 1.5948\n",
            "Epoch 85/100\n",
            "\u001b[1m100/100\u001b[0m \u001b[32m━━━━━━━━━━━━━━━━━━━━\u001b[0m\u001b[37m\u001b[0m \u001b[1m0s\u001b[0m 3ms/step - loss: 3.7659 - mae: 1.5696\n",
            "Epoch 86/100\n",
            "\u001b[1m100/100\u001b[0m \u001b[32m━━━━━━━━━━━━━━━━━━━━\u001b[0m\u001b[37m\u001b[0m \u001b[1m1s\u001b[0m 2ms/step - loss: 4.0989 - mae: 1.6237\n",
            "Epoch 87/100\n",
            "\u001b[1m100/100\u001b[0m \u001b[32m━━━━━━━━━━━━━━━━━━━━\u001b[0m\u001b[37m\u001b[0m \u001b[1m0s\u001b[0m 1ms/step - loss: 4.1276 - mae: 1.6304\n",
            "Epoch 88/100\n",
            "\u001b[1m100/100\u001b[0m \u001b[32m━━━━━━━━━━━━━━━━━━━━\u001b[0m\u001b[37m\u001b[0m \u001b[1m0s\u001b[0m 1ms/step - loss: 3.7585 - mae: 1.5526\n",
            "Epoch 89/100\n",
            "\u001b[1m100/100\u001b[0m \u001b[32m━━━━━━━━━━━━━━━━━━━━\u001b[0m\u001b[37m\u001b[0m \u001b[1m0s\u001b[0m 3ms/step - loss: 3.7894 - mae: 1.5602\n",
            "Epoch 90/100\n",
            "\u001b[1m100/100\u001b[0m \u001b[32m━━━━━━━━━━━━━━━━━━━━\u001b[0m\u001b[37m\u001b[0m \u001b[1m0s\u001b[0m 1ms/step - loss: 3.5170 - mae: 1.4842\n",
            "Epoch 91/100\n",
            "\u001b[1m100/100\u001b[0m \u001b[32m━━━━━━━━━━━━━━━━━━━━\u001b[0m\u001b[37m\u001b[0m \u001b[1m0s\u001b[0m 1ms/step - loss: 3.5198 - mae: 1.4876\n",
            "Epoch 92/100\n",
            "\u001b[1m100/100\u001b[0m \u001b[32m━━━━━━━━━━━━━━━━━━━━\u001b[0m\u001b[37m\u001b[0m \u001b[1m0s\u001b[0m 2ms/step - loss: 3.6789 - mae: 1.5223\n",
            "Epoch 93/100\n",
            "\u001b[1m100/100\u001b[0m \u001b[32m━━━━━━━━━━━━━━━━━━━━\u001b[0m\u001b[37m\u001b[0m \u001b[1m0s\u001b[0m 1ms/step - loss: 3.6970 - mae: 1.5217\n",
            "Epoch 94/100\n",
            "\u001b[1m100/100\u001b[0m \u001b[32m━━━━━━━━━━━━━━━━━━━━\u001b[0m\u001b[37m\u001b[0m \u001b[1m0s\u001b[0m 1ms/step - loss: 4.0667 - mae: 1.6010\n",
            "Epoch 95/100\n",
            "\u001b[1m100/100\u001b[0m \u001b[32m━━━━━━━━━━━━━━━━━━━━\u001b[0m\u001b[37m\u001b[0m \u001b[1m0s\u001b[0m 1ms/step - loss: 4.1278 - mae: 1.6353\n",
            "Epoch 96/100\n",
            "\u001b[1m100/100\u001b[0m \u001b[32m━━━━━━━━━━━━━━━━━━━━\u001b[0m\u001b[37m\u001b[0m \u001b[1m0s\u001b[0m 1ms/step - loss: 3.8614 - mae: 1.5671\n",
            "Epoch 97/100\n",
            "\u001b[1m100/100\u001b[0m \u001b[32m━━━━━━━━━━━━━━━━━━━━\u001b[0m\u001b[37m\u001b[0m \u001b[1m0s\u001b[0m 1ms/step - loss: 3.5193 - mae: 1.5032\n",
            "Epoch 98/100\n",
            "\u001b[1m100/100\u001b[0m \u001b[32m━━━━━━━━━━━━━━━━━━━━\u001b[0m\u001b[37m\u001b[0m \u001b[1m0s\u001b[0m 1ms/step - loss: 3.7133 - mae: 1.5466\n",
            "Epoch 99/100\n",
            "\u001b[1m100/100\u001b[0m \u001b[32m━━━━━━━━━━━━━━━━━━━━\u001b[0m\u001b[37m\u001b[0m \u001b[1m0s\u001b[0m 1ms/step - loss: 3.7739 - mae: 1.5413\n",
            "Epoch 100/100\n",
            "\u001b[1m100/100\u001b[0m \u001b[32m━━━━━━━━━━━━━━━━━━━━\u001b[0m\u001b[37m\u001b[0m \u001b[1m0s\u001b[0m 1ms/step - loss: 3.7839 - mae: 1.5334\n"
          ]
        },
        {
          "output_type": "execute_result",
          "data": {
            "text/plain": [
              "<keras.src.callbacks.history.History at 0x7e8cde609480>"
            ]
          },
          "metadata": {},
          "execution_count": 6
        }
      ]
    },
    {
      "cell_type": "code",
      "source": [
        "print(f'w: {model.layers[1].kernel}')\n",
        "print(f'b: {model.layers[1].bias}')"
      ],
      "metadata": {
        "colab": {
          "base_uri": "https://localhost:8080/"
        },
        "id": "IQhymv_yVMy9",
        "outputId": "12c7be93-f185-4bad-bf37-8cab9c85aa8f"
      },
      "execution_count": 9,
      "outputs": [
        {
          "output_type": "stream",
          "name": "stdout",
          "text": [
            "w: <KerasVariable shape=(2, 1), dtype=float32, path=outputs/kernel>\n",
            "b: <KerasVariable shape=(1,), dtype=float32, path=outputs/bias>\n"
          ]
        }
      ]
    },
    {
      "cell_type": "code",
      "source": [
        "# Save the model\n",
        "export_path = '/content/model/'\n",
        "version = '1'\n",
        "tf.saved_model.save(model, export_path + version)"
      ],
      "metadata": {
        "id": "ZN9xc5xtVMu8"
      },
      "execution_count": 12,
      "outputs": []
    },
    {
      "cell_type": "code",
      "source": [
        "!ls {export_path + version}"
      ],
      "metadata": {
        "colab": {
          "base_uri": "https://localhost:8080/"
        },
        "id": "MrErYNvTVMqt",
        "outputId": "317a460e-70fd-40b8-f6ab-714488f93e33"
      },
      "execution_count": 14,
      "outputs": [
        {
          "output_type": "stream",
          "name": "stdout",
          "text": [
            "assets\tfingerprint.pb\tsaved_model.pb\tvariables\n"
          ]
        }
      ]
    },
    {
      "cell_type": "code",
      "source": [
        "!saved_model_cli show --dir {export_path + version} --all"
      ],
      "metadata": {
        "colab": {
          "base_uri": "https://localhost:8080/"
        },
        "id": "7e8LCrpqWca-",
        "outputId": "27cffddf-eb40-4b41-9d5a-815e3731515f"
      },
      "execution_count": 15,
      "outputs": [
        {
          "output_type": "stream",
          "name": "stdout",
          "text": [
            "2024-08-06 01:42:22.421622: E external/local_xla/xla/stream_executor/cuda/cuda_fft.cc:485] Unable to register cuFFT factory: Attempting to register factory for plugin cuFFT when one has already been registered\n",
            "2024-08-06 01:42:22.455905: E external/local_xla/xla/stream_executor/cuda/cuda_dnn.cc:8454] Unable to register cuDNN factory: Attempting to register factory for plugin cuDNN when one has already been registered\n",
            "2024-08-06 01:42:22.464964: E external/local_xla/xla/stream_executor/cuda/cuda_blas.cc:1452] Unable to register cuBLAS factory: Attempting to register factory for plugin cuBLAS when one has already been registered\n",
            "2024-08-06 01:42:24.171959: W tensorflow/compiler/tf2tensorrt/utils/py_utils.cc:38] TF-TRT Warning: Could not find TensorRT\n",
            "\n",
            "MetaGraphDef with tag-set: 'serve' contains the following SignatureDefs:\n",
            "\n",
            "signature_def['__saved_model_init_op']:\n",
            "  The given SavedModel SignatureDef contains the following input(s):\n",
            "  The given SavedModel SignatureDef contains the following output(s):\n",
            "    outputs['__saved_model_init_op'] tensor_info:\n",
            "        dtype: DT_INVALID\n",
            "        shape: unknown_rank\n",
            "        name: NoOp\n",
            "  Method name is: \n",
            "\n",
            "signature_def['serving_default']:\n",
            "  The given SavedModel SignatureDef contains the following input(s):\n",
            "    inputs['inputs'] tensor_info:\n",
            "        dtype: DT_FLOAT\n",
            "        shape: (-1, 2)\n",
            "        name: serving_default_inputs:0\n",
            "  The given SavedModel SignatureDef contains the following output(s):\n",
            "    outputs['output_0'] tensor_info:\n",
            "        dtype: DT_FLOAT\n",
            "        shape: (-1, 1)\n",
            "        name: StatefulPartitionedCall:0\n",
            "  Method name is: tensorflow/serving/predict\n",
            "The MetaGraph with tag set ['serve'] contains the following ops: {'VarIsInitializedOp', 'Const', 'MergeV2Checkpoints', 'AddV2', 'Pack', 'StringJoin', 'AssignVariableOp', 'VarHandleOp', 'DisableCopyOnRead', 'ReadVariableOp', 'ShardedFilename', 'Identity', 'RestoreV2', 'StatefulPartitionedCall', 'StaticRegexFullMatch', 'Placeholder', 'SaveV2', 'Select', 'NoOp', 'MatMul'}\n",
            "\n",
            "Concrete Functions:\n",
            "  Function Name: '_default_save_signature'\n",
            "    Option #1\n",
            "      Callable with:\n",
            "        Argument #1\n",
            "          inputs: TensorSpec(shape=(None, 2), dtype=tf.float32, name='inputs')\n"
          ]
        }
      ]
    },
    {
      "cell_type": "markdown",
      "source": [
        "## 2. Create a spark (scala) project, insert jar package dependencies for TensorFlow in Java.\n",
        "\n",
        "Need to add following jar package dependency if use maven to manage projects"
      ],
      "metadata": {
        "id": "OMoJKzPmWj80"
      }
    },
    {
      "cell_type": "markdown",
      "source": [
        "```\n",
        "<!-- https://mvnrepository.com/artifact/org.tensorflow/tensorflow -->\n",
        "<dependency>\n",
        "    <groupId>org.tensorflow</groupId>\n",
        "    <artifactId>tensorflow</artifactId>\n",
        "    <version>1.15.0</version>\n",
        "</dependency>\n",
        "```"
      ],
      "metadata": {
        "id": "IXj9f8cUWwF2"
      }
    },
    {
      "cell_type": "markdown",
      "source": [
        "May also download the jar package `org.tensorflow.tensorflow`, together with depended `org.tensorflow.libtensorflow` and `org.tensorflow.libtensorflow_jni` from the following link, then add all of them into the project.\n",
        "\n",
        "https://mvnrepository.com/artifact/org.tensorflow/tensorflow/1.15.0"
      ],
      "metadata": {
        "id": "cgilqpKjWyyq"
      }
    },
    {
      "cell_type": "markdown",
      "source": [
        "## 3. Loading Tensorflow Model on the driver end of spark (scala) project and debug it successfully\n",
        "\n",
        "The following demonstration is run in jupyter notebook. Need to install toree to have it support spark (scala)"
      ],
      "metadata": {
        "id": "SZNgIvS-XJDU"
      }
    },
    {
      "cell_type": "markdown",
      "source": [
        "\n",
        "\n",
        "```\n",
        "import scala.collection.mutable.WrappedArray\n",
        "import org.{tensorflow=>tf}\n",
        "\n",
        "//Note: the second argument of the load function should be \"serve\"; the related info could be found from the model file.\n",
        "\n",
        "val bundle = tf.SavedModelBundle\n",
        "   .load(\"/Users/liangyun/CodeFiles/eat_tensorflow2_in_30_days/data/linear_model/1\",\"serve\")\n",
        "\n",
        "//Note: for the Java version TensorFlow uses static graph as TensorFlow 1.X, i.e. use `Session`, then explicit data to feed and results to fetch, and finally run it.\n",
        "//Note: multiple feed methods could be used consequetively when we need to feed multiple data.\n",
        "//Note: the input must be in the type of float\n",
        "\n",
        "val sess = bundle.session()\n",
        "val x = tf.Tensor.create(Array(Array(1.0f,2.0f),Array(2.0f,3.0f)))\n",
        "val y =  sess.runner().feed(\"serving_default_inputs:0\", x)\n",
        "         .fetch(\"StatefulPartitionedCall:0\").run().get(0)\n",
        "\n",
        "val result = Array.ofDim[Float](y.shape()(0).toInt,y.shape()(1).toInt)\n",
        "y.copyTo(result)\n",
        "\n",
        "if(x != null) x.close()\n",
        "if(y != null) y.close()\n",
        "if(sess != null) sess.close()\n",
        "if(bundle != null) bundle.close()  \n",
        "\n",
        "result\n",
        "```\n",
        "\n"
      ],
      "metadata": {
        "id": "lGWHxa2-XpRd"
      }
    },
    {
      "cell_type": "markdown",
      "source": [
        "With output:\n",
        "\n",
        "```\n",
        "Array(Array(3.019596), Array(3.9878292))\n",
        "```\n"
      ],
      "metadata": {
        "id": "lpSj1QvCXvd1"
      }
    },
    {
      "cell_type": "markdown",
      "source": [
        "## 4. Loading TensorFLow model on executor of spark (scala) project through RDD and debug it successfully\n",
        "\n",
        "Here transer the TensorFlow model loaded on the Driver end to each executor through broadcasting, and predict with distributed computing on all the executors."
      ],
      "metadata": {
        "id": "ynCJP8tVXzST"
      }
    },
    {
      "cell_type": "markdown",
      "source": [
        "\n",
        "\n",
        "```\n",
        "import org.apache.spark.sql.SparkSession\n",
        "import scala.collection.mutable.WrappedArray\n",
        "import org.{tensorflow=>tf}\n",
        "\n",
        "val spark = SparkSession\n",
        "    .builder()\n",
        "    .appName(\"TfRDD\")\n",
        "    .enableHiveSupport()\n",
        "    .getOrCreate()\n",
        "\n",
        "val sc = spark.sparkContext\n",
        "\n",
        "// Loading model on Driver end\n",
        "val bundle = tf.SavedModelBundle\n",
        "   .load(\"/Users/liangyun/CodeFiles/master_tensorflow2_in_20_hours/data/linear_model/1\",\"serve\")\n",
        "\n",
        "// Broadcasting the model to all the executors\n",
        "val broads = sc.broadcast(bundle)\n",
        "\n",
        "// Creating dataset\n",
        "val rdd_data = sc.makeRDD(List(Array(1.0f,2.0f),Array(3.0f,5.0f),Array(6.0f,7.0f),Array(8.0f,3.0f)))\n",
        "\n",
        "// Predicting in batch by using the model through mapPartitions\n",
        "val rdd_result = rdd_data.mapPartitions(iter => {\n",
        "    \n",
        "    val arr = iter.toArray\n",
        "    val model = broads.value\n",
        "    val sess = model.session()\n",
        "    val x = tf.Tensor.create(arr)\n",
        "    val y =  sess.runner().feed(\"serving_default_inputs:0\", x)\n",
        "             .fetch(\"StatefulPartitionedCall:0\").run().get(0)\n",
        "\n",
        "    // Copy the prediction into the Array in type Float with the same shape\n",
        "    val result = Array.ofDim[Float](y.shape()(0).toInt,y.shape()(1).toInt)\n",
        "    y.copyTo(result)\n",
        "    result.iterator\n",
        "    \n",
        "})\n",
        "\n",
        "\n",
        "rdd_result.take(5)\n",
        "bundle.close\n",
        "```\n",
        "\n"
      ],
      "metadata": {
        "id": "AMuHfxXbYEue"
      }
    },
    {
      "cell_type": "markdown",
      "source": [
        "With output:\n",
        "\n",
        "```\n",
        "Array(Array(3.019596), Array(3.9264367), Array(7.8607616), Array(15.974984))\n",
        "```"
      ],
      "metadata": {
        "id": "32TUXCXeYHdb"
      }
    },
    {
      "cell_type": "markdown",
      "source": [
        "## 5. Loading TensorFlow model on executor of spark (scala) project through Data and debug it successfully\n",
        "\n",
        "The disctibuted prediction using TensorFlow model could also be implemented on DataFrame data, besides implementing on RDD data in spark.\n",
        "\n",
        "It could be done through registering the method of prediction as sparkSQL function."
      ],
      "metadata": {
        "id": "0xXySujMYLEL"
      }
    },
    {
      "cell_type": "markdown",
      "source": [
        "\n",
        "\n",
        "```\n",
        "import org.apache.spark.sql.SparkSession\n",
        "import scala.collection.mutable.WrappedArray\n",
        "import org.{tensorflow=>tf}\n",
        "\n",
        "object TfDataFrame extends Serializable{\n",
        "    \n",
        "    \n",
        "    def main(args:Array[String]):Unit = {\n",
        "        \n",
        "        val spark = SparkSession\n",
        "        .builder()\n",
        "        .appName(\"TfDataFrame\")\n",
        "        .enableHiveSupport()\n",
        "        .getOrCreate()\n",
        "        val sc = spark.sparkContext\n",
        "        \n",
        "        \n",
        "        import spark.implicits._\n",
        "\n",
        "        val bundle = tf.SavedModelBundle\n",
        "           .load(\"/Users/liangyun/CodeFiles/master_tensorflow2_in_20_hours/data/linear_model/1\",\"serve\")\n",
        "\n",
        "        val broads = sc.broadcast(bundle)\n",
        "        \n",
        "        // Construct the prediction function and register it as udf of sparkSQL\n",
        "        val tfpredict = (features:WrappedArray[Float])  => {\n",
        "            val bund = broads.value\n",
        "            val sess = bund.session()\n",
        "            val x = tf.Tensor.create(Array(features.toArray))\n",
        "            val y =  sess.runner().feed(\"serving_default_inputs:0\", x)\n",
        "                     .fetch(\"StatefulPartitionedCall:0\").run().get(0)\n",
        "            val result = Array.ofDim[Float](y.shape()(0).toInt,y.shape()(1).toInt)\n",
        "            y.copyTo(result)\n",
        "            val y_pred = result(0)(0)\n",
        "            y_pred\n",
        "        }\n",
        "        spark.udf.register(\"tfpredict\",tfpredict)\n",
        "        \n",
        "        // Creating DataFrame dataset, and put the features into one of the columns\n",
        "        val dfdata = sc.parallelize(List(Array(1.0f,2.0f),Array(3.0f,5.0f),Array(7.0f,8.0f))).toDF(\"features\")\n",
        "        dfdata.show\n",
        "        \n",
        "        // Call the sparkSQL predicting function, add a new column as y_preds\n",
        "        val dfresult = dfdata.selectExpr(\"features\",\"tfpredict(features) as y_preds\")\n",
        "        dfresult.show\n",
        "        bundle.close\n",
        "    }\n",
        "}\n",
        "```\n",
        "\n"
      ],
      "metadata": {
        "id": "kIX8BILPYglt"
      }
    },
    {
      "cell_type": "markdown",
      "source": [
        "\n",
        "\n",
        "```\n",
        "TfDataFrame.main(Array())\n",
        "```\n",
        "\n"
      ],
      "metadata": {
        "id": "oebIJ2_aYjbL"
      }
    },
    {
      "cell_type": "markdown",
      "source": [
        "```\n",
        "+----------+\n",
        "|  features|\n",
        "+----------+\n",
        "|[1.0, 2.0]|\n",
        "|[3.0, 5.0]|\n",
        "|[7.0, 8.0]|\n",
        "+----------+\n",
        "\n",
        "+----------+---------+\n",
        "|  features|  y_preds|\n",
        "+----------+---------+\n",
        "|[1.0, 2.0]| 3.019596|\n",
        "|[3.0, 5.0]|3.9264367|\n",
        "|[7.0, 8.0]| 8.828995|\n",
        "+----------+---------+\n",
        "```"
      ],
      "metadata": {
        "id": "XsIHDNNDYklb"
      }
    },
    {
      "cell_type": "code",
      "source": [],
      "metadata": {
        "id": "p0eq3fhgWcOb"
      },
      "execution_count": null,
      "outputs": []
    },
    {
      "cell_type": "code",
      "source": [],
      "metadata": {
        "id": "y62uhfvPWcKD"
      },
      "execution_count": null,
      "outputs": []
    },
    {
      "cell_type": "code",
      "source": [],
      "metadata": {
        "id": "5lQ42oxeWcFj"
      },
      "execution_count": null,
      "outputs": []
    },
    {
      "cell_type": "code",
      "source": [],
      "metadata": {
        "id": "DD2em_CUWcBb"
      },
      "execution_count": null,
      "outputs": []
    },
    {
      "cell_type": "code",
      "source": [],
      "metadata": {
        "id": "UdDETm7wWb9D"
      },
      "execution_count": null,
      "outputs": []
    },
    {
      "cell_type": "code",
      "execution_count": null,
      "metadata": {
        "id": "mOB40-bhTJ0s"
      },
      "outputs": [],
      "source": []
    }
  ]
}