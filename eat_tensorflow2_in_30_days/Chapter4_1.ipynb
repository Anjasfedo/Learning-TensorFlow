{
  "nbformat": 4,
  "nbformat_minor": 0,
  "metadata": {
    "colab": {
      "provenance": [],
      "authorship_tag": "ABX9TyN8VhHCQs25PnIs31R762Ju",
      "include_colab_link": true
    },
    "kernelspec": {
      "name": "python3",
      "display_name": "Python 3"
    },
    "language_info": {
      "name": "python"
    }
  },
  "cells": [
    {
      "cell_type": "markdown",
      "metadata": {
        "id": "view-in-github",
        "colab_type": "text"
      },
      "source": [
        "<a href=\"https://colab.research.google.com/github/Anjasfedo/Learning-TensorFlow/blob/main/eat_tensorflow2_in_30_days/Chapter4_1.ipynb\" target=\"_parent\"><img src=\"https://colab.research.google.com/assets/colab-badge.svg\" alt=\"Open In Colab\"/></a>"
      ]
    },
    {
      "cell_type": "markdown",
      "source": [
        "# 4-1 Structural Operations of the Tensor"
      ],
      "metadata": {
        "id": "GEW_Ydkn0c1q"
      }
    },
    {
      "cell_type": "markdown",
      "source": [
        "Tensor operation includes structural operation and mathematical operation.\n",
        "\n",
        "The structural operation includes tensor creatioon, index slicing, dimension transform, combining & splitting, etc.\n",
        "\n",
        "The mathematical operation includes scalar operation, vector operation, and matrix operation. also the broadcasting mechanism of tensor operation.\n",
        "\n",
        "This section is about the structural operation of tensor."
      ],
      "metadata": {
        "id": "ehl3YgWL0hQE"
      }
    },
    {
      "cell_type": "markdown",
      "source": [
        "## 1. Creating Tensor\n",
        "\n",
        "Tensor creation is similar to array creation in numpy."
      ],
      "metadata": {
        "id": "fB910uf90_MP"
      }
    },
    {
      "cell_type": "code",
      "source": [
        "import tensorflow as tf\n",
        "import numpy as np"
      ],
      "metadata": {
        "id": "djObiTdj0gfR"
      },
      "execution_count": 1,
      "outputs": []
    },
    {
      "cell_type": "code",
      "source": [
        "a = tf.constant([1, 2, 3.], dtype=tf.float32)\n",
        "tf.print(a)"
      ],
      "metadata": {
        "colab": {
          "base_uri": "https://localhost:8080/"
        },
        "id": "iOuoY1T10gbT",
        "outputId": "f67603e9-d7fa-4131-bad0-3190353d4229"
      },
      "execution_count": 3,
      "outputs": [
        {
          "output_type": "stream",
          "name": "stdout",
          "text": [
            "[1 2 3]\n"
          ]
        }
      ]
    },
    {
      "cell_type": "code",
      "source": [
        "b = tf.range(1, 10, delta=2)\n",
        "tf.print(b)"
      ],
      "metadata": {
        "colab": {
          "base_uri": "https://localhost:8080/"
        },
        "id": "yp60b4o20gW9",
        "outputId": "338c0146-52b7-424f-dae2-56f6d6dcde83"
      },
      "execution_count": 4,
      "outputs": [
        {
          "output_type": "stream",
          "name": "stdout",
          "text": [
            "[1 3 5 7 9]\n"
          ]
        }
      ]
    },
    {
      "cell_type": "code",
      "source": [
        "c = tf.linspace(0.0, 2*3.14, 100)\n",
        "tf.print(c)"
      ],
      "metadata": {
        "colab": {
          "base_uri": "https://localhost:8080/"
        },
        "id": "2sv1AciC0gSr",
        "outputId": "3d27263d-6081-4ce7-c9cc-89ac637f620f"
      },
      "execution_count": 5,
      "outputs": [
        {
          "output_type": "stream",
          "name": "stdout",
          "text": [
            "[0 0.0634343475 0.126868695 ... 6.15313148 6.21656609 6.28]\n"
          ]
        }
      ]
    },
    {
      "cell_type": "code",
      "source": [
        "d = tf.zeros([3, 3])\n",
        "tf.print(d)"
      ],
      "metadata": {
        "colab": {
          "base_uri": "https://localhost:8080/"
        },
        "id": "wGrrbhAw0gOs",
        "outputId": "dc7888e4-d571-4375-b04a-6e83c669c339"
      },
      "execution_count": 6,
      "outputs": [
        {
          "output_type": "stream",
          "name": "stdout",
          "text": [
            "[[0 0 0]\n",
            " [0 0 0]\n",
            " [0 0 0]]\n"
          ]
        }
      ]
    },
    {
      "cell_type": "code",
      "source": [
        "a = tf.ones([3, 3])\n",
        "b = tf.zeros_like(a, dtype=tf.float32)\n",
        "tf.print(a)\n",
        "tf.print(b)"
      ],
      "metadata": {
        "colab": {
          "base_uri": "https://localhost:8080/"
        },
        "id": "6RU62dLh0gKq",
        "outputId": "25013f2f-18a3-48a6-cc97-c67700d061e6"
      },
      "execution_count": 7,
      "outputs": [
        {
          "output_type": "stream",
          "name": "stdout",
          "text": [
            "[[1 1 1]\n",
            " [1 1 1]\n",
            " [1 1 1]]\n",
            "[[0 0 0]\n",
            " [0 0 0]\n",
            " [0 0 0]]\n"
          ]
        }
      ]
    },
    {
      "cell_type": "code",
      "source": [
        "b = tf.fill([3, 2], 5)\n",
        "tf.print(b)"
      ],
      "metadata": {
        "colab": {
          "base_uri": "https://localhost:8080/"
        },
        "id": "hVjoCCeF0gG7",
        "outputId": "7c25d066-a9e1-4e0e-e372-8a5d52a2ddd6"
      },
      "execution_count": 8,
      "outputs": [
        {
          "output_type": "stream",
          "name": "stdout",
          "text": [
            "[[5 5]\n",
            " [5 5]\n",
            " [5 5]]\n"
          ]
        }
      ]
    },
    {
      "cell_type": "code",
      "source": [
        "# Random numbers with uniform distribution\n",
        "tf.random.set_seed(1.0)\n",
        "a = tf.random.uniform([5], minval=0, maxval=10)\n",
        "tf.print(a)"
      ],
      "metadata": {
        "colab": {
          "base_uri": "https://localhost:8080/"
        },
        "id": "82hVXhS80gCc",
        "outputId": "ab0fc7df-e826-4e06-d93a-f98f4833a9b5"
      },
      "execution_count": 9,
      "outputs": [
        {
          "output_type": "stream",
          "name": "stdout",
          "text": [
            "[1.65130854 9.01481247 6.30974197 4.34546089 2.9193902]\n"
          ]
        }
      ]
    },
    {
      "cell_type": "code",
      "source": [
        "# Random numbers with normal distribution\n",
        "b = tf.random.normal([3, 3], mean=0.0, stddev=1.0)\n",
        "tf.print(b)"
      ],
      "metadata": {
        "colab": {
          "base_uri": "https://localhost:8080/"
        },
        "id": "3H1u-ixV0f-D",
        "outputId": "6395f108-1805-4268-ca2a-ac33de93ab5a"
      },
      "execution_count": 10,
      "outputs": [
        {
          "output_type": "stream",
          "name": "stdout",
          "text": [
            "[[0.403087884 -1.0880208 -0.0630953535]\n",
            " [1.33655667 0.711760104 -0.489286453]\n",
            " [-0.764221311 -1.03724861 -1.25193381]]\n"
          ]
        }
      ]
    },
    {
      "cell_type": "code",
      "source": [
        "# Random numbers with normal distribution and truncate within the range 2X standart deviation\n",
        "c = tf.random.truncated_normal((5, 5), mean=0.0, stddev=1.0, dtype=tf.float32)\n",
        "tf.print(c)"
      ],
      "metadata": {
        "colab": {
          "base_uri": "https://localhost:8080/"
        },
        "id": "tsBa_vvG1wqQ",
        "outputId": "7b784c75-1ab8-4af9-916d-1c002683cde9"
      },
      "execution_count": 11,
      "outputs": [
        {
          "output_type": "stream",
          "name": "stdout",
          "text": [
            "[[-0.457012236 -0.406867266 0.728577733 -0.892977774 -0.369404584]\n",
            " [0.323488563 1.19383323 0.888299048 1.25985599 -1.95951891]\n",
            " [-0.202244401 0.294496894 -0.468728036 1.29494202 1.48142183]\n",
            " [0.0810953453 1.63843894 0.556645 0.977199793 -1.17777884]\n",
            " [1.67368948 0.0647980496 -0.705142677 -0.281972528 0.126546144]]\n"
          ]
        }
      ]
    },
    {
      "cell_type": "code",
      "source": [
        "# Special matrix\n",
        "I = tf.eye(3, 3) # identity matrix\n",
        "tf.print(I)\n",
        "tf.print(' ')\n",
        "\n",
        "t = tf.linalg.diag([1, 2, 3]) # diagonal matrix\n",
        "tf.print(t)"
      ],
      "metadata": {
        "colab": {
          "base_uri": "https://localhost:8080/"
        },
        "id": "e7ZvM42O1wmi",
        "outputId": "904871c1-b505-4a62-d586-3ec62c1d9759"
      },
      "execution_count": 12,
      "outputs": [
        {
          "output_type": "stream",
          "name": "stdout",
          "text": [
            "[[1 0 0]\n",
            " [0 1 0]\n",
            " [0 0 1]]\n",
            " \n",
            "[[1 0 0]\n",
            " [0 2 0]\n",
            " [0 0 3]]\n"
          ]
        }
      ]
    },
    {
      "cell_type": "markdown",
      "source": [
        "## 2. Indexing and Slicing\n",
        "The indexing and slicing of tensor is the same as numpy, and slicing supports default parameters and ellipsis.\n",
        "\n",
        "Data type of `tf.Variable` supports indexing and slicing to modify values of certain elements.\n",
        "\n",
        "For referencing a continous portion of a tensor, `tf.slice` is recommended.\n",
        "\n",
        "On the other hand, for the irregular slicing shape, `tf.gather`, `tf.gather_nd`, `tf.boolean_mask` are recommended.\n",
        "\n",
        "The method `tf.boolean_mask` is powerful, it function as both `tf.gather` and `tf.gather_md`, and supports boolean indexing.\n",
        "\n",
        "For the purplose of creating new tensor through modifying certain elements is an existing tensor, `tf.where` and `tf.scatter_nd` can be used."
      ],
      "metadata": {
        "id": "K8B88rzB1_wG"
      }
    },
    {
      "cell_type": "code",
      "source": [
        "tf.random.set_seed(3)\n",
        "t = tf.random.uniform([5, 5], minval=0, maxval=10, dtype=tf.int32)\n",
        "tf.print(t)"
      ],
      "metadata": {
        "colab": {
          "base_uri": "https://localhost:8080/"
        },
        "id": "ImA20lCp1wit",
        "outputId": "a1da4b7d-77db-4ed4-d486-fb8697f1922a"
      },
      "execution_count": 13,
      "outputs": [
        {
          "output_type": "stream",
          "name": "stdout",
          "text": [
            "[[4 7 4 2 9]\n",
            " [9 1 2 4 7]\n",
            " [7 2 7 4 0]\n",
            " [9 6 9 7 2]\n",
            " [3 7 0 0 3]]\n"
          ]
        }
      ]
    },
    {
      "cell_type": "code",
      "source": [
        "# Row 0\n",
        "tf.print(t[0])"
      ],
      "metadata": {
        "colab": {
          "base_uri": "https://localhost:8080/"
        },
        "id": "9Q0z8zve1we5",
        "outputId": "1ed9ebe5-7f6d-4e91-d131-f60069044f33"
      },
      "execution_count": 15,
      "outputs": [
        {
          "output_type": "stream",
          "name": "stdout",
          "text": [
            "[4 7 4 2 9]\n"
          ]
        }
      ]
    },
    {
      "cell_type": "code",
      "source": [
        "# Last row\n",
        "tf.print(t[-1])"
      ],
      "metadata": {
        "colab": {
          "base_uri": "https://localhost:8080/"
        },
        "id": "BEsn7o9-1wbI",
        "outputId": "98a9fe78-e3e1-41da-da79-e0ea47f4d9c3"
      },
      "execution_count": 16,
      "outputs": [
        {
          "output_type": "stream",
          "name": "stdout",
          "text": [
            "[3 7 0 0 3]\n"
          ]
        }
      ]
    },
    {
      "cell_type": "code",
      "source": [
        "# Row 1 col 3\n",
        "tf.print(t[1, 3])"
      ],
      "metadata": {
        "colab": {
          "base_uri": "https://localhost:8080/"
        },
        "id": "yZP123Ck1wW5",
        "outputId": "df4d922e-8e3f-4b2a-f579-e7dde3a3e22f"
      },
      "execution_count": 17,
      "outputs": [
        {
          "output_type": "stream",
          "name": "stdout",
          "text": [
            "4\n"
          ]
        }
      ]
    },
    {
      "cell_type": "code",
      "source": [
        "# From row 1 to row 3\n",
        "tf.print(t[1:4, :])\n",
        "tf.print(tf.slice(t, [1, 0], [3, 5])) # tf.slice(input, begin_vector, size_vector)"
      ],
      "metadata": {
        "colab": {
          "base_uri": "https://localhost:8080/"
        },
        "id": "4oIBsd3s290x",
        "outputId": "bfe1046a-adc4-4715-91f5-83de24f16e5c"
      },
      "execution_count": 18,
      "outputs": [
        {
          "output_type": "stream",
          "name": "stdout",
          "text": [
            "[[9 1 2 4 7]\n",
            " [7 2 7 4 0]\n",
            " [9 6 9 7 2]]\n",
            "[[9 1 2 4 7]\n",
            " [7 2 7 4 0]\n",
            " [9 6 9 7 2]]\n"
          ]
        }
      ]
    },
    {
      "cell_type": "code",
      "source": [
        "# From row 1 to last row, and from col 0 to the last but one with an increment of 2\n",
        "tf.print(t[1:4, :4:2])"
      ],
      "metadata": {
        "colab": {
          "base_uri": "https://localhost:8080/"
        },
        "id": "_vWYdeC229xq",
        "outputId": "31cfc356-dd29-4e99-f063-384a4fedec7b"
      },
      "execution_count": 20,
      "outputs": [
        {
          "output_type": "stream",
          "name": "stdout",
          "text": [
            "[[9 2]\n",
            " [7 7]\n",
            " [9 9]]\n"
          ]
        }
      ]
    },
    {
      "cell_type": "code",
      "source": [
        "# Variable supports modifying elements through indexing and slicing\n",
        "x = tf.Variable([[1, 2], [3, 4]])\n",
        "x[1, :].assign(tf.constant([0, 0]))\n",
        "tf.print(x)"
      ],
      "metadata": {
        "colab": {
          "base_uri": "https://localhost:8080/"
        },
        "id": "asHPGWKI29t4",
        "outputId": "7fdc957c-b6d3-408f-8fbd-2c7d488702b6"
      },
      "execution_count": 21,
      "outputs": [
        {
          "output_type": "stream",
          "name": "stdout",
          "text": [
            "[[1 2]\n",
            " [0 0]]\n"
          ]
        }
      ]
    },
    {
      "cell_type": "code",
      "source": [
        "a = tf.random.uniform([3, 3, 3], minval=0, maxval=10, dtype=tf.int32)\n",
        "tf.print(a)"
      ],
      "metadata": {
        "colab": {
          "base_uri": "https://localhost:8080/"
        },
        "id": "DdnuEx-e29qA",
        "outputId": "b736d513-26cc-496d-c7f4-787d98c845cf"
      },
      "execution_count": 22,
      "outputs": [
        {
          "output_type": "stream",
          "name": "stdout",
          "text": [
            "[[[7 3 9]\n",
            "  [9 0 7]\n",
            "  [9 6 7]]\n",
            "\n",
            " [[1 3 3]\n",
            "  [0 8 1]\n",
            "  [3 1 0]]\n",
            "\n",
            " [[4 0 6]\n",
            "  [6 2 2]\n",
            "  [7 9 5]]]\n"
          ]
        }
      ]
    },
    {
      "cell_type": "code",
      "source": [
        "# Ellipsis represent multiple colon\n",
        "tf.print(a[..., 1])\n",
        "# Equal to\n",
        "tf.print(a[:, :, 1])"
      ],
      "metadata": {
        "colab": {
          "base_uri": "https://localhost:8080/"
        },
        "id": "7flY66Fl29mo",
        "outputId": "53c1b59c-966d-4a87-b866-7e805194f6da"
      },
      "execution_count": 24,
      "outputs": [
        {
          "output_type": "stream",
          "name": "stdout",
          "text": [
            "[[3 0 6]\n",
            " [3 8 1]\n",
            " [0 2 9]]\n",
            "[[3 0 6]\n",
            " [3 8 1]\n",
            " [0 2 9]]\n"
          ]
        }
      ]
    },
    {
      "cell_type": "markdown",
      "source": [
        "The example above are regular slicing; for irregualr slicing, `tf.gather`, `tf.gather_nd`, `tf.boolean_mask` can be used.\n",
        "\n",
        "Here is an example of students grade records. There are 4 classes, 10 studenrs in each class, and 7 course for each student, which shoud be represented as a tensor with a dimension of 4x10x7."
      ],
      "metadata": {
        "id": "XIf2KPOd3hTF"
      }
    },
    {
      "cell_type": "code",
      "source": [
        "scores = tf.random.uniform((4, 10, 7), minval=0, maxval=100, dtype=tf.int32)\n",
        "tf.print(scores)"
      ],
      "metadata": {
        "colab": {
          "base_uri": "https://localhost:8080/"
        },
        "id": "okGy6uFd29iw",
        "outputId": "a94fd8ff-7ce1-43d2-b273-24581e653b0c"
      },
      "execution_count": 25,
      "outputs": [
        {
          "output_type": "stream",
          "name": "stdout",
          "text": [
            "[[[52 82 66 ... 17 86 14]\n",
            "  [8 36 94 ... 13 78 41]\n",
            "  [77 53 51 ... 22 91 56]\n",
            "  ...\n",
            "  [11 19 26 ... 89 86 68]\n",
            "  [60 72 0 ... 11 26 15]\n",
            "  [24 99 38 ... 97 44 74]]\n",
            "\n",
            " [[79 73 73 ... 35 3 81]\n",
            "  [83 36 31 ... 75 38 85]\n",
            "  [54 26 67 ... 60 68 98]\n",
            "  ...\n",
            "  [20 5 18 ... 32 45 3]\n",
            "  [72 52 81 ... 88 41 20]\n",
            "  [0 21 89 ... 53 10 90]]\n",
            "\n",
            " [[52 80 22 ... 29 25 60]\n",
            "  [78 71 54 ... 43 98 81]\n",
            "  [21 66 53 ... 97 75 77]\n",
            "  ...\n",
            "  [6 74 3 ... 53 65 43]\n",
            "  [98 36 72 ... 33 36 81]\n",
            "  [61 78 70 ... 7 59 21]]\n",
            "\n",
            " [[56 57 45 ... 23 15 3]\n",
            "  [35 8 82 ... 11 59 97]\n",
            "  [44 6 99 ... 81 60 27]\n",
            "  ...\n",
            "  [76 26 35 ... 51 8 17]\n",
            "  [33 52 53 ... 78 37 31]\n",
            "  [71 27 44 ... 0 52 16]]]\n"
          ]
        }
      ]
    },
    {
      "cell_type": "code",
      "source": [
        "# Extract all the grades of the 0th, 5th, and 9th students in each class\n",
        "p = tf.gather(scores, [0, 5, 9], axis=1)\n",
        "tf.print(p)"
      ],
      "metadata": {
        "colab": {
          "base_uri": "https://localhost:8080/"
        },
        "id": "_g2S4kmn39EA",
        "outputId": "d5267ab7-81f1-4f0d-b1ef-f2a1b23f44ac"
      },
      "execution_count": 26,
      "outputs": [
        {
          "output_type": "stream",
          "name": "stdout",
          "text": [
            "[[[52 82 66 ... 17 86 14]\n",
            "  [24 80 70 ... 72 63 96]\n",
            "  [24 99 38 ... 97 44 74]]\n",
            "\n",
            " [[79 73 73 ... 35 3 81]\n",
            "  [46 10 94 ... 23 18 92]\n",
            "  [0 21 89 ... 53 10 90]]\n",
            "\n",
            " [[52 80 22 ... 29 25 60]\n",
            "  [19 12 23 ... 87 86 25]\n",
            "  [61 78 70 ... 7 59 21]]\n",
            "\n",
            " [[56 57 45 ... 23 15 3]\n",
            "  [6 41 79 ... 97 43 13]\n",
            "  [71 27 44 ... 0 52 16]]]\n"
          ]
        }
      ]
    },
    {
      "cell_type": "code",
      "source": [
        "# Extract the grades of the 1st, 3rd, and 6th courses of the 0th, 5th, and 9th students in each class\n",
        "q = tf.gather(tf.gather(scores, [0, 5, 9], axis=1), [1, 3, 6], axis=2)\n",
        "tf.print(q)"
      ],
      "metadata": {
        "colab": {
          "base_uri": "https://localhost:8080/"
        },
        "id": "2mZ05Fgw39AI",
        "outputId": "fb8c824b-bc2f-4339-df8a-9bf5c96c803c"
      },
      "execution_count": 27,
      "outputs": [
        {
          "output_type": "stream",
          "name": "stdout",
          "text": [
            "[[[82 55 14]\n",
            "  [80 46 96]\n",
            "  [99 58 74]]\n",
            "\n",
            " [[73 48 81]\n",
            "  [10 38 92]\n",
            "  [21 86 90]]\n",
            "\n",
            " [[80 57 60]\n",
            "  [12 34 25]\n",
            "  [78 71 21]]\n",
            "\n",
            " [[57 75 3]\n",
            "  [41 47 13]\n",
            "  [27 96 16]]]\n"
          ]
        }
      ]
    },
    {
      "cell_type": "code",
      "source": [
        "# Extract all the grades of 0th student in the 0th class, the 4th student in the 2th class, and 6th student int he 3rd class\n",
        "# Then the length of parameter indices equal to the number of samples, and the each element of indices is the coordinate of each sample\n",
        "s = tf.gather_nd(scores, indices= [(0, 0),  (2, 4), (3, 6)])\n",
        "s"
      ],
      "metadata": {
        "colab": {
          "base_uri": "https://localhost:8080/"
        },
        "id": "HhdQbKbR388Z",
        "outputId": "2af4c7cf-d29c-4c0b-9cd8-14a94ed04c31"
      },
      "execution_count": 30,
      "outputs": [
        {
          "output_type": "execute_result",
          "data": {
            "text/plain": [
              "<tf.Tensor: shape=(3, 7), dtype=int32, numpy=\n",
              "array([[52, 82, 66, 55, 17, 86, 14],\n",
              "       [99, 94, 46, 70,  1, 63, 41],\n",
              "       [46, 83, 70, 80, 90, 85, 17]], dtype=int32)>"
            ]
          },
          "metadata": {},
          "execution_count": 30
        }
      ]
    },
    {
      "cell_type": "markdown",
      "source": [
        "The functionof `tf.gather` and `tf.gather_nd` as shown above could be achieved through `tf.boolean_mask`"
      ],
      "metadata": {
        "id": "-FCqJ_zI4rxq"
      }
    },
    {
      "cell_type": "code",
      "source": [
        "# Extract all the grades of the 0th, 5th, and 9th student in each class\n",
        "p = tf.boolean_mask(scores, [True, False, False, False, False,\n",
        "                             True, False, False, False, True], axis=1)\n",
        "tf.print(p)"
      ],
      "metadata": {
        "colab": {
          "base_uri": "https://localhost:8080/"
        },
        "id": "KC1wKIlI384Y",
        "outputId": "c09d9388-2cad-4aad-f9ea-f81ef3b3b7c1"
      },
      "execution_count": 31,
      "outputs": [
        {
          "output_type": "stream",
          "name": "stdout",
          "text": [
            "[[[52 82 66 ... 17 86 14]\n",
            "  [24 80 70 ... 72 63 96]\n",
            "  [24 99 38 ... 97 44 74]]\n",
            "\n",
            " [[79 73 73 ... 35 3 81]\n",
            "  [46 10 94 ... 23 18 92]\n",
            "  [0 21 89 ... 53 10 90]]\n",
            "\n",
            " [[52 80 22 ... 29 25 60]\n",
            "  [19 12 23 ... 87 86 25]\n",
            "  [61 78 70 ... 7 59 21]]\n",
            "\n",
            " [[56 57 45 ... 23 15 3]\n",
            "  [6 41 79 ... 97 43 13]\n",
            "  [71 27 44 ... 0 52 16]]]\n"
          ]
        }
      ]
    },
    {
      "cell_type": "code",
      "source": [
        "# Extract all the grades of the 0th student in the 0th class, the 4th student in the 2nd class, and the 6th student in the 3rd class\n",
        "s = tf.boolean_mask(scores, [[True,False,False,False,False,False,False,False,False,False],\n",
        "                              [False,False,False,False,False,False,False,False,False,False],\n",
        "                              [False,False,False,False,True,False,False,False,False,False],\n",
        "                              [False,False,False,False,False,False,True,False,False,False]])\n",
        "tf.print(s)"
      ],
      "metadata": {
        "colab": {
          "base_uri": "https://localhost:8080/"
        },
        "id": "EEo5cFTU380I",
        "outputId": "9f035f5b-3dfc-47fb-fda4-6d6f5cb7c970"
      },
      "execution_count": 33,
      "outputs": [
        {
          "output_type": "stream",
          "name": "stdout",
          "text": [
            "[[52 82 66 ... 17 86 14]\n",
            " [99 94 46 ... 1 63 41]\n",
            " [46 83 70 ... 90 85 17]]\n"
          ]
        }
      ]
    },
    {
      "cell_type": "code",
      "source": [
        "# Boolean indexing using tf.boolean_mask\n",
        "\n",
        "# Find all element that are less than 0 in the matrix\n",
        "c = tf.constant([[-1, 1, -1], [2, 2, -2], [3, -3, 3]], dtype=tf.float32)\n",
        "tf.print(c, '\\n')\n",
        "\n",
        "tf.print(tf.boolean_mask(c, c < 0), '\\n')\n",
        "tf.print(c[c < 0]) # this is the syntatic sugar of boolean_mask for boolean indexing"
      ],
      "metadata": {
        "colab": {
          "base_uri": "https://localhost:8080/"
        },
        "id": "ko5TZazI38wc",
        "outputId": "e6debbff-6bda-4bf4-b2ec-3137601fa243"
      },
      "execution_count": 34,
      "outputs": [
        {
          "output_type": "stream",
          "name": "stdout",
          "text": [
            "[[-1 1 -1]\n",
            " [2 2 -2]\n",
            " [3 -3 3]] \n",
            "\n",
            "[-1 -1 -2 -3] \n",
            "\n",
            "[-1 -1 -2 -3]\n"
          ]
        }
      ]
    },
    {
      "cell_type": "markdown",
      "source": [
        "The methods shown above are able to extract part of the elements in the tensor, but are not able to create new tensor through modificatio of these elements.\n",
        "\n",
        "The method of `tf.where` and `tf.scatter_nd` should be used for this purpose.\n",
        "\n",
        "`tf.where` is the tensor versiof of `if`; on the other hand, this method is able to find the coordinate of all the elements that satisfy certain condition.\n",
        "\n",
        "`tf.scatter_nd` works in an opposite way to the method `tf.gather_nd`. THe latter collects the elements according to the given coordinate, while the former inserts values on the given positions in an all-zero tensor with a known shape."
      ],
      "metadata": {
        "id": "4joKkQXt5hAP"
      }
    },
    {
      "cell_type": "code",
      "source": [
        "# Find elements that are less than 0, create a new tensor by replacing these elements with np.nan\n",
        "# tf.where is similiar to np.where, whitch is the \"if\" for the tensor\n",
        "\n",
        "c = tf.constant([[-1, 1, -1], [2, 2, -2], [3, -3, 3]], dtype=tf.float32)\n",
        "d = tf.where(c < 0, tf.fill(c.shape, np.nan), c)\n",
        "d"
      ],
      "metadata": {
        "colab": {
          "base_uri": "https://localhost:8080/"
        },
        "id": "8DmYh6XJ38sY",
        "outputId": "6acce8d8-f8f1-45e1-ff16-cb09103a5527"
      },
      "execution_count": 35,
      "outputs": [
        {
          "output_type": "execute_result",
          "data": {
            "text/plain": [
              "<tf.Tensor: shape=(3, 3), dtype=float32, numpy=\n",
              "array([[nan,  1., nan],\n",
              "       [ 2.,  2., nan],\n",
              "       [ 3., nan,  3.]], dtype=float32)>"
            ]
          },
          "metadata": {},
          "execution_count": 35
        }
      ]
    },
    {
      "cell_type": "code",
      "source": [
        "# The method where returns all the coordinates that satisfy the condition if there is only one argument\n",
        "indices = tf.where(c < 0)\n",
        "indices"
      ],
      "metadata": {
        "colab": {
          "base_uri": "https://localhost:8080/"
        },
        "id": "s3K9oOTa38og",
        "outputId": "630a0ff6-e016-4b23-f4d2-ef37880b1b27"
      },
      "execution_count": 36,
      "outputs": [
        {
          "output_type": "execute_result",
          "data": {
            "text/plain": [
              "<tf.Tensor: shape=(4, 2), dtype=int64, numpy=\n",
              "array([[0, 0],\n",
              "       [0, 2],\n",
              "       [1, 2],\n",
              "       [2, 1]])>"
            ]
          },
          "metadata": {},
          "execution_count": 36
        }
      ]
    },
    {
      "cell_type": "code",
      "source": [
        "# Create new tensor by replacing the value of two tensor elements located at [0, 0] [2, 1] as 0\n",
        "d = c - tf.scatter_nd([[0, 0], [2, 1]], [c[0, 0], c[2, 1]], c.shape)\n",
        "d"
      ],
      "metadata": {
        "colab": {
          "base_uri": "https://localhost:8080/"
        },
        "id": "tgoEzWpY38kg",
        "outputId": "77de8391-fac5-419e-da90-bdba578614b6"
      },
      "execution_count": 37,
      "outputs": [
        {
          "output_type": "execute_result",
          "data": {
            "text/plain": [
              "<tf.Tensor: shape=(3, 3), dtype=float32, numpy=\n",
              "array([[ 0.,  1., -1.],\n",
              "       [ 2.,  2., -2.],\n",
              "       [ 3.,  0.,  3.]], dtype=float32)>"
            ]
          },
          "metadata": {},
          "execution_count": 37
        }
      ]
    },
    {
      "cell_type": "code",
      "source": [
        "# The method scatter_nd fucntions inversly to gather_nd\n",
        "# This method can be used to insert values on the given positions in an all-zero tensor with a known shape\n",
        "indices = tf.where(c < 0)\n",
        "tf.scatter_nd(indices, tf.gather_nd(c, indices), c.shape)"
      ],
      "metadata": {
        "colab": {
          "base_uri": "https://localhost:8080/"
        },
        "id": "X9k5glbL29fI",
        "outputId": "6c2243a8-1c52-4b42-abcf-1e4b48514690"
      },
      "execution_count": 38,
      "outputs": [
        {
          "output_type": "execute_result",
          "data": {
            "text/plain": [
              "<tf.Tensor: shape=(3, 3), dtype=float32, numpy=\n",
              "array([[-1.,  0., -1.],\n",
              "       [ 0.,  0., -2.],\n",
              "       [ 0., -3.,  0.]], dtype=float32)>"
            ]
          },
          "metadata": {},
          "execution_count": 38
        }
      ]
    },
    {
      "cell_type": "markdown",
      "source": [
        "## 3. Dimension Transform\n",
        "\n",
        "The function that are related to dimension transform include `tf.reshape`, `tf.squeeze`, `tf.expand_dims`, `tf.transpose`.\n",
        "\n",
        "`tf.reshape` is used to alter the shape of the tensor.\n",
        "\n",
        "`tf.squeeze` is used to reduce the number of dimensions.\n",
        "\n",
        "`tf.expand_dims` is used to increase the number of dimensions.\n",
        "\n",
        "`tf.transpose` is used to exchange the order of the dimensions."
      ],
      "metadata": {
        "id": "-eqZKzvH7DTO"
      }
    },
    {
      "cell_type": "markdown",
      "source": [
        "`tf.reshape` changes the shape of the tensor, but will not change the order of elemnts stored in the memroy, thus this operation is extremely fast and reversible"
      ],
      "metadata": {
        "id": "zoUi-aEy7nTs"
      }
    },
    {
      "cell_type": "code",
      "source": [
        "a = tf.random.uniform(shape=[1, 3, 3, 2],\n",
        "                      minval=0,\n",
        "                      maxval=255,\n",
        "                      dtype=tf.int32)\n",
        "tf.print(a.shape)\n",
        "tf.print(a)"
      ],
      "metadata": {
        "colab": {
          "base_uri": "https://localhost:8080/"
        },
        "id": "HfTGk_Xw29bw",
        "outputId": "2a3c45df-bd70-4aa4-d58f-4f038c28e765"
      },
      "execution_count": 42,
      "outputs": [
        {
          "output_type": "stream",
          "name": "stdout",
          "text": [
            "TensorShape([1, 3, 3, 2])\n",
            "[[[[158 90]\n",
            "   [89 14]\n",
            "   [59 209]]\n",
            "\n",
            "  [[91 164]\n",
            "   [239 138]\n",
            "   [156 95]]\n",
            "\n",
            "  [[48 40]\n",
            "   [0 238]\n",
            "   [3 22]]]]\n"
          ]
        }
      ]
    },
    {
      "cell_type": "code",
      "source": [
        "# Reshape into (3, 6)\n",
        "b = tf.reshape(a, [3, 6])\n",
        "tf.print(b.shape)\n",
        "tf.print(b)"
      ],
      "metadata": {
        "colab": {
          "base_uri": "https://localhost:8080/"
        },
        "id": "IohgFP9r29YA",
        "outputId": "2a3d4f1b-c8f7-41a3-a616-a97d87823135"
      },
      "execution_count": 43,
      "outputs": [
        {
          "output_type": "stream",
          "name": "stdout",
          "text": [
            "TensorShape([3, 6])\n",
            "[[158 90 89 14 59 209]\n",
            " [91 164 239 138 156 95]\n",
            " [48 40 0 238 3 22]]\n"
          ]
        }
      ]
    },
    {
      "cell_type": "code",
      "source": [
        "# Reshape back to (1, 3, 3, 2)\n",
        "c = tf.reshape(b, [1, 3, 3, 2])\n",
        "tf.print(c)"
      ],
      "metadata": {
        "colab": {
          "base_uri": "https://localhost:8080/"
        },
        "id": "HeaQZJOb73Zv",
        "outputId": "134b3361-a7db-4031-ea5b-ec594882b323"
      },
      "execution_count": 44,
      "outputs": [
        {
          "output_type": "stream",
          "name": "stdout",
          "text": [
            "[[[[158 90]\n",
            "   [89 14]\n",
            "   [59 209]]\n",
            "\n",
            "  [[91 164]\n",
            "   [239 138]\n",
            "   [156 95]]\n",
            "\n",
            "  [[48 40]\n",
            "   [0 238]\n",
            "   [3 22]]]]\n"
          ]
        }
      ]
    },
    {
      "cell_type": "markdown",
      "source": [
        "When there is only one element on a certain dimension, `tf.squeeze` eliminates this dimension.\n",
        "\n",
        "It wont change the order of the stored elements in the memory, which similar to `tf.reshape`.\n",
        "\n",
        "The elements in a tensor is stored linearly, usually the adjacent elements in the same dimension use adjacent physical addresses."
      ],
      "metadata": {
        "id": "uLi9h9el77de"
      }
    },
    {
      "cell_type": "code",
      "source": [
        "s = tf.squeeze(a)\n",
        "tf.print(s.shape)\n",
        "tf.print(s)"
      ],
      "metadata": {
        "colab": {
          "base_uri": "https://localhost:8080/"
        },
        "id": "6C2fPD7873V3",
        "outputId": "e7503475-b391-411f-ebd9-9213fb4c7940"
      },
      "execution_count": 45,
      "outputs": [
        {
          "output_type": "stream",
          "name": "stdout",
          "text": [
            "TensorShape([3, 3, 2])\n",
            "[[[158 90]\n",
            "  [89 14]\n",
            "  [59 209]]\n",
            "\n",
            " [[91 164]\n",
            "  [239 138]\n",
            "  [156 95]]\n",
            "\n",
            " [[48 40]\n",
            "  [0 238]\n",
            "  [3 22]]]\n"
          ]
        }
      ]
    },
    {
      "cell_type": "code",
      "source": [
        "d = tf.expand_dims(s, axis=0) # insert an extra dimension to the 0th dim with length 1\n",
        "d"
      ],
      "metadata": {
        "colab": {
          "base_uri": "https://localhost:8080/"
        },
        "id": "0RibRF5m73Ro",
        "outputId": "ee8d8180-142a-4502-ed66-d879ee7fb59e"
      },
      "execution_count": 46,
      "outputs": [
        {
          "output_type": "execute_result",
          "data": {
            "text/plain": [
              "<tf.Tensor: shape=(1, 3, 3, 2), dtype=int32, numpy=\n",
              "array([[[[158,  90],\n",
              "         [ 89,  14],\n",
              "         [ 59, 209]],\n",
              "\n",
              "        [[ 91, 164],\n",
              "         [239, 138],\n",
              "         [156,  95]],\n",
              "\n",
              "        [[ 48,  40],\n",
              "         [  0, 238],\n",
              "         [  3,  22]]]], dtype=int32)>"
            ]
          },
          "metadata": {},
          "execution_count": 46
        }
      ]
    },
    {
      "cell_type": "markdown",
      "source": [
        "`tf.transpose` swaps the dimensions of the tensor; unlike `tf.reshape`, it will change the order elements in the memory.\n",
        "\n",
        "`tf.tanspose` is usually used for converting image format of storage."
      ],
      "metadata": {
        "id": "uM2dNPKL8ePn"
      }
    },
    {
      "cell_type": "code",
      "source": [
        "# Batch, heigth, width, channel\n",
        "a = tf.random.uniform(shape=[100, 600, 400, 4], minval=0, maxval=255, dtype=tf.int32)\n",
        "tf.print(a.shape)\n",
        "\n",
        "# Transform to the order as channel, height, width, batch\n",
        "b = tf.transpose(a, perm=[0, 3, 1, 2])\n",
        "tf.print(b.shape)"
      ],
      "metadata": {
        "colab": {
          "base_uri": "https://localhost:8080/"
        },
        "id": "xO6jb7nQ8u4c",
        "outputId": "b121c907-89dc-42a0-a409-6a48ab836f2a"
      },
      "execution_count": 47,
      "outputs": [
        {
          "output_type": "stream",
          "name": "stdout",
          "text": [
            "TensorShape([100, 600, 400, 4])\n",
            "TensorShape([100, 4, 600, 400])\n"
          ]
        }
      ]
    },
    {
      "cell_type": "markdown",
      "source": [
        "## 4. Combining and Splitting\n",
        "\n",
        "`tf.concat` and `tf.stack` method can be used to combine multiple tensor, and use `tf.split` to split tensor into multiple ones, which are similiar as those in numpy.\n",
        "\n",
        "`tf.concat` is slightly different to `tf.stack`\n",
        "- `tf.concat` is concatination and does not incraise the number of dimensions\n",
        "- `tf.stack` is stacking and incraises the number of dimensions"
      ],
      "metadata": {
        "id": "yfU1LSfA89Z3"
      }
    },
    {
      "cell_type": "code",
      "source": [
        "a = tf.constant([[1.0, 2.0], [3.0, 4.0]])\n",
        "b = tf.constant([[5.0, 6.0], [7.0, 8.0]])\n",
        "c = tf.constant([[9.0, 10.0], [11.0, 12.0]])\n",
        "\n",
        "tf.concat([a, b, c], axis=0)"
      ],
      "metadata": {
        "colab": {
          "base_uri": "https://localhost:8080/"
        },
        "id": "fvN0SLIh8u1R",
        "outputId": "713d67cf-8a18-4ec6-e5cf-aefcb6ddad0a"
      },
      "execution_count": 48,
      "outputs": [
        {
          "output_type": "execute_result",
          "data": {
            "text/plain": [
              "<tf.Tensor: shape=(6, 2), dtype=float32, numpy=\n",
              "array([[ 1.,  2.],\n",
              "       [ 3.,  4.],\n",
              "       [ 5.,  6.],\n",
              "       [ 7.,  8.],\n",
              "       [ 9., 10.],\n",
              "       [11., 12.]], dtype=float32)>"
            ]
          },
          "metadata": {},
          "execution_count": 48
        }
      ]
    },
    {
      "cell_type": "code",
      "source": [
        "tf.stack([a, b, c])"
      ],
      "metadata": {
        "colab": {
          "base_uri": "https://localhost:8080/"
        },
        "id": "CGI-f39C8uxn",
        "outputId": "6757686c-2ca4-440a-99ae-fdd97418c84f"
      },
      "execution_count": 49,
      "outputs": [
        {
          "output_type": "execute_result",
          "data": {
            "text/plain": [
              "<tf.Tensor: shape=(3, 2, 2), dtype=float32, numpy=\n",
              "array([[[ 1.,  2.],\n",
              "        [ 3.,  4.]],\n",
              "\n",
              "       [[ 5.,  6.],\n",
              "        [ 7.,  8.]],\n",
              "\n",
              "       [[ 9., 10.],\n",
              "        [11., 12.]]], dtype=float32)>"
            ]
          },
          "metadata": {},
          "execution_count": 49
        }
      ]
    },
    {
      "cell_type": "code",
      "source": [
        "tf.stack([a, b, c], axis=1)"
      ],
      "metadata": {
        "colab": {
          "base_uri": "https://localhost:8080/"
        },
        "id": "EFiKHM1v29US",
        "outputId": "90598424-a7f5-46ce-fc8b-518500a019fe"
      },
      "execution_count": 50,
      "outputs": [
        {
          "output_type": "execute_result",
          "data": {
            "text/plain": [
              "<tf.Tensor: shape=(2, 3, 2), dtype=float32, numpy=\n",
              "array([[[ 1.,  2.],\n",
              "        [ 5.,  6.],\n",
              "        [ 9., 10.]],\n",
              "\n",
              "       [[ 3.,  4.],\n",
              "        [ 7.,  8.],\n",
              "        [11., 12.]]], dtype=float32)>"
            ]
          },
          "metadata": {},
          "execution_count": 50
        }
      ]
    },
    {
      "cell_type": "code",
      "source": [
        "a = tf.constant([[1.0, 2.0], [3.0, 4.0]])\n",
        "b = tf.constant([[5.0, 6.0], [7.0, 8.0]])\n",
        "c = tf.constant([[9.0, 10.0], [11.0, 12.0]])\n",
        "\n",
        "c = tf.concat([a, b, c], axis=0)\n",
        "tf.print(c)"
      ],
      "metadata": {
        "colab": {
          "base_uri": "https://localhost:8080/"
        },
        "id": "tKJp_iIY29QR",
        "outputId": "a8a24a22-96ba-4081-b8d7-258079262591"
      },
      "execution_count": 51,
      "outputs": [
        {
          "output_type": "stream",
          "name": "stdout",
          "text": [
            "[[1 2]\n",
            " [3 4]\n",
            " [5 6]\n",
            " [7 8]\n",
            " [9 10]\n",
            " [11 12]]\n"
          ]
        }
      ]
    },
    {
      "cell_type": "markdown",
      "source": [
        "`tf.split is the inverse of `tf.concat`. It allows even splitting with given number of portions, or uneven splitting with given size of each portion."
      ],
      "metadata": {
        "id": "j2PVP6g49p3s"
      }
    },
    {
      "cell_type": "code",
      "source": [
        "# tf.split(value, num_or_size_splits, axis)\n",
        "tf.split(c, 3, axis=0)"
      ],
      "metadata": {
        "colab": {
          "base_uri": "https://localhost:8080/"
        },
        "id": "VZ-rNW840f5j",
        "outputId": "325b92b8-00fe-45b1-c155-b43a57df4809"
      },
      "execution_count": 52,
      "outputs": [
        {
          "output_type": "execute_result",
          "data": {
            "text/plain": [
              "[<tf.Tensor: shape=(2, 2), dtype=float32, numpy=\n",
              " array([[1., 2.],\n",
              "        [3., 4.]], dtype=float32)>,\n",
              " <tf.Tensor: shape=(2, 2), dtype=float32, numpy=\n",
              " array([[5., 6.],\n",
              "        [7., 8.]], dtype=float32)>,\n",
              " <tf.Tensor: shape=(2, 2), dtype=float32, numpy=\n",
              " array([[ 9., 10.],\n",
              "        [11., 12.]], dtype=float32)>]"
            ]
          },
          "metadata": {},
          "execution_count": 52
        }
      ]
    },
    {
      "cell_type": "code",
      "execution_count": 58,
      "metadata": {
        "colab": {
          "base_uri": "https://localhost:8080/"
        },
        "id": "917d5SXn0bSU",
        "outputId": "4a0444d7-64ad-412c-9142-63b86f6806a0"
      },
      "outputs": [
        {
          "output_type": "execute_result",
          "data": {
            "text/plain": [
              "[<tf.Tensor: shape=(2, 2), dtype=float32, numpy=\n",
              " array([[1., 2.],\n",
              "        [3., 4.]], dtype=float32)>,\n",
              " <tf.Tensor: shape=(2, 2), dtype=float32, numpy=\n",
              " array([[5., 6.],\n",
              "        [7., 8.]], dtype=float32)>,\n",
              " <tf.Tensor: shape=(2, 2), dtype=float32, numpy=\n",
              " array([[ 9., 10.],\n",
              "        [11., 12.]], dtype=float32)>]"
            ]
          },
          "metadata": {},
          "execution_count": 58
        }
      ],
      "source": [
        "tf.split(c, [2, 2, 2], axis=0) # splitting with given size of each portion"
      ]
    }
  ]
}