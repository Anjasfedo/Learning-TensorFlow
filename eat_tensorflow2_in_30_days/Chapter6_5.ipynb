{
  "nbformat": 4,
  "nbformat_minor": 0,
  "metadata": {
    "colab": {
      "provenance": [],
      "gpuType": "V28",
      "authorship_tag": "ABX9TyM5l91pXyw0m8zlYm+cUDeN",
      "include_colab_link": true
    },
    "kernelspec": {
      "name": "python3",
      "display_name": "Python 3"
    },
    "language_info": {
      "name": "python"
    },
    "accelerator": "TPU"
  },
  "cells": [
    {
      "cell_type": "markdown",
      "metadata": {
        "id": "view-in-github",
        "colab_type": "text"
      },
      "source": [
        "<a href=\"https://colab.research.google.com/github/Anjasfedo/Learning-TensorFlow/blob/main/eat_tensorflow2_in_30_days/Chapter6_5.ipynb\" target=\"_parent\"><img src=\"https://colab.research.google.com/assets/colab-badge.svg\" alt=\"Open In Colab\"/></a>"
      ]
    },
    {
      "cell_type": "markdown",
      "source": [
        "# 6-5 Model Training Using TPU"
      ],
      "metadata": {
        "id": "DpYIEMlXKxre"
      }
    },
    {
      "cell_type": "markdown",
      "source": [
        "It only requires six additional of code when training model using TPU in Google Colab.\n",
        "\n",
        "In Colab notebook, choose TPU in Edit -> Notebook Settings -> Hardware Accelerator.\n",
        "\n",
        "Note: the following code only executes on Colab"
      ],
      "metadata": {
        "id": "0NyNabZDKz2k"
      }
    },
    {
      "cell_type": "code",
      "source": [
        "%tensorflow_version 2.x\n",
        "import tensorflow as tf\n",
        "print(tf.__version__)\n",
        "from tensorflow.keras import *"
      ],
      "metadata": {
        "colab": {
          "base_uri": "https://localhost:8080/"
        },
        "id": "tYVnaCmZLgPl",
        "outputId": "afba03d7-53ac-4fd3-fc14-6665af4be2af"
      },
      "execution_count": 1,
      "outputs": [
        {
          "output_type": "stream",
          "name": "stdout",
          "text": [
            "Colab only includes TensorFlow 2.x; %tensorflow_version has no effect.\n",
            "2.15.0\n"
          ]
        }
      ]
    },
    {
      "cell_type": "markdown",
      "source": [
        "## 1. Data Preparation"
      ],
      "metadata": {
        "id": "t__PNQfoLopP"
      }
    },
    {
      "cell_type": "code",
      "source": [
        "MAX_LEN = 300\n",
        "BATCH_SIZE = 32\n",
        "\n",
        "(x_train, y_train), (x_test, y_test) = datasets.reuters.load_data()\n",
        "x_train = preprocessing.sequence.pad_sequences(x_train, maxlen=MAX_LEN)\n",
        "x_test = preprocessing.sequence.pad_sequences(x_test, maxlen=MAX_LEN)\n",
        "\n",
        "MAX_WORDS = x_train.max() + 1\n",
        "CAT_NUM = y_train.max() + 1"
      ],
      "metadata": {
        "colab": {
          "base_uri": "https://localhost:8080/"
        },
        "id": "BS02JWClLgL9",
        "outputId": "712ca7f5-4a49-49d9-a76f-7b6008bf0074"
      },
      "execution_count": 2,
      "outputs": [
        {
          "output_type": "stream",
          "name": "stdout",
          "text": [
            "Downloading data from https://storage.googleapis.com/tensorflow/tf-keras-datasets/reuters.npz\n",
            "2110848/2110848 [==============================] - 0s 0us/step\n"
          ]
        }
      ]
    },
    {
      "cell_type": "code",
      "source": [
        "ds_train = tf.data.Dataset.from_tensor_slices((x_train, y_train)) \\\n",
        "    .shuffle(buffer_size=1000).batch(BATCH_SIZE) \\\n",
        "    .prefetch(tf.data.experimental.AUTOTUNE).cache()\n",
        "\n",
        "ds_test = tf.data.Dataset.from_tensor_slices((x_test, y_test)) \\\n",
        "    .shuffle(buffer_size=1000).batch(BATCH_SIZE) \\\n",
        "    .prefetch(tf.data.experimental.AUTOTUNE).cache()"
      ],
      "metadata": {
        "id": "OvQQYvpWLgHl"
      },
      "execution_count": 3,
      "outputs": []
    },
    {
      "cell_type": "markdown",
      "source": [
        "## 2. Model Defining"
      ],
      "metadata": {
        "id": "_BxFUSC9MLDQ"
      }
    },
    {
      "cell_type": "code",
      "source": [
        "tf.keras.backend.clear_session()\n",
        "\n",
        "def create_model():\n",
        "  model = models.Sequential()\n",
        "\n",
        "  model.add(layers.Embedding(MAX_WORDS, 7, input_length=MAX_LEN))\n",
        "  model.add(layers.Conv1D(filters=64, kernel_size=5, activation='relu'))\n",
        "  model.add(layers.MaxPool1D(2))\n",
        "  model.add(layers.Conv1D(filters=32, kernel_size=3, activation='relu'))\n",
        "  model.add(layers.MaxPool1D(2))\n",
        "  model.add(layers.Flatten())\n",
        "  model.add(layers.Dense(CAT_NUM, activation='softmax'))\n",
        "\n",
        "  return (model)\n",
        "\n",
        "def compile_model(model):\n",
        "  model.compile(optimizer=optimizers.Nadam(),\n",
        "                loss=losses.SparseCategoricalCrossentropy(),\n",
        "                metrics=[metrics.SparseCategoricalAccuracy(), metrics.SparseTopKCategoricalAccuracy(5)])\n",
        "\n",
        "  return (model)"
      ],
      "metadata": {
        "id": "VS_ZfhZSLgDV"
      },
      "execution_count": 10,
      "outputs": []
    },
    {
      "cell_type": "markdown",
      "source": [
        "## 3. Model Training"
      ],
      "metadata": {
        "id": "6MLuNm6INAJa"
      }
    },
    {
      "cell_type": "code",
      "source": [
        "# Here is the 6 additional lines of code\n",
        "import os\n",
        "resolver = tf.distribute.cluster_resolver.TPUClusterResolver(tpu='grpc://' + os.environ['COLAB_TPU_ADDR'])\n",
        "tf.config.experimental_connect_to_cluster(resolver)\n",
        "tf.tpu.experimental.initialize_tpu_system(resolver)\n",
        "strategy = tf.distribute.experimental.TPUStrategy(resolver)\n",
        "with strategy.scope():\n",
        "  model = create_model()\n",
        "  model.summary()\n",
        "  model = compile_model(model)"
      ],
      "metadata": {
        "colab": {
          "base_uri": "https://localhost:8080/",
          "height": 332
        },
        "id": "W17O9uIaNW9U",
        "outputId": "35e15053-6472-489f-de29-7a00256f03fc"
      },
      "execution_count": 11,
      "outputs": [
        {
          "output_type": "error",
          "ename": "KeyError",
          "evalue": "'COLAB_TPU_ADDR'",
          "traceback": [
            "\u001b[0;31m---------------------------------------------------------------------------\u001b[0m",
            "\u001b[0;31mKeyError\u001b[0m                                  Traceback (most recent call last)",
            "\u001b[0;32m<ipython-input-11-3eae4ac61991>\u001b[0m in \u001b[0;36m<cell line: 3>\u001b[0;34m()\u001b[0m\n\u001b[1;32m      1\u001b[0m \u001b[0;31m# Here is the 6 additional lines of code\u001b[0m\u001b[0;34m\u001b[0m\u001b[0;34m\u001b[0m\u001b[0m\n\u001b[1;32m      2\u001b[0m \u001b[0;32mimport\u001b[0m \u001b[0mos\u001b[0m\u001b[0;34m\u001b[0m\u001b[0;34m\u001b[0m\u001b[0m\n\u001b[0;32m----> 3\u001b[0;31m \u001b[0mresolver\u001b[0m \u001b[0;34m=\u001b[0m \u001b[0mtf\u001b[0m\u001b[0;34m.\u001b[0m\u001b[0mdistribute\u001b[0m\u001b[0;34m.\u001b[0m\u001b[0mcluster_resolver\u001b[0m\u001b[0;34m.\u001b[0m\u001b[0mTPUClusterResolver\u001b[0m\u001b[0;34m(\u001b[0m\u001b[0mtpu\u001b[0m\u001b[0;34m=\u001b[0m\u001b[0;34m'grpc://'\u001b[0m \u001b[0;34m+\u001b[0m \u001b[0mos\u001b[0m\u001b[0;34m.\u001b[0m\u001b[0menviron\u001b[0m\u001b[0;34m[\u001b[0m\u001b[0;34m'COLAB_TPU_ADDR'\u001b[0m\u001b[0;34m]\u001b[0m\u001b[0;34m)\u001b[0m\u001b[0;34m\u001b[0m\u001b[0;34m\u001b[0m\u001b[0m\n\u001b[0m\u001b[1;32m      4\u001b[0m \u001b[0mtf\u001b[0m\u001b[0;34m.\u001b[0m\u001b[0mconfig\u001b[0m\u001b[0;34m.\u001b[0m\u001b[0mexperimental_connect_to_cluster\u001b[0m\u001b[0;34m(\u001b[0m\u001b[0mresolver\u001b[0m\u001b[0;34m)\u001b[0m\u001b[0;34m\u001b[0m\u001b[0;34m\u001b[0m\u001b[0m\n\u001b[1;32m      5\u001b[0m \u001b[0mtf\u001b[0m\u001b[0;34m.\u001b[0m\u001b[0mtpu\u001b[0m\u001b[0;34m.\u001b[0m\u001b[0mexperimental\u001b[0m\u001b[0;34m.\u001b[0m\u001b[0minitialize_tpu_system\u001b[0m\u001b[0;34m(\u001b[0m\u001b[0mresolver\u001b[0m\u001b[0;34m)\u001b[0m\u001b[0;34m\u001b[0m\u001b[0;34m\u001b[0m\u001b[0m\n",
            "\u001b[0;32m/usr/lib/python3.10/os.py\u001b[0m in \u001b[0;36m__getitem__\u001b[0;34m(self, key)\u001b[0m\n\u001b[1;32m    678\u001b[0m         \u001b[0;32mexcept\u001b[0m \u001b[0mKeyError\u001b[0m\u001b[0;34m:\u001b[0m\u001b[0;34m\u001b[0m\u001b[0;34m\u001b[0m\u001b[0m\n\u001b[1;32m    679\u001b[0m             \u001b[0;31m# raise KeyError with the original key value\u001b[0m\u001b[0;34m\u001b[0m\u001b[0;34m\u001b[0m\u001b[0m\n\u001b[0;32m--> 680\u001b[0;31m             \u001b[0;32mraise\u001b[0m \u001b[0mKeyError\u001b[0m\u001b[0;34m(\u001b[0m\u001b[0mkey\u001b[0m\u001b[0;34m)\u001b[0m \u001b[0;32mfrom\u001b[0m \u001b[0;32mNone\u001b[0m\u001b[0;34m\u001b[0m\u001b[0;34m\u001b[0m\u001b[0m\n\u001b[0m\u001b[1;32m    681\u001b[0m         \u001b[0;32mreturn\u001b[0m \u001b[0mself\u001b[0m\u001b[0;34m.\u001b[0m\u001b[0mdecodevalue\u001b[0m\u001b[0;34m(\u001b[0m\u001b[0mvalue\u001b[0m\u001b[0;34m)\u001b[0m\u001b[0;34m\u001b[0m\u001b[0;34m\u001b[0m\u001b[0m\n\u001b[1;32m    682\u001b[0m \u001b[0;34m\u001b[0m\u001b[0m\n",
            "\u001b[0;31mKeyError\u001b[0m: 'COLAB_TPU_ADDR'"
          ]
        }
      ]
    },
    {
      "cell_type": "code",
      "source": [
        "  model = create_model()\n",
        "  model.summary()\n",
        "  model = compile_model(model)"
      ],
      "metadata": {
        "colab": {
          "base_uri": "https://localhost:8080/"
        },
        "id": "e4uBTeSBLf5t",
        "outputId": "14d62947-be57-4155-a825-78786c148718"
      },
      "execution_count": 12,
      "outputs": [
        {
          "output_type": "stream",
          "name": "stdout",
          "text": [
            "Model: \"sequential\"\n",
            "_________________________________________________________________\n",
            " Layer (type)                Output Shape              Param #   \n",
            "=================================================================\n",
            " embedding (Embedding)       (None, 300, 7)            216874    \n",
            "                                                                 \n",
            " conv1d (Conv1D)             (None, 296, 64)           2304      \n",
            "                                                                 \n",
            " max_pooling1d (MaxPooling1  (None, 148, 64)           0         \n",
            " D)                                                              \n",
            "                                                                 \n",
            " conv1d_1 (Conv1D)           (None, 146, 32)           6176      \n",
            "                                                                 \n",
            " max_pooling1d_1 (MaxPoolin  (None, 73, 32)            0         \n",
            " g1D)                                                            \n",
            "                                                                 \n",
            " flatten (Flatten)           (None, 2336)              0         \n",
            "                                                                 \n",
            " dense (Dense)               (None, 46)                107502    \n",
            "                                                                 \n",
            "=================================================================\n",
            "Total params: 332856 (1.27 MB)\n",
            "Trainable params: 332856 (1.27 MB)\n",
            "Non-trainable params: 0 (0.00 Byte)\n",
            "_________________________________________________________________\n"
          ]
        }
      ]
    },
    {
      "cell_type": "code",
      "source": [
        "history = model.fit(ds_train, validation_data=ds_test, epochs=10)"
      ],
      "metadata": {
        "colab": {
          "base_uri": "https://localhost:8080/"
        },
        "id": "3Rxwu5wNLfz-",
        "outputId": "f61c4de4-4a25-44b8-88b0-cd331253e1fc"
      },
      "execution_count": 13,
      "outputs": [
        {
          "output_type": "stream",
          "name": "stdout",
          "text": [
            "Epoch 1/10\n",
            "281/281 [==============================] - 4s 11ms/step - loss: 2.0044 - sparse_categorical_accuracy: 0.4728 - sparse_top_k_categorical_accuracy: 0.7453 - val_loss: 1.6474 - val_sparse_categorical_accuracy: 0.5744 - val_sparse_top_k_categorical_accuracy: 0.7627\n",
            "Epoch 2/10\n",
            "281/281 [==============================] - 3s 9ms/step - loss: 1.4314 - sparse_categorical_accuracy: 0.6300 - sparse_top_k_categorical_accuracy: 0.8024 - val_loss: 1.5113 - val_sparse_categorical_accuracy: 0.6309 - val_sparse_top_k_categorical_accuracy: 0.7912\n",
            "Epoch 3/10\n",
            "281/281 [==============================] - 3s 9ms/step - loss: 1.0958 - sparse_categorical_accuracy: 0.7118 - sparse_top_k_categorical_accuracy: 0.8692 - val_loss: 1.5325 - val_sparse_categorical_accuracy: 0.6425 - val_sparse_top_k_categorical_accuracy: 0.8148\n",
            "Epoch 4/10\n",
            "281/281 [==============================] - 3s 9ms/step - loss: 0.7970 - sparse_categorical_accuracy: 0.7951 - sparse_top_k_categorical_accuracy: 0.9310 - val_loss: 1.7679 - val_sparse_categorical_accuracy: 0.6327 - val_sparse_top_k_categorical_accuracy: 0.8148\n",
            "Epoch 5/10\n",
            "281/281 [==============================] - 3s 9ms/step - loss: 0.5660 - sparse_categorical_accuracy: 0.8601 - sparse_top_k_categorical_accuracy: 0.9630 - val_loss: 2.1001 - val_sparse_categorical_accuracy: 0.6207 - val_sparse_top_k_categorical_accuracy: 0.8117\n",
            "Epoch 6/10\n",
            "281/281 [==============================] - 3s 9ms/step - loss: 0.4248 - sparse_categorical_accuracy: 0.8991 - sparse_top_k_categorical_accuracy: 0.9783 - val_loss: 2.4873 - val_sparse_categorical_accuracy: 0.6167 - val_sparse_top_k_categorical_accuracy: 0.8130\n",
            "Epoch 7/10\n",
            "281/281 [==============================] - 3s 9ms/step - loss: 0.3454 - sparse_categorical_accuracy: 0.9194 - sparse_top_k_categorical_accuracy: 0.9875 - val_loss: 2.8096 - val_sparse_categorical_accuracy: 0.6153 - val_sparse_top_k_categorical_accuracy: 0.8112\n",
            "Epoch 8/10\n",
            "281/281 [==============================] - 3s 9ms/step - loss: 0.2920 - sparse_categorical_accuracy: 0.9322 - sparse_top_k_categorical_accuracy: 0.9906 - val_loss: 2.9362 - val_sparse_categorical_accuracy: 0.6126 - val_sparse_top_k_categorical_accuracy: 0.8068\n",
            "Epoch 9/10\n",
            "281/281 [==============================] - 3s 9ms/step - loss: 0.2596 - sparse_categorical_accuracy: 0.9364 - sparse_top_k_categorical_accuracy: 0.9924 - val_loss: 3.0055 - val_sparse_categorical_accuracy: 0.6113 - val_sparse_top_k_categorical_accuracy: 0.8019\n",
            "Epoch 10/10\n",
            "281/281 [==============================] - 3s 9ms/step - loss: 0.2378 - sparse_categorical_accuracy: 0.9407 - sparse_top_k_categorical_accuracy: 0.9941 - val_loss: 2.9577 - val_sparse_categorical_accuracy: 0.6198 - val_sparse_top_k_categorical_accuracy: 0.8059\n"
          ]
        }
      ]
    },
    {
      "cell_type": "code",
      "source": [],
      "metadata": {
        "id": "nmjspekmLfv2"
      },
      "execution_count": null,
      "outputs": []
    },
    {
      "cell_type": "code",
      "source": [],
      "metadata": {
        "id": "JCOUCazqLfsZ"
      },
      "execution_count": null,
      "outputs": []
    },
    {
      "cell_type": "code",
      "execution_count": null,
      "metadata": {
        "id": "7GLOBi86Kgk8"
      },
      "outputs": [],
      "source": []
    }
  ]
}