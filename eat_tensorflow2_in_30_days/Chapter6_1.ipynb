{
  "nbformat": 4,
  "nbformat_minor": 0,
  "metadata": {
    "colab": {
      "provenance": [],
      "authorship_tag": "ABX9TyPJ17Huzh0SP8TCAHIn3FsF",
      "include_colab_link": true
    },
    "kernelspec": {
      "name": "python3",
      "display_name": "Python 3"
    },
    "language_info": {
      "name": "python"
    }
  },
  "cells": [
    {
      "cell_type": "markdown",
      "metadata": {
        "id": "view-in-github",
        "colab_type": "text"
      },
      "source": [
        "<a href=\"https://colab.research.google.com/github/Anjasfedo/Learning-TensorFlow/blob/main/eat_tensorflow2_in_30_days/Chapter6_1.ipynb\" target=\"_parent\"><img src=\"https://colab.research.google.com/assets/colab-badge.svg\" alt=\"Open In Colab\"/></a>"
      ]
    },
    {
      "cell_type": "markdown",
      "source": [
        "# 6-1 Three Ways of Modeling"
      ],
      "metadata": {
        "id": "Mn4rarMTbuHL"
      }
    },
    {
      "cell_type": "markdown",
      "source": [
        "There are three ways of modeling:\n",
        "- Using `Sequential` to construct model with the order of layerr.\n",
        "- Using functional APIs to construct model with arbitary structure.\n",
        "- Using child class inheriting from base class `Model`.\n",
        "\n",
        "For the models with sequenced structure, `Sequential` method should be given the highest priority.\n",
        "\n",
        "For the models with non-sequential structure such as multiple input/output, shared weights, or resdual connections, modeling with functional API is recommended.\n",
        "\n",
        "Modeling through child class of `Model` shoud be AVOIDE unless with special requirements. This method is flexible, but also fallible.\n",
        "\n",
        "Here is the example of modeling using the three above-mentioned methods to classify IMDB movie reviews."
      ],
      "metadata": {
        "id": "_6pXTCZXb_jn"
      }
    },
    {
      "cell_type": "code",
      "source": [
        "import numpy as np\n",
        "import pandas as pd\n",
        "import tensorflow as tf\n",
        "from tensorflow import keras\n",
        "from tensorflow.keras import *\n",
        "from tqdm import tqdm"
      ],
      "metadata": {
        "id": "KHkafTGwdBYt"
      },
      "execution_count": 27,
      "outputs": []
    },
    {
      "cell_type": "code",
      "source": [
        "!git clone https://github.com/lyhue1991/eat_tensorflow2_in_30_days.git"
      ],
      "metadata": {
        "colab": {
          "base_uri": "https://localhost:8080/"
        },
        "id": "mgKfTS1xffua",
        "outputId": "0072fad1-c9e3-4610-ad54-0c1d8c176858"
      },
      "execution_count": 18,
      "outputs": [
        {
          "output_type": "stream",
          "name": "stdout",
          "text": [
            "Cloning into 'eat_tensorflow2_in_30_days'...\n",
            "remote: Enumerating objects: 14635, done.\u001b[K\n",
            "remote: Counting objects: 100% (18/18), done.\u001b[K\n",
            "remote: Compressing objects: 100% (14/14), done.\u001b[K\n",
            "remote: Total 14635 (delta 8), reused 8 (delta 4), pack-reused 14617\u001b[K\n",
            "Receiving objects: 100% (14635/14635), 59.88 MiB | 22.53 MiB/s, done.\n",
            "Resolving deltas: 100% (13241/13241), done.\n",
            "Updating files: 100% (12529/12529), done.\n"
          ]
        }
      ]
    },
    {
      "cell_type": "code",
      "source": [
        "train_token_path = \"/content/eat_tensorflow2_in_30_days/data/imdb/train_token.csv\"\n",
        "test_token_path = \"/content/eat_tensorflow2_in_30_days/data/imdb/test_token.csv\""
      ],
      "metadata": {
        "id": "hzhO_EUTdBVC"
      },
      "execution_count": 28,
      "outputs": []
    },
    {
      "cell_type": "code",
      "source": [
        "MAX_WORDS = 10000 # only consider the top 10k words in the dataset\n",
        "MAX_LEN = 200 # cut reviews after 200 words\n",
        "BATCH_SIZE = 20"
      ],
      "metadata": {
        "id": "FdTiBrXVdBQh"
      },
      "execution_count": 29,
      "outputs": []
    },
    {
      "cell_type": "code",
      "source": [
        "# Constructing data pipeline\n",
        "def parse_line(line):\n",
        "  t = tf.strings.split(line, sep=\"\\t\")\n",
        "  label = tf.reshape(tf.cast(tf.strings.to_number(t[0]), tf.int32), (-1,))\n",
        "  features = tf.cast(tf.strings.to_number(tf.strings.split(t[1], sep=\" \")), tf.int32)\n",
        "  return (features, label)\n",
        "\n",
        "ds_train = tf.data.TextLineDataset(filenames=[train_token_path]) \\\n",
        "          .map(parse_line, num_parallel_calls=tf.data.experimental.AUTOTUNE) \\\n",
        "          .shuffle(buffer_size=1000).batch(BATCH_SIZE) \\\n",
        "          .prefetch(tf.data.experimental.AUTOTUNE)\n",
        "\n",
        "ds_test = tf.data.TextLineDataset(filenames=[test_token_path]) \\\n",
        "          .map(parse_line, num_parallel_calls=tf.data.experimental.AUTOTUNE) \\\n",
        "          .shuffle(buffer_size=1000).batch(BATCH_SIZE) \\\n",
        "          .prefetch(tf.data.experimental.AUTOTUNE)"
      ],
      "metadata": {
        "id": "tC8i2NjgdcFP"
      },
      "execution_count": 30,
      "outputs": []
    },
    {
      "cell_type": "markdown",
      "source": [
        "## 1. Modeling Using `Sequential`"
      ],
      "metadata": {
        "id": "LAtE0uiZeEyD"
      }
    },
    {
      "cell_type": "code",
      "source": [
        "tf.keras.backend.clear_session()\n",
        "\n",
        "model = models.Sequential()\n",
        "\n",
        "model.add(layers.Embedding(MAX_WORDS, 7, input_length=MAX_LEN))\n",
        "model.add(layers.Conv1D(filters=64, kernel_size=5, activation=\"relu\"))\n",
        "model.add(layers.MaxPool1D(2))\n",
        "model.add(layers.Conv1D(filters=32, kernel_size=3, activation=\"relu\"))\n",
        "model.add(layers.MaxPool1D(2))\n",
        "model.add(layers.Flatten())\n",
        "model.add(layers.Dense(1, activation=\"sigmoid\"))\n",
        "\n",
        "model.compile(optimizer='Nadam',\n",
        "            loss='binary_crossentropy',\n",
        "            metrics=['accuracy',\"AUC\"])\n",
        "\n",
        "model.summary()"
      ],
      "metadata": {
        "colab": {
          "base_uri": "https://localhost:8080/"
        },
        "id": "sFvGfOUKdBLv",
        "outputId": "3ecbd4bd-1bf7-4c20-b2d3-3f04bceb2909"
      },
      "execution_count": 31,
      "outputs": [
        {
          "output_type": "stream",
          "name": "stdout",
          "text": [
            "Model: \"sequential\"\n",
            "_________________________________________________________________\n",
            " Layer (type)                Output Shape              Param #   \n",
            "=================================================================\n",
            " embedding (Embedding)       (None, 200, 7)            70000     \n",
            "                                                                 \n",
            " conv1d (Conv1D)             (None, 196, 64)           2304      \n",
            "                                                                 \n",
            " max_pooling1d (MaxPooling1  (None, 98, 64)            0         \n",
            " D)                                                              \n",
            "                                                                 \n",
            " conv1d_1 (Conv1D)           (None, 96, 32)            6176      \n",
            "                                                                 \n",
            " max_pooling1d_1 (MaxPoolin  (None, 48, 32)            0         \n",
            " g1D)                                                            \n",
            "                                                                 \n",
            " flatten (Flatten)           (None, 1536)              0         \n",
            "                                                                 \n",
            " dense (Dense)               (None, 1)                 1537      \n",
            "                                                                 \n",
            "=================================================================\n",
            "Total params: 80017 (312.57 KB)\n",
            "Trainable params: 80017 (312.57 KB)\n",
            "Non-trainable params: 0 (0.00 Byte)\n",
            "_________________________________________________________________\n"
          ]
        }
      ]
    },
    {
      "cell_type": "code",
      "source": [
        "import datetime\n",
        "\n",
        "logdir = \"/content/data/keras_model/\" + datetime.datetime.now().strftime(\"%Y%m%d-%H%M%S\")\n",
        "tensorboard_callback = tf.keras.callbacks.TensorBoard(logdir, histogram_freq=1)\n",
        "history = model.fit(ds_train,\n",
        "                    validation_data=ds_test,\n",
        "                    epochs=6,\n",
        "                    callbacks=[tensorboard_callback])"
      ],
      "metadata": {
        "colab": {
          "base_uri": "https://localhost:8080/"
        },
        "id": "9kJAn4P7hj3T",
        "outputId": "d7e4ab96-ba0a-447b-818b-891c167b40bd"
      },
      "execution_count": 35,
      "outputs": [
        {
          "output_type": "stream",
          "name": "stdout",
          "text": [
            "Epoch 1/6\n",
            "1000/1000 [==============================] - 30s 30ms/step - loss: 0.2161 - accuracy: 0.9133 - auc: 0.9716 - val_loss: 0.3248 - val_accuracy: 0.8708 - val_auc: 0.9427\n",
            "Epoch 2/6\n",
            "1000/1000 [==============================] - 20s 20ms/step - loss: 0.1247 - accuracy: 0.9535 - auc: 0.9902 - val_loss: 0.4521 - val_accuracy: 0.8600 - val_auc: 0.9305\n",
            "Epoch 3/6\n",
            "1000/1000 [==============================] - 22s 21ms/step - loss: 0.0601 - accuracy: 0.9786 - auc: 0.9976 - val_loss: 0.6357 - val_accuracy: 0.8556 - val_auc: 0.9185\n",
            "Epoch 4/6\n",
            "1000/1000 [==============================] - 20s 20ms/step - loss: 0.0239 - accuracy: 0.9922 - auc: 0.9996 - val_loss: 0.9201 - val_accuracy: 0.8502 - val_auc: 0.9052\n",
            "Epoch 5/6\n",
            "1000/1000 [==============================] - 23s 23ms/step - loss: 0.0117 - accuracy: 0.9958 - auc: 0.9999 - val_loss: 1.1740 - val_accuracy: 0.8476 - val_auc: 0.8968\n",
            "Epoch 6/6\n",
            "1000/1000 [==============================] - 22s 22ms/step - loss: 0.0159 - accuracy: 0.9940 - auc: 0.9997 - val_loss: 1.3492 - val_accuracy: 0.8466 - val_auc: 0.8917\n"
          ]
        }
      ]
    },
    {
      "cell_type": "code",
      "source": [
        "import matplotlib.pyplot as plt\n",
        "\n",
        "def plot_metric(history, metric):\n",
        "  train_metrics = history.history[metric]\n",
        "  val_metrics = history.history['val_'+metric]\n",
        "  epochs = range(1, len(train_metrics) + 1)\n",
        "  plt.plot(epochs, train_metrics, 'bo--')\n",
        "  plt.plot(epochs, val_metrics, 'ro-')\n",
        "  plt.title('Training and validation '+ metric)\n",
        "  plt.xlabel(\"Epochs\")\n",
        "  plt.ylabel(metric)\n",
        "  plt.legend([\"train_\"+metric, 'val_'+metric])\n",
        "  plt.show()"
      ],
      "metadata": {
        "id": "TMTAs1bndBDV"
      },
      "execution_count": 36,
      "outputs": []
    },
    {
      "cell_type": "code",
      "source": [
        "plot_metric(history,\"auc\")"
      ],
      "metadata": {
        "colab": {
          "base_uri": "https://localhost:8080/",
          "height": 472
        },
        "id": "zICoJRj8dA_Z",
        "outputId": "06eb068f-dceb-4a62-9988-61292fa7b69c"
      },
      "execution_count": 40,
      "outputs": [
        {
          "output_type": "display_data",
          "data": {
            "text/plain": [
              "<Figure size 640x480 with 1 Axes>"
            ],
            "image/png": "[encoded data removed]"
          },
          "metadata": {}
        }
      ]
    },
    {
      "cell_type": "code",
      "source": [],
      "metadata": {
        "id": "n5IZr5gIdA7G"
      },
      "execution_count": null,
      "outputs": []
    },
    {
      "cell_type": "code",
      "source": [],
      "metadata": {
        "id": "vAauVhKydA3H"
      },
      "execution_count": null,
      "outputs": []
    },
    {
      "cell_type": "code",
      "source": [],
      "metadata": {
        "id": "CTaCEyWkdAyd"
      },
      "execution_count": null,
      "outputs": []
    },
    {
      "cell_type": "code",
      "source": [],
      "metadata": {
        "id": "kFt7BaZZdAt9"
      },
      "execution_count": null,
      "outputs": []
    },
    {
      "cell_type": "code",
      "execution_count": null,
      "metadata": {
        "id": "KizlLy2CbWge"
      },
      "outputs": [],
      "source": []
    }
  ]
}