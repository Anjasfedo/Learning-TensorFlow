{
  "nbformat": 4,
  "nbformat_minor": 0,
  "metadata": {
    "colab": {
      "provenance": [],
      "authorship_tag": "ABX9TyMrXwe2IgqiLFoeRLMFk4JY",
      "include_colab_link": true
    },
    "kernelspec": {
      "name": "python3",
      "display_name": "Python 3"
    },
    "language_info": {
      "name": "python"
    }
  },
  "cells": [
    {
      "cell_type": "markdown",
      "metadata": {
        "id": "view-in-github",
        "colab_type": "text"
      },
      "source": [
        "<a href=\"https://colab.research.google.com/github/Anjasfedo/Learning-TensorFlow/blob/main/eat_tensorflow2_in_30_days/Chapter6_1.ipynb\" target=\"_parent\"><img src=\"https://colab.research.google.com/assets/colab-badge.svg\" alt=\"Open In Colab\"/></a>"
      ]
    },
    {
      "cell_type": "markdown",
      "source": [
        "# 6-1 Three Ways of Modeling"
      ],
      "metadata": {
        "id": "Mn4rarMTbuHL"
      }
    },
    {
      "cell_type": "markdown",
      "source": [
        "There are three ways of modeling:\n",
        "- Using `Sequential` to construct model with the order of layerr.\n",
        "- Using functional APIs to construct model with arbitary structure.\n",
        "- Using child class inheriting from base class `Model`.\n",
        "\n",
        "For the models with sequenced structure, `Sequential` method should be given the highest priority.\n",
        "\n",
        "For the models with non-sequential structure such as multiple input/output, shared weights, or resdual connections, modeling with functional API is recommended.\n",
        "\n",
        "Modeling through child class of `Model` shoud be AVOIDE unless with special requirements. This method is flexible, but also fallible.\n",
        "\n",
        "Here is the example of modeling using the three above-mentioned methods to classify IMDB movie reviews."
      ],
      "metadata": {
        "id": "_6pXTCZXb_jn"
      }
    },
    {
      "cell_type": "code",
      "source": [
        "import numpy as np\n",
        "import pandas as pd\n",
        "import tensorflow as tf\n",
        "from tensorflow import keras\n",
        "from tensorflow.keras import *\n",
        "from tqdm import tqdm"
      ],
      "metadata": {
        "id": "KHkafTGwdBYt"
      },
      "execution_count": 1,
      "outputs": []
    },
    {
      "cell_type": "code",
      "source": [
        "!git clone https://github.com/lyhue1991/eat_tensorflow2_in_30_days.git"
      ],
      "metadata": {
        "colab": {
          "base_uri": "https://localhost:8080/"
        },
        "id": "mgKfTS1xffua",
        "outputId": "5c913f5c-72f3-4649-ed8f-5b41df34f247"
      },
      "execution_count": 2,
      "outputs": [
        {
          "output_type": "stream",
          "name": "stdout",
          "text": [
            "Cloning into 'eat_tensorflow2_in_30_days'...\n",
            "remote: Enumerating objects: 14635, done.\u001b[K\n",
            "remote: Counting objects: 100% (18/18), done.\u001b[K\n",
            "remote: Compressing objects: 100% (14/14), done.\u001b[K\n",
            "remote: Total 14635 (delta 8), reused 8 (delta 4), pack-reused 14617\u001b[K\n",
            "Receiving objects: 100% (14635/14635), 59.88 MiB | 13.25 MiB/s, done.\n",
            "Resolving deltas: 100% (13241/13241), done.\n",
            "Updating files: 100% (12529/12529), done.\n"
          ]
        }
      ]
    },
    {
      "cell_type": "code",
      "source": [
        "train_token_path = \"/content/eat_tensorflow2_in_30_days/data/imdb/train_token.csv\"\n",
        "test_token_path = \"/content/eat_tensorflow2_in_30_days/data/imdb/test_token.csv\""
      ],
      "metadata": {
        "id": "hzhO_EUTdBVC"
      },
      "execution_count": 3,
      "outputs": []
    },
    {
      "cell_type": "code",
      "source": [
        "MAX_WORDS = 10000 # only consider the top 10k words in the dataset\n",
        "MAX_LEN = 200 # cut reviews after 200 words\n",
        "BATCH_SIZE = 20"
      ],
      "metadata": {
        "id": "FdTiBrXVdBQh"
      },
      "execution_count": 4,
      "outputs": []
    },
    {
      "cell_type": "code",
      "source": [
        "# Constructing data pipeline\n",
        "def parse_line(line):\n",
        "  t = tf.strings.split(line, sep=\"\\t\")\n",
        "  label = tf.reshape(tf.cast(tf.strings.to_number(t[0]), tf.int32), (-1,))\n",
        "  features = tf.cast(tf.strings.to_number(tf.strings.split(t[1], sep=\" \")), tf.int32)\n",
        "  return (features, label)\n",
        "\n",
        "ds_train = tf.data.TextLineDataset(filenames=[train_token_path]) \\\n",
        "          .map(parse_line, num_parallel_calls=tf.data.experimental.AUTOTUNE) \\\n",
        "          .shuffle(buffer_size=1000).batch(BATCH_SIZE) \\\n",
        "          .prefetch(tf.data.experimental.AUTOTUNE)\n",
        "\n",
        "ds_test = tf.data.TextLineDataset(filenames=[test_token_path]) \\\n",
        "          .map(parse_line, num_parallel_calls=tf.data.experimental.AUTOTUNE) \\\n",
        "          .shuffle(buffer_size=1000).batch(BATCH_SIZE) \\\n",
        "          .prefetch(tf.data.experimental.AUTOTUNE)"
      ],
      "metadata": {
        "id": "tC8i2NjgdcFP"
      },
      "execution_count": 5,
      "outputs": []
    },
    {
      "cell_type": "markdown",
      "source": [
        "## 1. Modeling Using `Sequential`"
      ],
      "metadata": {
        "id": "LAtE0uiZeEyD"
      }
    },
    {
      "cell_type": "code",
      "source": [
        "tf.keras.backend.clear_session()\n",
        "\n",
        "model = models.Sequential()\n",
        "\n",
        "model.add(layers.Embedding(MAX_WORDS, 7, input_length=MAX_LEN))\n",
        "model.add(layers.Conv1D(filters=64, kernel_size=5, activation=\"relu\"))\n",
        "model.add(layers.MaxPool1D(2))\n",
        "model.add(layers.Conv1D(filters=32, kernel_size=3, activation=\"relu\"))\n",
        "model.add(layers.MaxPool1D(2))\n",
        "model.add(layers.Flatten())\n",
        "model.add(layers.Dense(1, activation=\"sigmoid\"))\n",
        "\n",
        "model.compile(optimizer='Nadam',\n",
        "            loss='binary_crossentropy',\n",
        "            metrics=['accuracy',\"AUC\"])\n",
        "\n",
        "model.summary()"
      ],
      "metadata": {
        "colab": {
          "base_uri": "https://localhost:8080/"
        },
        "id": "sFvGfOUKdBLv",
        "outputId": "b0d808a7-98c7-44ff-bbdc-7a054fcdeeb2"
      },
      "execution_count": 6,
      "outputs": [
        {
          "output_type": "stream",
          "name": "stdout",
          "text": [
            "Model: \"sequential\"\n",
            "_________________________________________________________________\n",
            " Layer (type)                Output Shape              Param #   \n",
            "=================================================================\n",
            " embedding (Embedding)       (None, 200, 7)            70000     \n",
            "                                                                 \n",
            " conv1d (Conv1D)             (None, 196, 64)           2304      \n",
            "                                                                 \n",
            " max_pooling1d (MaxPooling1  (None, 98, 64)            0         \n",
            " D)                                                              \n",
            "                                                                 \n",
            " conv1d_1 (Conv1D)           (None, 96, 32)            6176      \n",
            "                                                                 \n",
            " max_pooling1d_1 (MaxPoolin  (None, 48, 32)            0         \n",
            " g1D)                                                            \n",
            "                                                                 \n",
            " flatten (Flatten)           (None, 1536)              0         \n",
            "                                                                 \n",
            " dense (Dense)               (None, 1)                 1537      \n",
            "                                                                 \n",
            "=================================================================\n",
            "Total params: 80017 (312.57 KB)\n",
            "Trainable params: 80017 (312.57 KB)\n",
            "Non-trainable params: 0 (0.00 Byte)\n",
            "_________________________________________________________________\n"
          ]
        }
      ]
    },
    {
      "cell_type": "code",
      "source": [
        "import datetime\n",
        "\n",
        "logdir = \"/content/data/keras_model/\" + datetime.datetime.now().strftime(\"%Y%m%d-%H%M%S\")\n",
        "tensorboard_callback = tf.keras.callbacks.TensorBoard(logdir, histogram_freq=1)\n",
        "history = model.fit(ds_train,\n",
        "                    validation_data=ds_test,\n",
        "                    epochs=6,\n",
        "                    callbacks=[tensorboard_callback])"
      ],
      "metadata": {
        "colab": {
          "base_uri": "https://localhost:8080/"
        },
        "id": "9kJAn4P7hj3T",
        "outputId": "fb16c346-e22b-4640-dfa7-8e65940ad6a6"
      },
      "execution_count": 7,
      "outputs": [
        {
          "output_type": "stream",
          "name": "stdout",
          "text": [
            "Epoch 1/6\n",
            "1000/1000 [==============================] - 20s 17ms/step - loss: 0.4560 - accuracy: 0.7527 - auc: 0.8573 - val_loss: 0.3460 - val_accuracy: 0.8512 - val_auc: 0.9446\n",
            "Epoch 2/6\n",
            "1000/1000 [==============================] - 11s 11ms/step - loss: 0.2186 - accuracy: 0.9135 - auc: 0.9710 - val_loss: 0.3358 - val_accuracy: 0.8694 - val_auc: 0.9431\n",
            "Epoch 3/6\n",
            "1000/1000 [==============================] - 10s 10ms/step - loss: 0.1360 - accuracy: 0.9485 - auc: 0.9883 - val_loss: 0.4229 - val_accuracy: 0.8630 - val_auc: 0.9336\n",
            "Epoch 4/6\n",
            "1000/1000 [==============================] - 11s 11ms/step - loss: 0.0780 - accuracy: 0.9722 - auc: 0.9957 - val_loss: 0.7028 - val_accuracy: 0.8432 - val_auc: 0.9140\n",
            "Epoch 5/6\n",
            "1000/1000 [==============================] - 11s 11ms/step - loss: 0.0394 - accuracy: 0.9868 - auc: 0.9988 - val_loss: 0.7861 - val_accuracy: 0.8550 - val_auc: 0.9088\n",
            "Epoch 6/6\n",
            "1000/1000 [==============================] - 15s 15ms/step - loss: 0.0239 - accuracy: 0.9923 - auc: 0.9994 - val_loss: 1.1231 - val_accuracy: 0.8444 - val_auc: 0.8938\n"
          ]
        }
      ]
    },
    {
      "cell_type": "code",
      "source": [
        "import matplotlib.pyplot as plt\n",
        "\n",
        "def plot_metric(history, metric):\n",
        "  train_metrics = history.history[metric]\n",
        "  val_metrics = history.history['val_'+metric]\n",
        "  epochs = range(1, len(train_metrics) + 1)\n",
        "  plt.plot(epochs, train_metrics, 'bo--')\n",
        "  plt.plot(epochs, val_metrics, 'ro-')\n",
        "  plt.title('Training and validation '+ metric)\n",
        "  plt.xlabel(\"Epochs\")\n",
        "  plt.ylabel(metric)\n",
        "  plt.legend([\"train_\"+metric, 'val_'+metric])\n",
        "  plt.show()"
      ],
      "metadata": {
        "id": "TMTAs1bndBDV"
      },
      "execution_count": 8,
      "outputs": []
    },
    {
      "cell_type": "code",
      "source": [
        "plot_metric(history,\"auc\")"
      ],
      "metadata": {
        "colab": {
          "base_uri": "https://localhost:8080/",
          "height": 472
        },
        "id": "zICoJRj8dA_Z",
        "outputId": "8f77742f-aa44-42e6-cf8c-528b82ea6be7"
      },
      "execution_count": 9,
      "outputs": [
        {
          "output_type": "display_data",
          "data": {
            "text/plain": [
              "<Figure size 640x480 with 1 Axes>"
            ],
            "image/png": "[encoded data removed]"
          },
          "metadata": {}
        }
      ]
    },
    {
      "cell_type": "markdown",
      "source": [
        "## 2. Modeling Using Functional API"
      ],
      "metadata": {
        "id": "h2Igl7ew9mCD"
      }
    },
    {
      "cell_type": "code",
      "source": [
        "tf.keras.backend.clear_session()\n",
        "\n",
        "inputs = layers.Input(shape=[MAX_LEN])\n",
        "x = layers.Embedding(MAX_WORDS, 7)(inputs)\n",
        "\n",
        "branch1 = layers.SeparableConv1D(64, 3, activation=\"relu\")(x)\n",
        "branch1 = layers.MaxPool1D(3)(branch1)\n",
        "branch1 = layers.SeparableConv1D(32, 3, activation=\"relu\")(branch1)\n",
        "branch1 = layers.GlobalMaxPool1D()(branch1)\n",
        "\n",
        "branch2 = layers.SeparableConv1D(64, 5, activation=\"relu\")(x)\n",
        "branch2 = layers.MaxPool1D(5)(branch2)\n",
        "branch2 = layers.SeparableConv1D(32, 5, activation=\"relu\")(branch2)\n",
        "branch2 = layers.GlobalMaxPool1D()(branch2)\n",
        "\n",
        "branch3 = layers.SeparableConv1D(64, 7, activation=\"relu\")(x)\n",
        "branch3 = layers.MaxPool1D(7)(branch3)\n",
        "branch3 = layers.SeparableConv1D(32, 7, activation=\"relu\")(branch3)\n",
        "branch3 = layers.GlobalMaxPool1D()(branch3)\n",
        "\n",
        "concat = layers.Concatenate()([branch1, branch2, branch3])\n",
        "outputs = layers.Dense(1, activation=\"sigmoid\")(concat)\n",
        "\n",
        "model = models.Model(inputs=inputs, outputs=outputs)\n",
        "\n",
        "model.compile(optimizer='Nadam',\n",
        "            loss='binary_crossentropy',\n",
        "            metrics=['accuracy',\"AUC\"])\n",
        "\n",
        "model.summary()"
      ],
      "metadata": {
        "id": "n5IZr5gIdA7G",
        "colab": {
          "base_uri": "https://localhost:8080/"
        },
        "outputId": "41fb8216-eb41-4f02-9dae-2a3a9f303417"
      },
      "execution_count": 10,
      "outputs": [
        {
          "output_type": "stream",
          "name": "stdout",
          "text": [
            "Model: \"model\"\n",
            "__________________________________________________________________________________________________\n",
            " Layer (type)                Output Shape                 Param #   Connected to                  \n",
            "==================================================================================================\n",
            " input_1 (InputLayer)        [(None, 200)]                0         []                            \n",
            "                                                                                                  \n",
            " embedding (Embedding)       (None, 200, 7)               70000     ['input_1[0][0]']             \n",
            "                                                                                                  \n",
            " separable_conv1d (Separabl  (None, 198, 64)              533       ['embedding[0][0]']           \n",
            " eConv1D)                                                                                         \n",
            "                                                                                                  \n",
            " separable_conv1d_2 (Separa  (None, 196, 64)              547       ['embedding[0][0]']           \n",
            " bleConv1D)                                                                                       \n",
            "                                                                                                  \n",
            " separable_conv1d_4 (Separa  (None, 194, 64)              561       ['embedding[0][0]']           \n",
            " bleConv1D)                                                                                       \n",
            "                                                                                                  \n",
            " max_pooling1d (MaxPooling1  (None, 66, 64)               0         ['separable_conv1d[0][0]']    \n",
            " D)                                                                                               \n",
            "                                                                                                  \n",
            " max_pooling1d_1 (MaxPoolin  (None, 39, 64)               0         ['separable_conv1d_2[0][0]']  \n",
            " g1D)                                                                                             \n",
            "                                                                                                  \n",
            " max_pooling1d_2 (MaxPoolin  (None, 27, 64)               0         ['separable_conv1d_4[0][0]']  \n",
            " g1D)                                                                                             \n",
            "                                                                                                  \n",
            " separable_conv1d_1 (Separa  (None, 64, 32)               2272      ['max_pooling1d[0][0]']       \n",
            " bleConv1D)                                                                                       \n",
            "                                                                                                  \n",
            " separable_conv1d_3 (Separa  (None, 35, 32)               2400      ['max_pooling1d_1[0][0]']     \n",
            " bleConv1D)                                                                                       \n",
            "                                                                                                  \n",
            " separable_conv1d_5 (Separa  (None, 21, 32)               2528      ['max_pooling1d_2[0][0]']     \n",
            " bleConv1D)                                                                                       \n",
            "                                                                                                  \n",
            " global_max_pooling1d (Glob  (None, 32)                   0         ['separable_conv1d_1[0][0]']  \n",
            " alMaxPooling1D)                                                                                  \n",
            "                                                                                                  \n",
            " global_max_pooling1d_1 (Gl  (None, 32)                   0         ['separable_conv1d_3[0][0]']  \n",
            " obalMaxPooling1D)                                                                                \n",
            "                                                                                                  \n",
            " global_max_pooling1d_2 (Gl  (None, 32)                   0         ['separable_conv1d_5[0][0]']  \n",
            " obalMaxPooling1D)                                                                                \n",
            "                                                                                                  \n",
            " concatenate (Concatenate)   (None, 96)                   0         ['global_max_pooling1d[0][0]',\n",
            "                                                                     'global_max_pooling1d_1[0][0]\n",
            "                                                                    ',                            \n",
            "                                                                     'global_max_pooling1d_2[0][0]\n",
            "                                                                    ']                            \n",
            "                                                                                                  \n",
            " dense (Dense)               (None, 1)                    97        ['concatenate[0][0]']         \n",
            "                                                                                                  \n",
            "==================================================================================================\n",
            "Total params: 78938 (308.35 KB)\n",
            "Trainable params: 78938 (308.35 KB)\n",
            "Non-trainable params: 0 (0.00 Byte)\n",
            "__________________________________________________________________________________________________\n"
          ]
        }
      ]
    },
    {
      "cell_type": "code",
      "source": [
        "history_2 = model.fit(ds_train,\n",
        "                    validation_data=ds_test,\n",
        "                    epochs=6,\n",
        "                    callbacks=[tensorboard_callback])"
      ],
      "metadata": {
        "id": "vAauVhKydA3H",
        "colab": {
          "base_uri": "https://localhost:8080/"
        },
        "outputId": "15db0b97-a1af-4930-c388-72f7530b40bf"
      },
      "execution_count": 11,
      "outputs": [
        {
          "output_type": "stream",
          "name": "stdout",
          "text": [
            "Epoch 1/6\n",
            "1000/1000 [==============================] - 23s 20ms/step - loss: 0.5926 - accuracy: 0.6588 - auc: 0.7411 - val_loss: 0.3968 - val_accuracy: 0.8302 - val_auc: 0.9055\n",
            "Epoch 2/6\n",
            "1000/1000 [==============================] - 16s 16ms/step - loss: 0.3029 - accuracy: 0.8722 - auc: 0.9444 - val_loss: 0.3422 - val_accuracy: 0.8568 - val_auc: 0.9312\n",
            "Epoch 3/6\n",
            "1000/1000 [==============================] - 17s 16ms/step - loss: 0.1704 - accuracy: 0.9345 - auc: 0.9825 - val_loss: 0.4005 - val_accuracy: 0.8548 - val_auc: 0.9269\n",
            "Epoch 4/6\n",
            "1000/1000 [==============================] - 16s 16ms/step - loss: 0.0820 - accuracy: 0.9761 - auc: 0.9956 - val_loss: 0.5451 - val_accuracy: 0.8454 - val_auc: 0.9159\n",
            "Epoch 5/6\n",
            "1000/1000 [==============================] - 16s 16ms/step - loss: 0.0294 - accuracy: 0.9937 - auc: 0.9990 - val_loss: 0.6651 - val_accuracy: 0.8466 - val_auc: 0.9087\n",
            "Epoch 6/6\n",
            "1000/1000 [==============================] - 16s 16ms/step - loss: 0.0084 - accuracy: 0.9991 - auc: 0.9998 - val_loss: 0.7718 - val_accuracy: 0.8450 - val_auc: 0.9028\n"
          ]
        }
      ]
    },
    {
      "cell_type": "code",
      "source": [
        "plot_metric(history_2,\"auc\")"
      ],
      "metadata": {
        "colab": {
          "base_uri": "https://localhost:8080/",
          "height": 472
        },
        "id": "UkSTV55--Mvx",
        "outputId": "edd0165e-073a-4341-b729-5a85df49a402"
      },
      "execution_count": 12,
      "outputs": [
        {
          "output_type": "display_data",
          "data": {
            "text/plain": [
              "<Figure size 640x480 with 1 Axes>"
            ],
            "image/png": "[encoded data removed]"
          },
          "metadata": {}
        }
      ]
    },
    {
      "cell_type": "markdown",
      "source": [
        "## 3. Customized Modeling Using Child Class of `Model`"
      ],
      "metadata": {
        "id": "79gVBtE7-tGx"
      }
    },
    {
      "cell_type": "code",
      "source": [
        "# Customized residual module as layer\n",
        "class ResBlock(layers.Layer):\n",
        "  def __init__(self, kernel_size, **kwargs):\n",
        "    super(ResBlock, self).__init__(**kwargs)\n",
        "    self.kernel_size = kernel_size\n",
        "\n",
        "  def build(self, input_shape):\n",
        "    self.conv1 = layers.Conv1D(filters=64,\n",
        "                               kernel_size=self.kernel_size,\n",
        "                               activation=\"relu\",\n",
        "                               padding=\"same\")\n",
        "    self.conv2 = layers.Conv1D(filters=32,\n",
        "                               kernel_size=self.kernel_size,\n",
        "                               activation=\"relu\",\n",
        "                               padding=\"same\")\n",
        "    self.conv3 = layers.Conv1D(filters=input_shape[-1],\n",
        "                               kernel_size=self.kernel_size,\n",
        "                               activation=\"relu\",\n",
        "                               padding=\"same\")\n",
        "    self.maxpool = layers.MaxPool1D(2)\n",
        "    super(ResBlock, self).build(input_shape)\n",
        "\n",
        "  def call(self, inputs):\n",
        "    x = self.conv1(inputs)\n",
        "    x = self.conv2(x)\n",
        "    x = self.conv3(x)\n",
        "    x = layers.Add()([inputs, x])\n",
        "    x = self.maxpool(x)\n",
        "    return x\n",
        "\n",
        "  # Need to define get_config method in order to sequentialize the model construced from customized Layer by Functional API\n",
        "  def get_config(self):\n",
        "    config = super(ResBlock, self).get_config()\n",
        "    config.update({'kernel_size': self.kernel_size})\n",
        "    return config"
      ],
      "metadata": {
        "id": "CTaCEyWkdAyd"
      },
      "execution_count": 15,
      "outputs": []
    },
    {
      "cell_type": "code",
      "source": [
        "# Test resblock\n",
        "resblock = ResBlock(kernel_size=3)\n",
        "resblock.build(input_shape=(None, 200, 7))\n",
        "resblock.compute_output_shape(input_shape=(None, 200, 7))"
      ],
      "metadata": {
        "id": "kFt7BaZZdAt9",
        "colab": {
          "base_uri": "https://localhost:8080/"
        },
        "outputId": "01f8c6ea-67c3-4bea-d21c-810e5aa840c6"
      },
      "execution_count": 16,
      "outputs": [
        {
          "output_type": "execute_result",
          "data": {
            "text/plain": [
              "TensorShape([None, 100, 7])"
            ]
          },
          "metadata": {},
          "execution_count": 16
        }
      ]
    },
    {
      "cell_type": "code",
      "source": [
        "# Customized model, which cloud also be implemented by Sequential or Functional API\n",
        "\n",
        "class ImdbModel(models.Model):\n",
        "  def __init__(self):\n",
        "    super(ImdbModel, self).__init__()\n",
        "\n",
        "  def build(self, input_shape):\n",
        "    self.embedding = layers.Embedding(MAX_WORDS, 7)\n",
        "    self.block1 = ResBlock(7)\n",
        "    self.block2 = ResBlock(5)\n",
        "    self.dense = layers.Dense(1, activation=\"sigmoid\")\n",
        "    super(ImdbModel, self).build(input_shape)\n",
        "\n",
        "  def call(self, x):\n",
        "    x = self.embedding(x)\n",
        "    x = self.block1(x)\n",
        "    x = self.block2(x)\n",
        "    x = layers.Flatten()(x)\n",
        "    x = self.dense(x)\n",
        "    return x"
      ],
      "metadata": {
        "id": "Os7TJ4BL_zZR"
      },
      "execution_count": 17,
      "outputs": []
    },
    {
      "cell_type": "code",
      "source": [
        "tf.keras.backend.clear_session()\n",
        "\n",
        "model = ImdbModel()\n",
        "model.build(input_shape=(None, 200))\n",
        "model.summary()\n",
        "\n",
        "model.compile(optimizer=\"Nadam\",\n",
        "              loss=\"binary_crossentropy\",\n",
        "              metrics=[\"accuracy\", \"AUC\"])"
      ],
      "metadata": {
        "colab": {
          "base_uri": "https://localhost:8080/"
        },
        "id": "EP3NXPRLAFbo",
        "outputId": "712104ad-e581-4509-d074-3f957629d941"
      },
      "execution_count": 19,
      "outputs": [
        {
          "output_type": "stream",
          "name": "stdout",
          "text": [
            "Model: \"imdb_model\"\n",
            "_________________________________________________________________\n",
            " Layer (type)                Output Shape              Param #   \n",
            "=================================================================\n",
            " embedding (Embedding)       multiple                  70000     \n",
            "                                                                 \n",
            " res_block (ResBlock)        multiple                  19143     \n",
            "                                                                 \n",
            " res_block_1 (ResBlock)      multiple                  13703     \n",
            "                                                                 \n",
            " dense (Dense)               multiple                  351       \n",
            "                                                                 \n",
            "=================================================================\n",
            "Total params: 103197 (403.11 KB)\n",
            "Trainable params: 103197 (403.11 KB)\n",
            "Non-trainable params: 0 (0.00 Byte)\n",
            "_________________________________________________________________\n"
          ]
        }
      ]
    },
    {
      "cell_type": "code",
      "source": [
        "history_3 = model.fit(ds_train,\n",
        "                    validation_data=ds_test,\n",
        "                    epochs=6,\n",
        "                    callbacks=[tensorboard_callback])"
      ],
      "metadata": {
        "colab": {
          "base_uri": "https://localhost:8080/"
        },
        "id": "OsP563k-_zU9",
        "outputId": "ba4a5437-6ece-4616-fbd5-ff1fb6305895"
      },
      "execution_count": 20,
      "outputs": [
        {
          "output_type": "stream",
          "name": "stdout",
          "text": [
            "Epoch 1/6\n",
            "1000/1000 [==============================] - 29s 27ms/step - loss: 0.5055 - accuracy: 0.7078 - auc: 0.8117 - val_loss: 0.3057 - val_accuracy: 0.8706 - val_auc: 0.9438\n",
            "Epoch 2/6\n",
            "1000/1000 [==============================] - 23s 23ms/step - loss: 0.2337 - accuracy: 0.9043 - auc: 0.9667 - val_loss: 0.3250 - val_accuracy: 0.8694 - val_auc: 0.9457\n",
            "Epoch 3/6\n",
            "1000/1000 [==============================] - 24s 24ms/step - loss: 0.1362 - accuracy: 0.9495 - auc: 0.9883 - val_loss: 0.3940 - val_accuracy: 0.8614 - val_auc: 0.9369\n",
            "Epoch 4/6\n",
            "1000/1000 [==============================] - 23s 23ms/step - loss: 0.0688 - accuracy: 0.9753 - auc: 0.9965 - val_loss: 0.6323 - val_accuracy: 0.8592 - val_auc: 0.9188\n",
            "Epoch 5/6\n",
            "1000/1000 [==============================] - 23s 23ms/step - loss: 0.0396 - accuracy: 0.9859 - auc: 0.9986 - val_loss: 0.7362 - val_accuracy: 0.8496 - val_auc: 0.9138\n",
            "Epoch 6/6\n",
            "1000/1000 [==============================] - 23s 23ms/step - loss: 0.0239 - accuracy: 0.9919 - auc: 0.9994 - val_loss: 1.0491 - val_accuracy: 0.8564 - val_auc: 0.8979\n"
          ]
        }
      ]
    },
    {
      "cell_type": "code",
      "source": [
        "plot_metric(history_3,\"auc\")"
      ],
      "metadata": {
        "colab": {
          "base_uri": "https://localhost:8080/",
          "height": 472
        },
        "id": "iXDIL-P-_zQv",
        "outputId": "4d3b77d2-ba4b-430e-b536-5926860e48eb"
      },
      "execution_count": 21,
      "outputs": [
        {
          "output_type": "display_data",
          "data": {
            "text/plain": [
              "<Figure size 640x480 with 1 Axes>"
            ],
            "image/png": "[encoded data removed]"
          },
          "metadata": {}
        }
      ]
    },
    {
      "cell_type": "code",
      "source": [],
      "metadata": {
        "id": "YKLkP33N_zMz"
      },
      "execution_count": null,
      "outputs": []
    },
    {
      "cell_type": "code",
      "source": [],
      "metadata": {
        "id": "immvidlu_zIt"
      },
      "execution_count": null,
      "outputs": []
    },
    {
      "cell_type": "code",
      "source": [],
      "metadata": {
        "id": "3E8ZDvyI_zEK"
      },
      "execution_count": null,
      "outputs": []
    },
    {
      "cell_type": "code",
      "source": [],
      "metadata": {
        "id": "aHnZJoKn_y_3"
      },
      "execution_count": null,
      "outputs": []
    },
    {
      "cell_type": "code",
      "source": [],
      "metadata": {
        "id": "sTYnNwxG_y7q"
      },
      "execution_count": null,
      "outputs": []
    },
    {
      "cell_type": "code",
      "execution_count": 9,
      "metadata": {
        "id": "KizlLy2CbWge"
      },
      "outputs": [],
      "source": []
    }
  ]
}