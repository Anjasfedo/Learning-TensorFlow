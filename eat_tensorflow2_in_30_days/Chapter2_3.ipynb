{
  "nbformat": 4,
  "nbformat_minor": 0,
  "metadata": {
    "colab": {
      "provenance": [],
      "authorship_tag": "ABX9TyMaPdx8tsP7cWo3syGr156D",
      "include_colab_link": true
    },
    "kernelspec": {
      "name": "python3",
      "display_name": "Python 3"
    },
    "language_info": {
      "name": "python"
    }
  },
  "cells": [
    {
      "cell_type": "markdown",
      "metadata": {
        "id": "view-in-github",
        "colab_type": "text"
      },
      "source": [
        "<a href=\"https://colab.research.google.com/github/Anjasfedo/Learning-TensorFlow/blob/main/eat_tensorflow2_in_30_days/Chapter2_3.ipynb\" target=\"_parent\"><img src=\"https://colab.research.google.com/assets/colab-badge.svg\" alt=\"Open In Colab\"/></a>"
      ]
    },
    {
      "cell_type": "markdown",
      "source": [
        "# 2-3 Automatic Differentiate"
      ],
      "metadata": {
        "id": "8P0W2Y2poI-9"
      }
    },
    {
      "cell_type": "markdown",
      "source": [
        "The neural network relies on back propagations to calculate gradients and update parameters in the network. Gradient calculatio is complicated which is easy to occur mistakes.\n",
        "\n",
        "The framework for deep learning helps to calculate gradient automatically.\n",
        "\n",
        "`tf.GradientTape` is usually used to record forward calculation in TensorFlow, and reverse this \"tape\" to obtain the gradient.\n",
        "\n",
        "This is the automatic differentiate in TensorFlow."
      ],
      "metadata": {
        "id": "ueyBIcaVoKSv"
      }
    },
    {
      "cell_type": "markdown",
      "source": [
        "## 1. Calculate the Derivative Using the Gradient Tape"
      ],
      "metadata": {
        "id": "OtkArSYfopTg"
      }
    },
    {
      "cell_type": "code",
      "source": [
        "import tensorflow as tf\n",
        "import numpy as np\n",
        "\n",
        "# Calculate the derivative of f(x) = a*x**2 + b*x + c\n",
        "\n",
        "x = tf.Variable(0.0, name='x', dtype=tf.float32)\n",
        "a = tf.constant(1.0)\n",
        "b = tf.constant(2.0)\n",
        "c = tf.constant(3.0)\n",
        "\n",
        "with tf.GradientTape() as tape:\n",
        "    y = a * tf.pow(x, 2) + b * x + c\n",
        "\n",
        "dy_dx = tape.gradient(y, x)\n",
        "print(dy_dx)"
      ],
      "metadata": {
        "colab": {
          "base_uri": "https://localhost:8080/"
        },
        "id": "Wtv7GbUooLi3",
        "outputId": "8584c0ba-2d94-4ebd-97d9-67a7b4874929"
      },
      "execution_count": 1,
      "outputs": [
        {
          "output_type": "stream",
          "name": "stdout",
          "text": [
            "tf.Tensor(2.0, shape=(), dtype=float32)\n"
          ]
        }
      ]
    },
    {
      "cell_type": "code",
      "source": [
        "# Use watch to calculate derivatives of the constant tensor\n",
        "\n",
        "with tf.GradientTape() as tape:\n",
        "  tape.watch([a, b, c])\n",
        "  y = a * tf.pow(x, 2) + b * x + c\n",
        "\n",
        "dy_dx, dy_da, dy_db, dy_dc = tape.gradient(y, [x, a, b, c])\n",
        "print(dy_dx)\n",
        "print(dy_da)\n",
        "print(dy_db)\n",
        "print(dy_dc)"
      ],
      "metadata": {
        "colab": {
          "base_uri": "https://localhost:8080/"
        },
        "id": "us28F4M9oLeX",
        "outputId": "785f6f31-6d88-432a-d55a-8595d6b9bc89"
      },
      "execution_count": 2,
      "outputs": [
        {
          "output_type": "stream",
          "name": "stdout",
          "text": [
            "tf.Tensor(2.0, shape=(), dtype=float32)\n",
            "tf.Tensor(0.0, shape=(), dtype=float32)\n",
            "tf.Tensor(0.0, shape=(), dtype=float32)\n",
            "tf.Tensor(1.0, shape=(), dtype=float32)\n"
          ]
        }
      ]
    },
    {
      "cell_type": "code",
      "source": [
        "# Calculate the second order derivative\n",
        "\n",
        "with tf.GradientTape() as tape2:\n",
        "  with tf.GradientTape() as tape1:\n",
        "    y = a * tf.pow(x, 2) + b * x + c\n",
        "\n",
        "  dy_dx = tape1.gradient(y, x)\n",
        "\n",
        "dy2_dx2 = tape2.gradient(dy_dx, x)\n",
        "print(dy2_dx2)"
      ],
      "metadata": {
        "colab": {
          "base_uri": "https://localhost:8080/"
        },
        "id": "AW4irlg9oLaM",
        "outputId": "8c371d0f-73db-48ad-b531-667e247e30a4"
      },
      "execution_count": 3,
      "outputs": [
        {
          "output_type": "stream",
          "name": "stdout",
          "text": [
            "tf.Tensor(2.0, shape=(), dtype=float32)\n"
          ]
        }
      ]
    },
    {
      "cell_type": "code",
      "source": [
        "# Use it in the autograph\n",
        "\n",
        "@tf.function\n",
        "def f(x):\n",
        "  a = tf.constant(1.0)\n",
        "  b = tf.constant(-2.0)\n",
        "  c = tf.constant(1.0)\n",
        "\n",
        "  # Convert the type  of the variable to tf.float32\n",
        "  x = tf.cast(x, tf.float32)\n",
        "\n",
        "  with tf.GradientTape() as tape:\n",
        "    tape.watch(x)\n",
        "    y = a * tf.pow(x, 2) + b * x + c\n",
        "\n",
        "  dy_dx = tape.gradient(y, x)\n",
        "  return (dy_dx, x)\n",
        "\n",
        "tf.print(f(tf.constant(0.0)))\n",
        "tf.print(f(tf.constant(1.0)))"
      ],
      "metadata": {
        "colab": {
          "base_uri": "https://localhost:8080/"
        },
        "id": "B4symdD3oLWb",
        "outputId": "f86e8685-102b-4568-c6f4-156cd9b2e61d"
      },
      "execution_count": 8,
      "outputs": [
        {
          "output_type": "stream",
          "name": "stdout",
          "text": [
            "(-2, 0)\n",
            "(0, 1)\n"
          ]
        }
      ]
    },
    {
      "cell_type": "markdown",
      "source": [
        "## 2. Calculate the Minimal Value Through the Gradient Tape and the Optimizer"
      ],
      "metadata": {
        "id": "I8KvyXWbqZb3"
      }
    },
    {
      "cell_type": "code",
      "source": [
        "# Calculate the minimal value of f(x) = a*x**2 + b*x + c\n",
        "# Use optimizer.apply_gradients\n",
        "\n",
        "x = tf.Variable(0.0, name='x', dtype=tf.float32)\n",
        "a = tf.constant(1.0)\n",
        "b = tf.constant(-2.0)\n",
        "c = tf.constant(1.0)\n",
        "\n",
        "optimizer = tf.keras.optimizers.SGD(learning_rate=0.01)\n",
        "\n",
        "for _ in range(1000):\n",
        "  with tf.GradientTape() as tape:\n",
        "    y = a * tf.pow(x, 2) + b * x + c\n",
        "\n",
        "  dy_dx = tape.gradient(y, x)\n",
        "  optimizer.apply_gradients(grads_and_vars=[(dy_dx, x)])\n",
        "\n",
        "tf.print(f'y: {y}; x: {x}')"
      ],
      "metadata": {
        "colab": {
          "base_uri": "https://localhost:8080/"
        },
        "id": "ZvU4O63BoLSf",
        "outputId": "e900f30c-2be0-434c-a1f2-cb97fce62e7c"
      },
      "execution_count": 9,
      "outputs": [
        {
          "output_type": "stream",
          "name": "stdout",
          "text": [
            "y: 0.0; x: <tf.Variable 'x:0' shape=() dtype=float32, numpy=0.99999857>\n"
          ]
        }
      ]
    },
    {
      "cell_type": "code",
      "source": [
        "# Calculate the minimal value of f(x) = a*x**2 + b*x + c\n",
        "# Use optimizer.minimize\n",
        "# This optimizer.minimize is identical to calculating gradient using tape, then call apply_gradient\n",
        "\n",
        "x = tf.Variable(0.0, name='x', dtype=tf.float32)\n",
        "\n",
        "# f function has no argument\n",
        "def f():\n",
        "  a = tf.constant(1.0)\n",
        "  b = tf.constant(-2.0)\n",
        "  c = tf.constant(1.0)\n",
        "  y = a * tf.pow(x, 2) + b * x + c\n",
        "  return y\n",
        "\n",
        "optimizer = tf.keras.optimizers.SGD(learning_rate=0.01)\n",
        "\n",
        "for _ in range(1000):\n",
        "  optimizer.minimize(f, var_list=[x])\n",
        "\n",
        "tf.print(f'y: {y}; x: {x}')"
      ],
      "metadata": {
        "colab": {
          "base_uri": "https://localhost:8080/"
        },
        "id": "yX_1SyUUoLOU",
        "outputId": "cfe17f5d-01d5-4daf-a60e-97c2501357a7"
      },
      "execution_count": 10,
      "outputs": [
        {
          "output_type": "stream",
          "name": "stdout",
          "text": [
            "y: 0.0; x: <tf.Variable 'x:0' shape=() dtype=float32, numpy=0.99999857>\n"
          ]
        }
      ]
    },
    {
      "cell_type": "code",
      "source": [
        "# Calculate minimal value in autograph\n",
        "# Use optimizer.apply_gradients\n",
        "\n",
        "x = tf.Variable(0.0, name='x', dtype=tf.float32)\n",
        "optimizer = tf.keras.optimizers.SGD(learning_rate=0.01)\n",
        "\n",
        "@tf.function\n",
        "def minimize_f():\n",
        "  a = tf.constant(1.0)\n",
        "  b = tf.constant(-2.0)\n",
        "  c = tf.constant(1.0)\n",
        "\n",
        "  for _ in tf.range(1000): # Ise tf.range instead of range when using autograph\n",
        "    with tf.GradientTape() as tape:\n",
        "      y = a * tf.pow(x, 2) + b * x + c\n",
        "\n",
        "    dy_dx = tape.gradient(y, x)\n",
        "    optimizer.apply_gradients(grads_and_vars=[(dy_dx, x)])\n",
        "\n",
        "  y = a * tf.pow(x, 2) + b * x + c\n",
        "  return y\n",
        "\n",
        "minimize_f()\n",
        "tf.print(f'y: {y}; x: {x}')"
      ],
      "metadata": {
        "colab": {
          "base_uri": "https://localhost:8080/"
        },
        "id": "MjbPdCsjoLKM",
        "outputId": "62c088cb-cecc-4ae7-da9d-01eb23bfe0d2"
      },
      "execution_count": 11,
      "outputs": [
        {
          "output_type": "stream",
          "name": "stdout",
          "text": [
            "y: 0.0; x: <tf.Variable 'x:0' shape=() dtype=float32, numpy=0.99999857>\n"
          ]
        }
      ]
    },
    {
      "cell_type": "code",
      "source": [
        "# Calculate minimal value in autograph\n",
        "# Use optimizer.minimize\n",
        "\n",
        "x = tf.Variable(0.0, name='x', dtype=tf.float32)\n",
        "optimizer = tf.keras.optimizers.SGD(learning_rate=0.01)\n",
        "\n",
        "@tf.function\n",
        "def f():\n",
        "  a = tf.constant(1.0)\n",
        "  b = tf.constant(-2.0)\n",
        "  c = tf.constant(1.0)\n",
        "  y = a * tf.pow(x, 2) + b * x + c\n",
        "  return (y)\n",
        "\n",
        "@tf.function\n",
        "def train(epoch):\n",
        "  for _ in tf.range(epoch):\n",
        "    optimizer.minimize(f, var_list=[x])\n",
        "\n",
        "  return (f())\n",
        "\n",
        "train(1000)\n",
        "tf.print(f'y: {y}; x: {x}')"
      ],
      "metadata": {
        "colab": {
          "base_uri": "https://localhost:8080/"
        },
        "id": "Tkx-2YO7oLGU",
        "outputId": "075161c1-b081-42e9-e9ea-59ec0cc04582"
      },
      "execution_count": 13,
      "outputs": [
        {
          "output_type": "stream",
          "name": "stdout",
          "text": [
            "y: 0.0; x: <tf.Variable 'x:0' shape=() dtype=float32, numpy=0.99999857>\n"
          ]
        }
      ]
    },
    {
      "cell_type": "code",
      "source": [],
      "metadata": {
        "id": "e-6LHwAtoLCW"
      },
      "execution_count": null,
      "outputs": []
    },
    {
      "cell_type": "code",
      "source": [],
      "metadata": {
        "id": "3RibwIhCoK-N"
      },
      "execution_count": null,
      "outputs": []
    },
    {
      "cell_type": "code",
      "source": [],
      "metadata": {
        "id": "YQbtK5JwoK59"
      },
      "execution_count": null,
      "outputs": []
    },
    {
      "cell_type": "code",
      "source": [],
      "metadata": {
        "id": "qEQ80-SzoK2G"
      },
      "execution_count": null,
      "outputs": []
    },
    {
      "cell_type": "code",
      "source": [],
      "metadata": {
        "id": "4HmUykknoKyX"
      },
      "execution_count": null,
      "outputs": []
    },
    {
      "cell_type": "code",
      "execution_count": null,
      "metadata": {
        "id": "SkzoCUkMn8pV"
      },
      "outputs": [],
      "source": []
    }
  ]
}