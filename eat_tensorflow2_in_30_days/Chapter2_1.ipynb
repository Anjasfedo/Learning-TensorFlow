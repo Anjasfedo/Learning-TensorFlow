{
  "nbformat": 4,
  "nbformat_minor": 0,
  "metadata": {
    "colab": {
      "provenance": [],
      "authorship_tag": "ABX9TyMSd2hu7BpqDRQtNFNPc3DM",
      "include_colab_link": true
    },
    "kernelspec": {
      "name": "python3",
      "display_name": "Python 3"
    },
    "language_info": {
      "name": "python"
    }
  },
  "cells": [
    {
      "cell_type": "markdown",
      "metadata": {
        "id": "view-in-github",
        "colab_type": "text"
      },
      "source": [
        "<a href=\"https://colab.research.google.com/github/Anjasfedo/Learning-TensorFlow/blob/main/eat_tensorflow2_in_30_days/Chapter2_1.ipynb\" target=\"_parent\"><img src=\"https://colab.research.google.com/assets/colab-badge.svg\" alt=\"Open In Colab\"/></a>"
      ]
    },
    {
      "cell_type": "markdown",
      "source": [
        "# 2-1 Data Structure"
      ],
      "metadata": {
        "id": "q0ZhOa7178Zg"
      }
    },
    {
      "cell_type": "markdown",
      "source": [
        "Program = Data Structure = Algorithm\n",
        "\n",
        "Tensorflow Program = Data Structure of Tensor + Algorithm in Graph\n",
        "\n",
        "Tensor & Graph are key concepts of TensorFlow\n",
        "\n",
        "The Fundamental data structure in TensorFlow is Tensor, which is multi-dimentional array. Tensor is simmilar with the `array` in NumPy\n",
        "\n",
        "There are thow types of tensor according to the behavior\n",
        "1. `constant` cannot be re-assigned in the graph\n",
        "2. `variable` can be re-assigned through operator such as `assign`"
      ],
      "metadata": {
        "id": "tR3wu2L_8Eoe"
      }
    },
    {
      "cell_type": "markdown",
      "source": [
        "## 1. Constant Tensor\n",
        "\n",
        "The data type of tensor is basically coresponding to numpy.array"
      ],
      "metadata": {
        "id": "GkCtDje_80OD"
      }
    },
    {
      "cell_type": "code",
      "source": [
        "import numpy as np\n",
        "import tensorflow as tf"
      ],
      "metadata": {
        "id": "mRkqNpLd7_ga"
      },
      "execution_count": 1,
      "outputs": []
    },
    {
      "cell_type": "code",
      "source": [
        "i = tf.constant(1) # tf.int32 type constant\n",
        "i"
      ],
      "metadata": {
        "colab": {
          "base_uri": "https://localhost:8080/"
        },
        "id": "uZNbfXAM7_UC",
        "outputId": "939cbbc3-55b0-4ae2-b9fa-0b7f7215ab43"
      },
      "execution_count": 2,
      "outputs": [
        {
          "output_type": "execute_result",
          "data": {
            "text/plain": [
              "<tf.Tensor: shape=(), dtype=int32, numpy=1>"
            ]
          },
          "metadata": {},
          "execution_count": 2
        }
      ]
    },
    {
      "cell_type": "code",
      "source": [
        "l = tf.constant(1, dtype=tf.int64) # tf.int64 type constant\n",
        "l"
      ],
      "metadata": {
        "colab": {
          "base_uri": "https://localhost:8080/"
        },
        "id": "tycxIYWU7_QK",
        "outputId": "cce3ed5a-615e-49b9-dff8-f06ce844ccde"
      },
      "execution_count": 4,
      "outputs": [
        {
          "output_type": "execute_result",
          "data": {
            "text/plain": [
              "<tf.Tensor: shape=(), dtype=int64, numpy=1>"
            ]
          },
          "metadata": {},
          "execution_count": 4
        }
      ]
    },
    {
      "cell_type": "code",
      "source": [
        "f = tf.constant(1.23) # tf.float32 type constant\n",
        "f"
      ],
      "metadata": {
        "colab": {
          "base_uri": "https://localhost:8080/"
        },
        "id": "rQp2eDV27_MG",
        "outputId": "cfa2097c-852d-4cb4-b3a3-d1a0aabe5652"
      },
      "execution_count": 5,
      "outputs": [
        {
          "output_type": "execute_result",
          "data": {
            "text/plain": [
              "<tf.Tensor: shape=(), dtype=float32, numpy=1.23>"
            ]
          },
          "metadata": {},
          "execution_count": 5
        }
      ]
    },
    {
      "cell_type": "code",
      "source": [
        "d = tf.constant(3.14, dtype=tf.double) # tf.double type constant\n",
        "d"
      ],
      "metadata": {
        "colab": {
          "base_uri": "https://localhost:8080/"
        },
        "id": "riynEkmx7_IH",
        "outputId": "9af396e9-c6de-478f-c993-6d46e90df50f"
      },
      "execution_count": 6,
      "outputs": [
        {
          "output_type": "execute_result",
          "data": {
            "text/plain": [
              "<tf.Tensor: shape=(), dtype=float64, numpy=3.14>"
            ]
          },
          "metadata": {},
          "execution_count": 6
        }
      ]
    },
    {
      "cell_type": "code",
      "source": [
        "s = tf.constant('hello') # tf.string type constant\n",
        "s"
      ],
      "metadata": {
        "colab": {
          "base_uri": "https://localhost:8080/"
        },
        "id": "-CcpLCXv7_EE",
        "outputId": "112e09aa-06a4-42c4-ffcb-3cc3ddf428ae"
      },
      "execution_count": 7,
      "outputs": [
        {
          "output_type": "execute_result",
          "data": {
            "text/plain": [
              "<tf.Tensor: shape=(), dtype=string, numpy=b'hello'>"
            ]
          },
          "metadata": {},
          "execution_count": 7
        }
      ]
    },
    {
      "cell_type": "code",
      "source": [
        "b = tf.constant(True) # tf.bool type constant\n",
        "b"
      ],
      "metadata": {
        "colab": {
          "base_uri": "https://localhost:8080/"
        },
        "id": "eHWMaiHu7-_l",
        "outputId": "6519b7b8-39b0-48eb-e2a8-04c0eb2d8fd1"
      },
      "execution_count": 8,
      "outputs": [
        {
          "output_type": "execute_result",
          "data": {
            "text/plain": [
              "<tf.Tensor: shape=(), dtype=bool, numpy=True>"
            ]
          },
          "metadata": {},
          "execution_count": 8
        }
      ]
    },
    {
      "cell_type": "code",
      "source": [
        "print(tf.int64 == np.int64)\n",
        "print(tf.float32 == np.float32)\n",
        "print(tf.double == np.float64)"
      ],
      "metadata": {
        "colab": {
          "base_uri": "https://localhost:8080/"
        },
        "id": "mV3sdSG27-7I",
        "outputId": "5be58476-567e-4cc8-9109-3e22f291d9ad"
      },
      "execution_count": 16,
      "outputs": [
        {
          "output_type": "stream",
          "name": "stdout",
          "text": [
            "True\n",
            "True\n",
            "True\n"
          ]
        }
      ]
    },
    {
      "cell_type": "markdown",
      "source": [
        "Each data type can be represet by tensor in different rank\n",
        "\n",
        "- Scalars are tensors with rank 0\n",
        "- Arrays ate with rank 1\n",
        "- Matrix are with rank 2\n",
        "- Colorful image has three channels (RGB), which can be represented as a tensor with rank 3\n",
        "- There is a temporal dimension for video so it could be represent as a rank 4 tensor\n",
        "\n",
        "An intuitive way to understand: the number of the square branckets equals to the rank of the tensor"
      ],
      "metadata": {
        "id": "hVW_v7O4-CDd"
      }
    },
    {
      "cell_type": "code",
      "source": [
        "scalar = tf.constant(True) # a scalar is rank 0 tensor\n",
        "\n",
        "print(tf.rank(scalar))\n",
        "print(scalar.numpy().ndim) # tf.rank is equal to the ndim funcion in numpy"
      ],
      "metadata": {
        "colab": {
          "base_uri": "https://localhost:8080/"
        },
        "id": "Imkww2l67-2z",
        "outputId": "dfa9670d-b5de-436c-ed9d-21650c8b5412"
      },
      "execution_count": 17,
      "outputs": [
        {
          "output_type": "stream",
          "name": "stdout",
          "text": [
            "tf.Tensor(0, shape=(), dtype=int32)\n",
            "0\n"
          ]
        }
      ]
    },
    {
      "cell_type": "code",
      "source": [
        "vector = tf.constant([1, 2, 3]) # a vector is rank 1 tensor\n",
        "\n",
        "print(tf.rank(vector))\n",
        "print(np.ndim(vector.numpy()))"
      ],
      "metadata": {
        "colab": {
          "base_uri": "https://localhost:8080/"
        },
        "id": "3SITaGu97-x_",
        "outputId": "98286d5b-8e1d-4ab4-ec36-93252a90548d"
      },
      "execution_count": 19,
      "outputs": [
        {
          "output_type": "stream",
          "name": "stdout",
          "text": [
            "tf.Tensor(1, shape=(), dtype=int32)\n",
            "1\n"
          ]
        }
      ]
    },
    {
      "cell_type": "code",
      "source": [
        "matrix = tf.constant([[1, 2], [3, 4]]) # a matrix is rank 2 tensor\n",
        "\n",
        "print(tf.rank(matrix).numpy())\n",
        "print(np.ndim(matrix))"
      ],
      "metadata": {
        "colab": {
          "base_uri": "https://localhost:8080/"
        },
        "id": "bySvMeTL7-t5",
        "outputId": "489ffc37-5568-4ef5-efc6-f14e013709fc"
      },
      "execution_count": 21,
      "outputs": [
        {
          "output_type": "stream",
          "name": "stdout",
          "text": [
            "2\n",
            "2\n"
          ]
        }
      ]
    },
    {
      "cell_type": "code",
      "source": [
        "tensor3 = tf.constant([[[1, 2], [3, 4]], [[5, 6], [7, 8]]]) # a tensor3 is rank 3 tensor\n",
        "\n",
        "print(tf.rank(tensor3).numpy())\n",
        "print(np.ndim(tensor3))"
      ],
      "metadata": {
        "colab": {
          "base_uri": "https://localhost:8080/"
        },
        "id": "ZeFtZXn__QfC",
        "outputId": "0c5bf937-5cf1-46f6-e3c5-9c2a91ee3ec6"
      },
      "execution_count": 22,
      "outputs": [
        {
          "output_type": "stream",
          "name": "stdout",
          "text": [
            "3\n",
            "3\n"
          ]
        }
      ]
    },
    {
      "cell_type": "code",
      "source": [
        "tensor4 = tf.constant([[[[1, 2], [3, 4]], [[5, 6], [7, 8]]], [[[9, 10], [11, 12]], [[13, 14], [15, 16]]]]) # a tensor4 is rank 4 tensor\n",
        "\n",
        "print(tf.rank(tensor4).numpy())\n",
        "print(np.ndim(tensor4))"
      ],
      "metadata": {
        "colab": {
          "base_uri": "https://localhost:8080/"
        },
        "id": "DVfvLc0T_Qbg",
        "outputId": "211d9447-2c00-4f9d-ee9b-1934b0ed3f20"
      },
      "execution_count": 23,
      "outputs": [
        {
          "output_type": "stream",
          "name": "stdout",
          "text": [
            "4\n",
            "4\n"
          ]
        }
      ]
    },
    {
      "cell_type": "markdown",
      "source": [
        "Use `tf.cast` to change the data type of the tensor\n",
        "\n",
        "The method `numpy()` is for converting the data type from tensor to numpy array\n",
        "\n",
        "The method `shape` is for checking up the size of tensor"
      ],
      "metadata": {
        "id": "LtM5fNpx_axL"
      }
    },
    {
      "cell_type": "code",
      "source": [
        "h = tf.constant([123, 456], dtype=tf.int32)\n",
        "h"
      ],
      "metadata": {
        "colab": {
          "base_uri": "https://localhost:8080/"
        },
        "id": "R0vZFSlt_QX4",
        "outputId": "daa95fce-a0de-4eef-de9f-913c5fe9b521"
      },
      "execution_count": 24,
      "outputs": [
        {
          "output_type": "execute_result",
          "data": {
            "text/plain": [
              "<tf.Tensor: shape=(2,), dtype=int32, numpy=array([123, 456], dtype=int32)>"
            ]
          },
          "metadata": {},
          "execution_count": 24
        }
      ]
    },
    {
      "cell_type": "code",
      "source": [
        "f = tf.cast(h, dtype=tf.float32)\n",
        "f"
      ],
      "metadata": {
        "colab": {
          "base_uri": "https://localhost:8080/"
        },
        "id": "o1zOueLp_QT6",
        "outputId": "6274f271-d004-4188-d7c5-200935e28aab"
      },
      "execution_count": 25,
      "outputs": [
        {
          "output_type": "execute_result",
          "data": {
            "text/plain": [
              "<tf.Tensor: shape=(2,), dtype=float32, numpy=array([123., 456.], dtype=float32)>"
            ]
          },
          "metadata": {},
          "execution_count": 25
        }
      ]
    },
    {
      "cell_type": "code",
      "source": [
        "print(h.dtype, f.dtype)"
      ],
      "metadata": {
        "colab": {
          "base_uri": "https://localhost:8080/"
        },
        "id": "bR_u-yHz_QQC",
        "outputId": "ee049411-c580-4405-c091-9109106da993"
      },
      "execution_count": 27,
      "outputs": [
        {
          "output_type": "stream",
          "name": "stdout",
          "text": [
            "<dtype: 'int32'> <dtype: 'float32'>\n"
          ]
        }
      ]
    },
    {
      "cell_type": "code",
      "source": [
        "y = tf.constant([[1.0, 2.0], [3.0, 4.0]])\n",
        "\n",
        "print(y.numpy())\n",
        "print(y.shape)"
      ],
      "metadata": {
        "colab": {
          "base_uri": "https://localhost:8080/"
        },
        "id": "LGJVth8_7-ps",
        "outputId": "0d00c798-50b8-434e-9b43-d9ae5b6aba77"
      },
      "execution_count": 29,
      "outputs": [
        {
          "output_type": "stream",
          "name": "stdout",
          "text": [
            "[[1. 2.]\n",
            " [3. 4.]]\n",
            "(2, 2)\n"
          ]
        }
      ]
    },
    {
      "cell_type": "code",
      "source": [
        "u = tf.constant(u'Hello World')\n",
        "\n",
        "print(u.numpy())\n",
        "print(u.numpy().decode('utf-8'))"
      ],
      "metadata": {
        "colab": {
          "base_uri": "https://localhost:8080/"
        },
        "id": "JCHcU-Ba7-l7",
        "outputId": "d241b13f-494c-4084-ba71-24d1ad7db2fe"
      },
      "execution_count": 30,
      "outputs": [
        {
          "output_type": "stream",
          "name": "stdout",
          "text": [
            "b'Hello World'\n",
            "Hello World\n"
          ]
        }
      ]
    },
    {
      "cell_type": "markdown",
      "source": [
        "## 2. Variable Tensor\n",
        "\n",
        "The trainable parameters in the models are usually defined as varaibles"
      ],
      "metadata": {
        "id": "QQ1gBdJIArI3"
      }
    },
    {
      "cell_type": "code",
      "source": [
        "# The value of constant is NOT CHANGABLE. re-assignment creates a new space in the memory\n",
        "c = tf.constant([1.0, 2.0])\n",
        "\n",
        "print(c)\n",
        "print(id(c))"
      ],
      "metadata": {
        "colab": {
          "base_uri": "https://localhost:8080/"
        },
        "id": "CRlS73Hc7-hb",
        "outputId": "bf2cab68-f5ec-4b5a-d4f3-b21350287776"
      },
      "execution_count": 31,
      "outputs": [
        {
          "output_type": "stream",
          "name": "stdout",
          "text": [
            "tf.Tensor([1. 2.], shape=(2,), dtype=float32)\n",
            "136333294625968\n"
          ]
        }
      ]
    },
    {
      "cell_type": "code",
      "source": [
        "c = c + tf.constant([1.0, 1.0])\n",
        "\n",
        "print(c)\n",
        "print(id(c))"
      ],
      "metadata": {
        "colab": {
          "base_uri": "https://localhost:8080/"
        },
        "id": "NjtoEtun7-cy",
        "outputId": "9acb8145-d2e3-4ef3-f927-20f93e6dd503"
      },
      "execution_count": 34,
      "outputs": [
        {
          "output_type": "stream",
          "name": "stdout",
          "text": [
            "tf.Tensor([2. 3.], shape=(2,), dtype=float32)\n",
            "136336331346464\n"
          ]
        }
      ]
    },
    {
      "cell_type": "code",
      "source": [
        "# The value of a varaible is changable through re-assigning methods such as assign, assign_add, etc\n",
        "v = tf.Variable([1.0, 2.0], name='v')\n",
        "\n",
        "print(v)\n",
        "print(id(v))"
      ],
      "metadata": {
        "colab": {
          "base_uri": "https://localhost:8080/"
        },
        "id": "W5HOPtcO7-Yf",
        "outputId": "7752d089-baf4-4e80-91e1-f692d9ca6da6"
      },
      "execution_count": 35,
      "outputs": [
        {
          "output_type": "stream",
          "name": "stdout",
          "text": [
            "<tf.Variable 'v:0' shape=(2,) dtype=float32, numpy=array([1., 2.], dtype=float32)>\n",
            "136333293273584\n"
          ]
        }
      ]
    },
    {
      "cell_type": "code",
      "source": [
        "v.assign_add([1.0, 1.0])\n",
        "\n",
        "print(v)\n",
        "print(id(v))"
      ],
      "metadata": {
        "colab": {
          "base_uri": "https://localhost:8080/"
        },
        "id": "NxpejavP7-Tr",
        "outputId": "d785bcda-4b18-40c4-e732-232310eed93d"
      },
      "execution_count": 37,
      "outputs": [
        {
          "output_type": "stream",
          "name": "stdout",
          "text": [
            "<tf.Variable 'v:0' shape=(2,) dtype=float32, numpy=array([2., 3.], dtype=float32)>\n",
            "136333293273584\n"
          ]
        }
      ]
    },
    {
      "cell_type": "code",
      "source": [],
      "metadata": {
        "id": "-U6PMQoT7-O_"
      },
      "execution_count": null,
      "outputs": []
    },
    {
      "cell_type": "code",
      "source": [],
      "metadata": {
        "id": "dvaJ4Cii7-KA"
      },
      "execution_count": null,
      "outputs": []
    },
    {
      "cell_type": "code",
      "execution_count": null,
      "metadata": {
        "id": "_Ta6ZwLP737U"
      },
      "outputs": [],
      "source": []
    }
  ]
}