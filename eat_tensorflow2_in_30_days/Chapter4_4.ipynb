{
  "nbformat": 4,
  "nbformat_minor": 0,
  "metadata": {
    "colab": {
      "provenance": [],
      "authorship_tag": "ABX9TyPndY5UmeWGS/cG+fxhm5Mp",
      "include_colab_link": true
    },
    "kernelspec": {
      "name": "python3",
      "display_name": "Python 3"
    },
    "language_info": {
      "name": "python"
    }
  },
  "cells": [
    {
      "cell_type": "markdown",
      "metadata": {
        "id": "view-in-github",
        "colab_type": "text"
      },
      "source": [
        "<a href=\"https://colab.research.google.com/github/Anjasfedo/Learning-TensorFlow/blob/main/eat_tensorflow2_in_30_days/Chapter4_4.ipynb\" target=\"_parent\"><img src=\"https://colab.research.google.com/assets/colab-badge.svg\" alt=\"Open In Colab\"/></a>"
      ]
    },
    {
      "cell_type": "markdown",
      "source": [
        "# 4-4 Mechanisms of the AutoGraph"
      ],
      "metadata": {
        "id": "5XrPJgNKGj6B"
      }
    },
    {
      "cell_type": "markdown",
      "source": [
        "Herer is the mechanisms of Autograph"
      ],
      "metadata": {
        "id": "IHzQOe_eGrzw"
      }
    },
    {
      "cell_type": "markdown",
      "source": [
        "## 1. Machanism of Autograph\n",
        "\n",
        "**What heppens when we define a function using decorator `@tf.function`?**"
      ],
      "metadata": {
        "id": "b-HuUfrZG1Xv"
      }
    },
    {
      "cell_type": "code",
      "source": [
        "import tensorflow as tf\n",
        "import numpy as np\n",
        "\n",
        "@tf.function(autograph=True)\n",
        "def myadd(a, b):\n",
        "  for i in tf.range(3):\n",
        "    tf.print(i)\n",
        "\n",
        "  c = a + b\n",
        "\n",
        "  print(\"tracing\")\n",
        "  return c"
      ],
      "metadata": {
        "id": "iHmv4az4HEgl"
      },
      "execution_count": 3,
      "outputs": []
    },
    {
      "cell_type": "markdown",
      "source": [
        "Nothing heppens except a function signature is recorded in the stack of Python.\n",
        "\n",
        "**What heppens when the function decoraded by `@tf.function` is called?**"
      ],
      "metadata": {
        "id": "6yr5l-QzHTdg"
      }
    },
    {
      "cell_type": "code",
      "source": [
        "myadd(tf.constant('hello'), tf.constant('World'))"
      ],
      "metadata": {
        "colab": {
          "base_uri": "https://localhost:8080/"
        },
        "id": "TWtYMzsXHEcV",
        "outputId": "8f3ce320-b8d4-40fe-e587-8ecb0d0a483c"
      },
      "execution_count": 5,
      "outputs": [
        {
          "output_type": "stream",
          "name": "stdout",
          "text": [
            "tracing\n",
            "0\n",
            "1\n",
            "2\n"
          ]
        },
        {
          "output_type": "execute_result",
          "data": {
            "text/plain": [
              "<tf.Tensor: shape=(), dtype=string, numpy=b'helloWorld'>"
            ]
          },
          "metadata": {},
          "execution_count": 5
        }
      ]
    },
    {
      "cell_type": "markdown",
      "source": [
        "There are two indicent:\n",
        "\n",
        "1. The graph is created.\n",
        "A static graph is created. The python code inside the function is executed, the tensor type of each variable is determined, and the operator is added to the graph according to the order of execution. During this period, if the argument `autograph=True` (defaut) is setted, convertting of the controlling flow in Python to the one inside TensorFlow graph will happen. The majority of the work are:\n",
        "- replacing `if` to `tf.cond` operator\n",
        "- replacing `while` and `for` looping to `tf.while_loop`\n",
        "- when necessary, add `tf.control_dependencies` to specify the dependencies of executing orders.\n",
        "\n",
        "This is identical to the following expression in TensorFlow 1.X:"
      ],
      "metadata": {
        "id": "LEFGrOxiHyBP"
      }
    },
    {
      "cell_type": "code",
      "source": [
        "import tensorflow.compat.v1 as tf\n",
        "tf.disable_v2_behavior()\n",
        "\n",
        "g = tf.Graph()\n",
        "\n",
        "with g.as_default():\n",
        "  a = tf.placeholder(shape=[], dtype=tf.string)\n",
        "  b = tf.placeholder(shape=[], dtype=tf.string)\n",
        "\n",
        "  cond = lambda i: i < tf.constant(3)\n",
        "\n",
        "  def body(i):\n",
        "    tf.print(i)\n",
        "    return (i + 1)\n",
        "\n",
        "  loop = tf.while_loop(cond, body, loop_vars=[0])\n",
        "  loop\n",
        "\n",
        "  with tf.control_dependencies(loop):\n",
        "    c = tf.strings.join([a, b])\n",
        "\n",
        "  print('tracing')"
      ],
      "metadata": {
        "id": "TbvNehTXJeer"
      },
      "execution_count": null,
      "outputs": []
    },
    {
      "cell_type": "markdown",
      "source": [
        "2. Execution of the graph.\n",
        "This is identical to the following expressions in TensorFlow 1.X:"
      ],
      "metadata": {
        "id": "OUBuQKf5JfTP"
      }
    },
    {
      "cell_type": "code",
      "source": [
        "with tf.Session(graph=g) as sess:\n",
        "  sess.run(c, feed_dict={a: tf.constant('hello'), b: tf.constant('world')})"
      ],
      "metadata": {
        "id": "rx8Fs5uQHESc"
      },
      "execution_count": null,
      "outputs": []
    },
    {
      "cell_type": "markdown",
      "source": [
        "So the results for the first step comes first: A string \"tracing\" printed by the standard I/O stream of Python\n",
        "\n",
        "And next is the result of the second step: A string \"1,2,3\" printed by standard I/O stream of TensorFlow.\n",
        "\n",
        "**What is going to heppen when we call this function again with the same types of the input arguments?**"
      ],
      "metadata": {
        "id": "MHW_tH3GJyTK"
      }
    },
    {
      "cell_type": "code",
      "source": [
        "myadd(tf.constant('good'), tf.constant('morning'))"
      ],
      "metadata": {
        "colab": {
          "base_uri": "https://localhost:8080/"
        },
        "id": "srj1qTtbHENU",
        "outputId": "e15c487d-0701-438c-af88-ba70a0e9ff15"
      },
      "execution_count": 11,
      "outputs": [
        {
          "output_type": "execute_result",
          "data": {
            "text/plain": [
              "<tf.Tensor 'StatefulPartitionedCall_2:0' shape=() dtype=string>"
            ]
          },
          "metadata": {},
          "execution_count": 11
        }
      ]
    },
    {
      "cell_type": "markdown",
      "source": [
        "Only one thing heppens: execution of the graph, which is the second step mentioned above.\n",
        "\n",
        "So the string \"tracing\" doesnt appear.\n",
        "\n",
        "** What is going to happen when we call this function again with some different types of the input arguments?**"
      ],
      "metadata": {
        "id": "Uc1fHs6WKiIX"
      }
    },
    {
      "cell_type": "code",
      "source": [
        "myadd(tf.constant(1), tf.constant(2))"
      ],
      "metadata": {
        "colab": {
          "base_uri": "https://localhost:8080/"
        },
        "id": "Vc0rdSV7HEI8",
        "outputId": "d23f0784-e4fe-46f7-c55f-761a8f85cee0"
      },
      "execution_count": 13,
      "outputs": [
        {
          "output_type": "stream",
          "name": "stdout",
          "text": [
            "tracing\n"
          ]
        },
        {
          "output_type": "execute_result",
          "data": {
            "text/plain": [
              "<tf.Tensor 'StatefulPartitionedCall_3:0' shape=() dtype=int32>"
            ]
          },
          "metadata": {},
          "execution_count": 13
        }
      ]
    },
    {
      "cell_type": "markdown",
      "source": [
        "Since the data type of the argument has been changed, the previously created graph cannot be used again.\n",
        "\n",
        "Tow more tasks to be done: create new graph and execute it.\n",
        "\n",
        "The result of the first step will be observed again, i.e. a string \"tracing\" printed by the standard I/O stream of Python.\n",
        "\n",
        "Ans next is the result of the second step: A string \"1,2,3\" is printed by the standard I/O stream of TensorFlow.\n",
        "\n",
        "**If the data type of the argument is not Tensor in the original definition of this function, then the graph will bw re-created each time adter calling this function.**\n",
        "\n",
        "The demonstrated code below re-created graph every time, so it is recommended to use Tensor type as the arguments when calling the function decoraded by `@tf.function`."
      ],
      "metadata": {
        "id": "lUEqLHmRK1km"
      }
    },
    {
      "cell_type": "code",
      "source": [
        "myadd('hello', 'world')\n",
        "myadd('good', 'morning')"
      ],
      "metadata": {
        "colab": {
          "base_uri": "https://localhost:8080/"
        },
        "id": "bLiMrvFaHEEY",
        "outputId": "58406583-306c-4600-d85a-b50be7756dba"
      },
      "execution_count": 14,
      "outputs": [
        {
          "output_type": "stream",
          "name": "stdout",
          "text": [
            "tracing\n",
            "tracing\n"
          ]
        },
        {
          "output_type": "execute_result",
          "data": {
            "text/plain": [
              "<tf.Tensor 'StatefulPartitionedCall_5:0' shape=() dtype=string>"
            ]
          },
          "metadata": {},
          "execution_count": 14
        }
      ]
    },
    {
      "cell_type": "markdown",
      "source": [
        "## 2. Scrutinize the Coding Rules of Autograph Again"
      ],
      "metadata": {
        "id": "ia6up8NVLzXz"
      }
    },
    {
      "cell_type": "markdown",
      "source": [
        "Have better understanding to the three rulse of coding of Autograph after knowing the mechanism.\n",
        "\n",
        "1. Should use the TensorFlow-defined function to be decorated by `@tf.function` as mush as possible, instead of those Python functions. For instance, `tf.print` should be use instead of `print`.\n",
        "\n",
        "Explanations: Python function are only used during the stage of creating static graph. The Python functions are not able to be embedded into the static graph, so these Python functions are not calculated during the calling after the graph creation; in contras, TensorFlow functions are able to be embedded into the graph. Using Python function causing unmatched outputs between the \"eager execution\" before the decoration by `@tf.function` and the \"execution of static graph\" after the decoration by `@tf.function`.\n",
        "\n",
        "2. Avoid defining `tf.Variable` inside the decorator `@tf.function`.\n",
        "\n",
        "Explanations: The defined `tf.Variable` will be re-created every time when calling the function during the \"eager execution\" stage. However, this re-creation of `tf.Variable` only takes place at the first step, i.e. tracing Python code to the create the graph, which is introducing unmatched outputs between the \"eager execution\" before the decoration by `@tf.function` and the \"execution of static graph\" after the decoration by `@tf.function`. In fact, TensorFlow throws error in most of such cases.\n",
        "\n",
        "3. Functions that are decorated by `@tf.function` cannot modify the variables outside the functions with the data types such as Python list, dictionary, etc.\n",
        "\n",
        "Explanation: Static graph is executed in the TensorFlow kernels, which are compiled from C++ code, thus the list and dictionary in Python are not able to be embedded into the graph. These data types can only be read during the stage of graph creating and cannot be modified during the graph execution."
      ],
      "metadata": {
        "id": "pAY4ODbYL5Oo"
      }
    },
    {
      "cell_type": "code",
      "source": [],
      "metadata": {
        "id": "Vg_FVN1ZHD_f"
      },
      "execution_count": null,
      "outputs": []
    },
    {
      "cell_type": "code",
      "source": [],
      "metadata": {
        "id": "kpzzAQ1THD6f"
      },
      "execution_count": null,
      "outputs": []
    },
    {
      "cell_type": "code",
      "source": [],
      "metadata": {
        "id": "B5EVkiyFHD1f"
      },
      "execution_count": null,
      "outputs": []
    },
    {
      "cell_type": "code",
      "source": [],
      "metadata": {
        "id": "2PGh17etHDw3"
      },
      "execution_count": null,
      "outputs": []
    },
    {
      "cell_type": "code",
      "source": [],
      "metadata": {
        "id": "CJtJLUsTHDsG"
      },
      "execution_count": null,
      "outputs": []
    },
    {
      "cell_type": "code",
      "execution_count": null,
      "metadata": {
        "id": "mKXG09xBGgW5"
      },
      "outputs": [],
      "source": []
    }
  ]
}