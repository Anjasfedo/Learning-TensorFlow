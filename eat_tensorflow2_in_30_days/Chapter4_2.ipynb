{
  "nbformat": 4,
  "nbformat_minor": 0,
  "metadata": {
    "colab": {
      "provenance": [],
      "authorship_tag": "ABX9TyMDVrOfeibo/zo8zneWqwxC",
      "include_colab_link": true
    },
    "kernelspec": {
      "name": "python3",
      "display_name": "Python 3"
    },
    "language_info": {
      "name": "python"
    }
  },
  "cells": [
    {
      "cell_type": "markdown",
      "metadata": {
        "id": "view-in-github",
        "colab_type": "text"
      },
      "source": [
        "<a href=\"https://colab.research.google.com/github/Anjasfedo/Learning-TensorFlow/blob/main/eat_tensorflow2_in_30_days/Chapter4_2.ipynb\" target=\"_parent\"><img src=\"https://colab.research.google.com/assets/colab-badge.svg\" alt=\"Open In Colab\"/></a>"
      ]
    },
    {
      "cell_type": "markdown",
      "source": [
        "# 4-2 Mathematical Operations of the Tensor"
      ],
      "metadata": {
        "id": "Avb1vdLPyKOb"
      }
    },
    {
      "cell_type": "markdown",
      "source": [
        "Tensor operation includes structural operaton and mathematical operation.\n",
        "\n",
        "The structural operation includes tensor creation, index slicing, dimension transform, combining & splitting, etc.\n",
        "\n",
        "The mathematical operation includes scalar operation, vector operation, and matric operation. Also the broadcasting mechanism of tensor operation.\n",
        "\n",
        "Here is about the mathematical operation of tensor."
      ],
      "metadata": {
        "id": "rIged0bDyNWb"
      }
    },
    {
      "cell_type": "markdown",
      "source": [
        "## 1. Scalar Operation\n",
        "\n",
        "The scalar operation includes add, subtract, multiply, divide, power, and trigonometric function, exponential functions, log functions, and logical comparison. etc.\n",
        "\n",
        "The scalar operations is an element-by-element operation.\n",
        "\n",
        "Some of the scalar operators are overloaded from the normal methematical operators and support broadvasting similar as numpy.\n",
        "\n",
        "Most scalar operators are under the module `tf.math`"
      ],
      "metadata": {
        "id": "q5YKFZMQzKx2"
      }
    },
    {
      "cell_type": "code",
      "source": [
        "import tensorflow as tf\n",
        "import numpy as np"
      ],
      "metadata": {
        "id": "5I7rNy__zJJc"
      },
      "execution_count": 1,
      "outputs": []
    },
    {
      "cell_type": "code",
      "source": [
        "a = tf.constant([[1.0, 2], [-3, 4.0]])\n",
        "b = tf.constant([[5.0, 6], [7.0, 8.0]])\n",
        "\n",
        "a + b # == np.add(a, b)"
      ],
      "metadata": {
        "colab": {
          "base_uri": "https://localhost:8080/"
        },
        "id": "jkz_pg9azJE1",
        "outputId": "4a3ecb97-801e-45d6-be82-c778610201eb"
      },
      "execution_count": 2,
      "outputs": [
        {
          "output_type": "execute_result",
          "data": {
            "text/plain": [
              "<tf.Tensor: shape=(2, 2), dtype=float32, numpy=\n",
              "array([[ 6.,  8.],\n",
              "       [ 4., 12.]], dtype=float32)>"
            ]
          },
          "metadata": {},
          "execution_count": 2
        }
      ]
    },
    {
      "cell_type": "code",
      "source": [
        "a - b"
      ],
      "metadata": {
        "colab": {
          "base_uri": "https://localhost:8080/"
        },
        "id": "LJHdvwt3zJAk",
        "outputId": "4f657e00-93e7-4b3d-e495-af588e5e3daa"
      },
      "execution_count": 3,
      "outputs": [
        {
          "output_type": "execute_result",
          "data": {
            "text/plain": [
              "<tf.Tensor: shape=(2, 2), dtype=float32, numpy=\n",
              "array([[ -4.,  -4.],\n",
              "       [-10.,  -4.]], dtype=float32)>"
            ]
          },
          "metadata": {},
          "execution_count": 3
        }
      ]
    },
    {
      "cell_type": "code",
      "source": [
        "a * b"
      ],
      "metadata": {
        "colab": {
          "base_uri": "https://localhost:8080/"
        },
        "id": "0b0XPfOZzI8V",
        "outputId": "8e5d9f5f-9c2c-4141-d1e2-1ed341796093"
      },
      "execution_count": 4,
      "outputs": [
        {
          "output_type": "execute_result",
          "data": {
            "text/plain": [
              "<tf.Tensor: shape=(2, 2), dtype=float32, numpy=\n",
              "array([[  5.,  12.],\n",
              "       [-21.,  32.]], dtype=float32)>"
            ]
          },
          "metadata": {},
          "execution_count": 4
        }
      ]
    },
    {
      "cell_type": "code",
      "source": [
        "a / b"
      ],
      "metadata": {
        "colab": {
          "base_uri": "https://localhost:8080/"
        },
        "id": "3IMLVutAzI4B",
        "outputId": "53bdbfa2-8218-414e-9acf-708e9bddcfef"
      },
      "execution_count": 5,
      "outputs": [
        {
          "output_type": "execute_result",
          "data": {
            "text/plain": [
              "<tf.Tensor: shape=(2, 2), dtype=float32, numpy=\n",
              "array([[ 0.2       ,  0.33333334],\n",
              "       [-0.42857143,  0.5       ]], dtype=float32)>"
            ]
          },
          "metadata": {},
          "execution_count": 5
        }
      ]
    },
    {
      "cell_type": "code",
      "source": [
        "a ** 2"
      ],
      "metadata": {
        "colab": {
          "base_uri": "https://localhost:8080/"
        },
        "id": "cuSuC9vhzIzX",
        "outputId": "76b5f34b-0c01-4780-c599-36a93d7650c0"
      },
      "execution_count": 6,
      "outputs": [
        {
          "output_type": "execute_result",
          "data": {
            "text/plain": [
              "<tf.Tensor: shape=(2, 2), dtype=float32, numpy=\n",
              "array([[ 1.,  4.],\n",
              "       [ 9., 16.]], dtype=float32)>"
            ]
          },
          "metadata": {},
          "execution_count": 6
        }
      ]
    },
    {
      "cell_type": "code",
      "source": [
        "a ** (0.5)"
      ],
      "metadata": {
        "colab": {
          "base_uri": "https://localhost:8080/"
        },
        "id": "-Dsym2PTzIu_",
        "outputId": "7cc4556f-5036-4990-9afc-395f22e85f29"
      },
      "execution_count": 7,
      "outputs": [
        {
          "output_type": "execute_result",
          "data": {
            "text/plain": [
              "<tf.Tensor: shape=(2, 2), dtype=float32, numpy=\n",
              "array([[1.       , 1.4142135],\n",
              "       [      nan, 2.       ]], dtype=float32)>"
            ]
          },
          "metadata": {},
          "execution_count": 7
        }
      ]
    },
    {
      "cell_type": "code",
      "source": [
        "a % 3"
      ],
      "metadata": {
        "colab": {
          "base_uri": "https://localhost:8080/"
        },
        "id": "04OyljwkzIql",
        "outputId": "10ccd2ed-cda6-42b7-9c8f-b869a761c7ed"
      },
      "execution_count": 8,
      "outputs": [
        {
          "output_type": "execute_result",
          "data": {
            "text/plain": [
              "<tf.Tensor: shape=(2, 2), dtype=float32, numpy=\n",
              "array([[ 1.,  2.],\n",
              "       [-0.,  1.]], dtype=float32)>"
            ]
          },
          "metadata": {},
          "execution_count": 8
        }
      ]
    },
    {
      "cell_type": "code",
      "source": [
        "a // 3"
      ],
      "metadata": {
        "colab": {
          "base_uri": "https://localhost:8080/"
        },
        "id": "gBNYc6o0zIl1",
        "outputId": "b29b3ee5-d421-47dc-f7ca-ae8fa51cc092"
      },
      "execution_count": 9,
      "outputs": [
        {
          "output_type": "execute_result",
          "data": {
            "text/plain": [
              "<tf.Tensor: shape=(2, 2), dtype=float32, numpy=\n",
              "array([[ 0.,  0.],\n",
              "       [-1.,  1.]], dtype=float32)>"
            ]
          },
          "metadata": {},
          "execution_count": 9
        }
      ]
    },
    {
      "cell_type": "code",
      "source": [
        "(a >= 2)"
      ],
      "metadata": {
        "colab": {
          "base_uri": "https://localhost:8080/"
        },
        "id": "TNqikZf7zIhW",
        "outputId": "ebe62205-fb2a-4ab5-9218-aa3b68d837cb"
      },
      "execution_count": 10,
      "outputs": [
        {
          "output_type": "execute_result",
          "data": {
            "text/plain": [
              "<tf.Tensor: shape=(2, 2), dtype=bool, numpy=\n",
              "array([[False,  True],\n",
              "       [False,  True]])>"
            ]
          },
          "metadata": {},
          "execution_count": 10
        }
      ]
    },
    {
      "cell_type": "code",
      "source": [
        "(a >= 2) & (a <= 3)"
      ],
      "metadata": {
        "colab": {
          "base_uri": "https://localhost:8080/"
        },
        "id": "t8awn8LczIcn",
        "outputId": "84bf49a8-301d-4c19-ab00-ebde26d1cbb4"
      },
      "execution_count": 11,
      "outputs": [
        {
          "output_type": "execute_result",
          "data": {
            "text/plain": [
              "<tf.Tensor: shape=(2, 2), dtype=bool, numpy=\n",
              "array([[False,  True],\n",
              "       [False, False]])>"
            ]
          },
          "metadata": {},
          "execution_count": 11
        }
      ]
    },
    {
      "cell_type": "code",
      "source": [
        "(a >= 2) | (a <= 3)"
      ],
      "metadata": {
        "colab": {
          "base_uri": "https://localhost:8080/"
        },
        "id": "zqnk9Z4VzIYU",
        "outputId": "a3e05f2d-ffa1-4960-933f-566fccf239b2"
      },
      "execution_count": 12,
      "outputs": [
        {
          "output_type": "execute_result",
          "data": {
            "text/plain": [
              "<tf.Tensor: shape=(2, 2), dtype=bool, numpy=\n",
              "array([[ True,  True],\n",
              "       [ True,  True]])>"
            ]
          },
          "metadata": {},
          "execution_count": 12
        }
      ]
    },
    {
      "cell_type": "code",
      "source": [
        "a == 5 # tf.equal(a, 5)"
      ],
      "metadata": {
        "colab": {
          "base_uri": "https://localhost:8080/"
        },
        "id": "Qk-UIeyszITl",
        "outputId": "8cb7004c-6331-4451-bfe5-0ada0c4b2c4a"
      },
      "execution_count": 13,
      "outputs": [
        {
          "output_type": "execute_result",
          "data": {
            "text/plain": [
              "<tf.Tensor: shape=(2, 2), dtype=bool, numpy=\n",
              "array([[False, False],\n",
              "       [False, False]])>"
            ]
          },
          "metadata": {},
          "execution_count": 13
        }
      ]
    },
    {
      "cell_type": "code",
      "source": [
        "tf.sqrt(a)"
      ],
      "metadata": {
        "colab": {
          "base_uri": "https://localhost:8080/"
        },
        "id": "X-brdatGzIO9",
        "outputId": "ea36eae8-45fc-41d5-e5ca-da387587f1dc"
      },
      "execution_count": 14,
      "outputs": [
        {
          "output_type": "execute_result",
          "data": {
            "text/plain": [
              "<tf.Tensor: shape=(2, 2), dtype=float32, numpy=\n",
              "array([[1.       , 1.4142135],\n",
              "       [      nan, 2.       ]], dtype=float32)>"
            ]
          },
          "metadata": {},
          "execution_count": 14
        }
      ]
    },
    {
      "cell_type": "code",
      "source": [
        "a = tf.constant([1.0, 8.0])\n",
        "b = tf.constant([5.0, 6.0])\n",
        "c = tf.constant([6.0, 7.0])\n",
        "\n",
        "tf.add_n([a, b, c])"
      ],
      "metadata": {
        "colab": {
          "base_uri": "https://localhost:8080/"
        },
        "id": "Nxx-ZvS8zIKK",
        "outputId": "3ede8878-06db-404f-c1df-61674430baf0"
      },
      "execution_count": 15,
      "outputs": [
        {
          "output_type": "execute_result",
          "data": {
            "text/plain": [
              "<tf.Tensor: shape=(2,), dtype=float32, numpy=array([12., 21.], dtype=float32)>"
            ]
          },
          "metadata": {},
          "execution_count": 15
        }
      ]
    },
    {
      "cell_type": "code",
      "source": [
        "tf.print(tf.maximum(a, b))"
      ],
      "metadata": {
        "colab": {
          "base_uri": "https://localhost:8080/"
        },
        "id": "4InZAAFN1Fbl",
        "outputId": "9a418704-1c66-44ca-8eed-952089a22475"
      },
      "execution_count": 16,
      "outputs": [
        {
          "output_type": "stream",
          "name": "stdout",
          "text": [
            "[5 8]\n"
          ]
        }
      ]
    },
    {
      "cell_type": "code",
      "source": [
        "tf.print(tf.minimum(a, b))"
      ],
      "metadata": {
        "colab": {
          "base_uri": "https://localhost:8080/"
        },
        "id": "7rIqUdB_1FXN",
        "outputId": "03a865b2-fb30-4f86-ac30-679129314c39"
      },
      "execution_count": 17,
      "outputs": [
        {
          "output_type": "stream",
          "name": "stdout",
          "text": [
            "[1 6]\n"
          ]
        }
      ]
    },
    {
      "cell_type": "code",
      "source": [
        "# Clip value\n",
        "x = tf.constant([0.9, -0.8, 100.0, -20.0, 0.7])\n",
        "y = tf.clip_by_value(x, clip_value_min=-1, clip_value_max=1)\n",
        "z = tf.clip_by_norm(x, clip_norm=3)\n",
        "\n",
        "tf.print(y)\n",
        "tf.print(z)"
      ],
      "metadata": {
        "colab": {
          "base_uri": "https://localhost:8080/"
        },
        "id": "JzTo22661FSo",
        "outputId": "45b18f30-1f8a-4f5c-abd6-5e612711fa12"
      },
      "execution_count": 19,
      "outputs": [
        {
          "output_type": "stream",
          "name": "stdout",
          "text": [
            "[0.9 -0.8 1 -1 0.7]\n",
            "[0.0264732055 -0.0235317405 2.94146752 -0.588293493 0.0205902718]\n"
          ]
        }
      ]
    },
    {
      "cell_type": "markdown",
      "source": [
        "## 2. Vector Operation\n",
        "\n",
        "Vector operation manipulate along one specific axis. It projects one vector to a scalar or another vector. Many names of vector operator starts with \"reduce\""
      ],
      "metadata": {
        "id": "LlioJdcm12dz"
      }
    },
    {
      "cell_type": "code",
      "source": [
        "# Vector \"reduce\"\n",
        "a = tf.range(1, 10)\n",
        "tf.print(tf.reduce_sum(a))\n",
        "tf.print(tf.reduce_mean(a))\n",
        "tf.print(tf.reduce_max(a))\n",
        "tf.print(tf.reduce_min(a))\n",
        "tf.print(tf.reduce_prod(a))"
      ],
      "metadata": {
        "colab": {
          "base_uri": "https://localhost:8080/"
        },
        "id": "ebS4oiYk1FNl",
        "outputId": "5761d11c-c2dd-400f-868b-c74a52036fe2"
      },
      "execution_count": 20,
      "outputs": [
        {
          "output_type": "stream",
          "name": "stdout",
          "text": [
            "45\n",
            "5\n",
            "9\n",
            "1\n",
            "362880\n"
          ]
        }
      ]
    },
    {
      "cell_type": "code",
      "source": [
        "# \"reduce\" along the specific dimension\n",
        "b = tf.reshape(a, (3, 3))\n",
        "tf.print(tf.reduce_sum(b, axis=1, keepdims=True))\n",
        "tf.print(tf.reduce_sum(b, axis=0, keepdims=True))"
      ],
      "metadata": {
        "colab": {
          "base_uri": "https://localhost:8080/"
        },
        "id": "_3i4vZFG1FIz",
        "outputId": "79ea0729-90a4-447e-b68a-8055e5408b76"
      },
      "execution_count": 21,
      "outputs": [
        {
          "output_type": "stream",
          "name": "stdout",
          "text": [
            "[[6]\n",
            " [15]\n",
            " [24]]\n",
            "[[12 15 18]]\n"
          ]
        }
      ]
    },
    {
      "cell_type": "code",
      "source": [
        "# \"reduce\" for bool type\n",
        "p = tf.constant([True, False, False])\n",
        "q = tf.constant([False, False, True])\n",
        "tf.print(tf.reduce_all(p))\n",
        "tf.print(tf.reduce_any(q))"
      ],
      "metadata": {
        "colab": {
          "base_uri": "https://localhost:8080/"
        },
        "id": "kCX0nIq01FDV",
        "outputId": "92141988-1578-4eaf-c2ab-0cb518bc71b6"
      },
      "execution_count": 22,
      "outputs": [
        {
          "output_type": "stream",
          "name": "stdout",
          "text": [
            "0\n",
            "1\n"
          ]
        }
      ]
    },
    {
      "cell_type": "code",
      "source": [
        "# Implement tf.reduce_sum using tf.foldr\n",
        "s = tf.foldr(lambda a, b: a + b, tf.range(10))\n",
        "tf.print(s)"
      ],
      "metadata": {
        "colab": {
          "base_uri": "https://localhost:8080/"
        },
        "id": "GiYtboGX1E99",
        "outputId": "4e2457f8-b693-467a-c909-3039856f9ae4"
      },
      "execution_count": 23,
      "outputs": [
        {
          "output_type": "stream",
          "name": "stdout",
          "text": [
            "45\n"
          ]
        }
      ]
    },
    {
      "cell_type": "code",
      "source": [
        "# Cumulative sum\n",
        "a = tf.range(1, 10)\n",
        "tf.print(tf.math.cumsum(a))\n",
        "tf.print(tf.math.cumprod(a))"
      ],
      "metadata": {
        "colab": {
          "base_uri": "https://localhost:8080/"
        },
        "id": "bw-8s9tC1E5-",
        "outputId": "8d9840d7-a42b-4812-9b46-aee5a4ba2a49"
      },
      "execution_count": 24,
      "outputs": [
        {
          "output_type": "stream",
          "name": "stdout",
          "text": [
            "[1 3 6 ... 28 36 45]\n",
            "[1 2 6 ... 5040 40320 362880]\n"
          ]
        }
      ]
    },
    {
      "cell_type": "code",
      "source": [
        "# Index of max and min values in the arguments\n",
        "a = tf.range(1, 10)\n",
        "tf.print(tf.argmax(a))\n",
        "tf.print(tf.argmin(a))"
      ],
      "metadata": {
        "colab": {
          "base_uri": "https://localhost:8080/"
        },
        "id": "2MeY8Yeg1E1P",
        "outputId": "d50554a5-88be-48db-8050-0ad13e8d19c0"
      },
      "execution_count": 25,
      "outputs": [
        {
          "output_type": "stream",
          "name": "stdout",
          "text": [
            "8\n",
            "0\n"
          ]
        }
      ]
    },
    {
      "cell_type": "code",
      "source": [
        "# Sort the eements in tensor using tf.math.top_k\n",
        "a = tf.constant([1, 3, 7, 5, 4, 8])\n",
        "\n",
        "values, indices = tf.math.top_k(a, 3, sorted=True)\n",
        "tf.print(values)\n",
        "tf.print(indices)\n",
        "\n",
        "# tf.math.top_k is able to implement KNN algorithm in TensorFlow"
      ],
      "metadata": {
        "colab": {
          "base_uri": "https://localhost:8080/"
        },
        "id": "Szoy58IG1Ewx",
        "outputId": "b020fa79-005f-4274-ddd5-e228d53765da"
      },
      "execution_count": 26,
      "outputs": [
        {
          "output_type": "stream",
          "name": "stdout",
          "text": [
            "[8 7 5]\n",
            "[5 2 3]\n"
          ]
        }
      ]
    },
    {
      "cell_type": "markdown",
      "source": [
        "## 3. Matrix Operation\n",
        "\n",
        "Matrix must be two-dimensional. Something such as `tf.constant([1, 2, 3])` is not a matrix.\n",
        "\n",
        "Matrix operation includes matrix multiply, transpose, inverse, trace, norm, determinant, eigenvalue, decomposition, etc.\n",
        "\n",
        "Most of the matrix operations are in the `tf.linalg` except for some popular operations."
      ],
      "metadata": {
        "id": "t183KiTr3tzf"
      }
    },
    {
      "cell_type": "code",
      "source": [
        "# Matrix multiplication\n",
        "a = tf.constant([[1, 2], [3, 4]])\n",
        "b = tf.constant([[2, 0], [0, 2]])\n",
        "a @ b # == tf.matmul(a, b)"
      ],
      "metadata": {
        "colab": {
          "base_uri": "https://localhost:8080/"
        },
        "id": "mtlOYUi91Erv",
        "outputId": "62aacb1d-891a-429d-9764-b10f5daf2278"
      },
      "execution_count": 27,
      "outputs": [
        {
          "output_type": "execute_result",
          "data": {
            "text/plain": [
              "<tf.Tensor: shape=(2, 2), dtype=int32, numpy=\n",
              "array([[2, 4],\n",
              "       [6, 8]], dtype=int32)>"
            ]
          },
          "metadata": {},
          "execution_count": 27
        }
      ]
    },
    {
      "cell_type": "code",
      "source": [
        "# Matrix transpose\n",
        "a = tf.constant([[1, 2], [3, 4]])\n",
        "tf.transpose(a)"
      ],
      "metadata": {
        "colab": {
          "base_uri": "https://localhost:8080/"
        },
        "id": "Oo_X9DkL1EnG",
        "outputId": "cdfb910f-164d-4e76-fde0-2c8cc61ac69c"
      },
      "execution_count": 28,
      "outputs": [
        {
          "output_type": "execute_result",
          "data": {
            "text/plain": [
              "<tf.Tensor: shape=(2, 2), dtype=int32, numpy=\n",
              "array([[1, 3],\n",
              "       [2, 4]], dtype=int32)>"
            ]
          },
          "metadata": {},
          "execution_count": 28
        }
      ]
    },
    {
      "cell_type": "code",
      "source": [
        "# Matrix inverse, must be in type of tf.float32 or tf.double\n",
        "a = tf.constant([[1.0, 2], [3, 4]], dtype=tf.float32)\n",
        "tf.linalg.inv(a)"
      ],
      "metadata": {
        "colab": {
          "base_uri": "https://localhost:8080/"
        },
        "id": "odu1fNwU1EiV",
        "outputId": "88b84231-5fb8-4c26-f7c2-58c8df269544"
      },
      "execution_count": 29,
      "outputs": [
        {
          "output_type": "execute_result",
          "data": {
            "text/plain": [
              "<tf.Tensor: shape=(2, 2), dtype=float32, numpy=\n",
              "array([[-2.0000002 ,  1.0000001 ],\n",
              "       [ 1.5000001 , -0.50000006]], dtype=float32)>"
            ]
          },
          "metadata": {},
          "execution_count": 29
        }
      ]
    },
    {
      "cell_type": "code",
      "source": [
        "# Matrix trace\n",
        "a = tf.constant([[1.0, 2], [3, 4]], dtype=tf.float32)\n",
        "tf.linalg.trace(a)"
      ],
      "metadata": {
        "colab": {
          "base_uri": "https://localhost:8080/"
        },
        "id": "xhxz4h_O1EdN",
        "outputId": "c159148f-f9c2-415b-bcf3-dfe5c60f9b5e"
      },
      "execution_count": 30,
      "outputs": [
        {
          "output_type": "execute_result",
          "data": {
            "text/plain": [
              "<tf.Tensor: shape=(), dtype=float32, numpy=5.0>"
            ]
          },
          "metadata": {},
          "execution_count": 30
        }
      ]
    },
    {
      "cell_type": "code",
      "source": [
        "# Matrix norm\n",
        "a = tf.constant([[1.0, 2], [3, 4]], dtype=tf.float32)\n",
        "tf.linalg.norm(a)"
      ],
      "metadata": {
        "colab": {
          "base_uri": "https://localhost:8080/"
        },
        "id": "4TOs5zgn45gH",
        "outputId": "945e0de3-e2b5-4f47-8c9b-ea0271f5c565"
      },
      "execution_count": 31,
      "outputs": [
        {
          "output_type": "execute_result",
          "data": {
            "text/plain": [
              "<tf.Tensor: shape=(), dtype=float32, numpy=5.477226>"
            ]
          },
          "metadata": {},
          "execution_count": 31
        }
      ]
    },
    {
      "cell_type": "code",
      "source": [
        "# Determinant\n",
        "a = tf.constant([[1.0, 2], [3, 4]], dtype=tf.float32)\n",
        "tf.linalg.det(a)"
      ],
      "metadata": {
        "colab": {
          "base_uri": "https://localhost:8080/"
        },
        "id": "aRrTxQsC45bH",
        "outputId": "bd42c103-3bc2-4235-9b5e-cb441d5dbf42"
      },
      "execution_count": 32,
      "outputs": [
        {
          "output_type": "execute_result",
          "data": {
            "text/plain": [
              "<tf.Tensor: shape=(), dtype=float32, numpy=-2.0>"
            ]
          },
          "metadata": {},
          "execution_count": 32
        }
      ]
    },
    {
      "cell_type": "code",
      "source": [
        "# Eigenvalues\n",
        "a = tf.constant([[1.0, 2], [3, 4]], dtype=tf.float32)\n",
        "tf.linalg.eigvals(a)"
      ],
      "metadata": {
        "colab": {
          "base_uri": "https://localhost:8080/"
        },
        "id": "4wy4p5Yr45VY",
        "outputId": "c8482fea-41e1-49f2-f44d-cefc63d358e2"
      },
      "execution_count": 33,
      "outputs": [
        {
          "output_type": "execute_result",
          "data": {
            "text/plain": [
              "<tf.Tensor: shape=(2,), dtype=complex64, numpy=array([-0.37228122+0.j,  5.372281  +0.j], dtype=complex64)>"
            ]
          },
          "metadata": {},
          "execution_count": 33
        }
      ]
    },
    {
      "cell_type": "code",
      "source": [
        "# QR decomposition\n",
        "a = tf.constant([[1.0, 2], [3, 4]], dtype=tf.float32)\n",
        "q, r = tf.linalg.qr(a)\n",
        "tf.print(q)\n",
        "tf.print(r)\n",
        "tf.print(q @ r)"
      ],
      "metadata": {
        "colab": {
          "base_uri": "https://localhost:8080/"
        },
        "id": "hpXG1YOw45KY",
        "outputId": "6c7bbc83-5c92-496a-954c-09883b775b83"
      },
      "execution_count": 35,
      "outputs": [
        {
          "output_type": "stream",
          "name": "stdout",
          "text": [
            "[[-0.316227794 -0.948683321]\n",
            " [-0.948683321 0.316227734]]\n",
            "[[-3.1622777 -4.4271884]\n",
            " [0 -0.632455349]]\n",
            "[[1.00000012 1.99999976]\n",
            " [3 4]]\n"
          ]
        }
      ]
    },
    {
      "cell_type": "code",
      "source": [
        "# SVD decomposition\n",
        "a = tf.constant([[1.0, 2], [3, 4]], dtype=tf.float32)\n",
        "s, u, v = tf.linalg.svd(a)\n",
        "tf.print(u, s, v)\n",
        "tf.print(u @ tf.linalg.diag(s) @ tf.transpose(v))\n",
        "\n",
        "# Used for dimension reduction in PCA"
      ],
      "metadata": {
        "colab": {
          "base_uri": "https://localhost:8080/"
        },
        "id": "DbSCWwTT45Ax",
        "outputId": "0fd2936a-99ba-4dd4-e8ad-cb8144af8d7c"
      },
      "execution_count": 36,
      "outputs": [
        {
          "output_type": "stream",
          "name": "stdout",
          "text": [
            "[[0.404553503 -0.914514303]\n",
            " [0.914514303 0.404553503]] [5.46498537 0.365966141] [[0.576048374 0.817415595]\n",
            " [0.817415595 -0.576048374]]\n",
            "[[0.999999583 1.99999964]\n",
            " [2.99999976 4]]\n"
          ]
        }
      ]
    },
    {
      "cell_type": "markdown",
      "source": [
        "## 4. Broadcasting Mechanism\n",
        "\n",
        "The rule of broadcasting in TensorFlow is the same as numpy:\n",
        "- i. if two tensors are different in rank, expand the tensor with lower rank.\n",
        "- ii. if two tensors has the same length along certain dimension, or one of the tensor has length 1 along certain dimension, then these two tensor are compatible along this dimension.\n",
        "- iii. two tensor are compatible along all dimensions are able to broadcast.\n",
        "- iv. after broadcasting, the length of each dimension equals to the larger one among two tensors.\n",
        "- v. when a tensor has length = 1 along any dimension while the length of corresponding dimension of the other tensor > 1, in the broadcast result, this only element is just like been duplicated along this dimension.\n",
        "\n",
        "`tf.broadcast_to` expand the dimension of tensor explicitly."
      ],
      "metadata": {
        "id": "IvKcAk205sy7"
      }
    },
    {
      "cell_type": "code",
      "source": [
        "a = tf.constant([1, 2, 3])\n",
        "b = tf.constant([[0, 0, 0], [1, 1, 1], [2, 2, 2]])\n",
        "b + a # == b + tf.broadcast_to(a, b.shape)"
      ],
      "metadata": {
        "colab": {
          "base_uri": "https://localhost:8080/"
        },
        "id": "A3OjDFk-448f",
        "outputId": "858acbbc-fcd1-4f63-bea4-1020efe63d8b"
      },
      "execution_count": 38,
      "outputs": [
        {
          "output_type": "execute_result",
          "data": {
            "text/plain": [
              "<tf.Tensor: shape=(3, 3), dtype=int32, numpy=\n",
              "array([[1, 2, 3],\n",
              "       [2, 3, 4],\n",
              "       [3, 4, 5]], dtype=int32)>"
            ]
          },
          "metadata": {},
          "execution_count": 38
        }
      ]
    },
    {
      "cell_type": "code",
      "source": [
        "tf.broadcast_to(a, b.shape)"
      ],
      "metadata": {
        "colab": {
          "base_uri": "https://localhost:8080/"
        },
        "id": "iXT3WwDW444z",
        "outputId": "c0a796d4-53bf-465f-f188-9956a4038ca4"
      },
      "execution_count": 39,
      "outputs": [
        {
          "output_type": "execute_result",
          "data": {
            "text/plain": [
              "<tf.Tensor: shape=(3, 3), dtype=int32, numpy=\n",
              "array([[1, 2, 3],\n",
              "       [1, 2, 3],\n",
              "       [1, 2, 3]], dtype=int32)>"
            ]
          },
          "metadata": {},
          "execution_count": 39
        }
      ]
    },
    {
      "cell_type": "code",
      "source": [
        "# Shape after broadcasting using static type, requires arguments in TensorShape type\n",
        "tf.broadcast_static_shape(a.shape, b.shape)"
      ],
      "metadata": {
        "colab": {
          "base_uri": "https://localhost:8080/"
        },
        "id": "Df8qNWMW440v",
        "outputId": "69ff2d06-87fb-4b15-f5ba-69eb81fcbcf0"
      },
      "execution_count": 40,
      "outputs": [
        {
          "output_type": "execute_result",
          "data": {
            "text/plain": [
              "TensorShape([3, 3])"
            ]
          },
          "metadata": {},
          "execution_count": 40
        }
      ]
    },
    {
      "cell_type": "code",
      "source": [
        "# Shape after broadcasting using dynamic type, requires arguments in Tensor type\n",
        "c = tf.constant([1, 2, 3])\n",
        "d = tf.constant([[1], [2], [3]])\n",
        "tf.broadcast_dynamic_shape(tf.shape(c), tf.shape(d))"
      ],
      "metadata": {
        "colab": {
          "base_uri": "https://localhost:8080/"
        },
        "id": "_AkF-0B644wo",
        "outputId": "84f0acee-06a8-4751-cbdb-dcf853df5ade"
      },
      "execution_count": 41,
      "outputs": [
        {
          "output_type": "execute_result",
          "data": {
            "text/plain": [
              "<tf.Tensor: shape=(2,), dtype=int32, numpy=array([3, 3], dtype=int32)>"
            ]
          },
          "metadata": {},
          "execution_count": 41
        }
      ]
    },
    {
      "cell_type": "code",
      "source": [
        "# Results of broadcasting\n",
        "c + d # == tf.broadcast_to(c, [3, 3]) + tf.broadcast_to(d, [3, 3])"
      ],
      "metadata": {
        "colab": {
          "base_uri": "https://localhost:8080/"
        },
        "id": "VymCu9_o1EYw",
        "outputId": "914acad9-779b-4f36-82c1-57836328fe7f"
      },
      "execution_count": 42,
      "outputs": [
        {
          "output_type": "execute_result",
          "data": {
            "text/plain": [
              "<tf.Tensor: shape=(3, 3), dtype=int32, numpy=\n",
              "array([[2, 3, 4],\n",
              "       [3, 4, 5],\n",
              "       [4, 5, 6]], dtype=int32)>"
            ]
          },
          "metadata": {},
          "execution_count": 42
        }
      ]
    },
    {
      "cell_type": "code",
      "source": [],
      "metadata": {
        "id": "sZY2B2xI1EUH"
      },
      "execution_count": null,
      "outputs": []
    },
    {
      "cell_type": "code",
      "execution_count": null,
      "metadata": {
        "id": "c5Wv_Wf6tj47"
      },
      "outputs": [],
      "source": []
    }
  ]
}