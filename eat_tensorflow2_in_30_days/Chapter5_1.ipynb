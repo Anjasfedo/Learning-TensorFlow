{
  "nbformat": 4,
  "nbformat_minor": 0,
  "metadata": {
    "colab": {
      "provenance": [],
      "authorship_tag": "ABX9TyPxx1jn2bfNh5GFKBZHBap7",
      "include_colab_link": true
    },
    "kernelspec": {
      "name": "python3",
      "display_name": "Python 3"
    },
    "language_info": {
      "name": "python"
    }
  },
  "cells": [
    {
      "cell_type": "markdown",
      "metadata": {
        "id": "view-in-github",
        "colab_type": "text"
      },
      "source": [
        "<a href=\"https://colab.research.google.com/github/Anjasfedo/Learning-TensorFlow/blob/main/eat_tensorflow2_in_30_days/Chapter5_1.ipynb\" target=\"_parent\"><img src=\"https://colab.research.google.com/assets/colab-badge.svg\" alt=\"Open In Colab\"/></a>"
      ]
    },
    {
      "cell_type": "markdown",
      "source": [
        "# 5-1 Dataset"
      ],
      "metadata": {
        "id": "9pyE0EiBKu5g"
      }
    },
    {
      "cell_type": "markdown",
      "source": [
        "All the data could be read into memory for training to maximize the efficiency, if the volume of training data is small (r.g. < 1gb).\n",
        "\n",
        "However, if the data volume is huge (e.g. > 10gb) which is not possible to load everything into the memory, they should be devided into bathces before reading.\n",
        "\n",
        "The API `tf.data` construct input data pipeline to help manage huge volume of data with various formats and coversions."
      ],
      "metadata": {
        "id": "vQLFe0i5K0dJ"
      }
    },
    {
      "cell_type": "markdown",
      "source": [
        "## 1. Constructuing Data Pipeline\n",
        "\n",
        "Data pipeline could be constructed through followin methods:\n",
        "- numpy array\n",
        "- pandas DataFrame\n",
        "- Python generator\n",
        "- CSV file\n",
        "- text file\n",
        "- file path\n",
        "- tfrecords file\n",
        "\n",
        "Among these methods, the most popular ones are: numpy array, pandas DataFrame, and file path.\n",
        "\n",
        "The drawback of using tfrecords file to construct data pipelines is its complication, since it requires:\n",
        "- construct `tf.Example` from samples\n",
        "- compress `tf.Example` into string and write it to tfrecords file\n",
        "- when using these data, the tfrecords file have to be read and analyzed into `tf.Example`.\n",
        "\n",
        "On the other hand, the advantage of using tfrecords files is its small volume after compression, its convenient sharing through the internet, and the fast speed of loading."
      ],
      "metadata": {
        "id": "Px0I1caYLlUJ"
      }
    },
    {
      "cell_type": "markdown",
      "source": [
        "### 1.1 Constructuing Data Pipeline through Numpy Array"
      ],
      "metadata": {
        "id": "LyVkgNyHMkCT"
      }
    },
    {
      "cell_type": "code",
      "source": [
        "import tensorflow as tf\n",
        "import numpy as np\n",
        "from sklearn import datasets\n",
        "\n",
        "iris = datasets.load_iris()"
      ],
      "metadata": {
        "id": "pHdFq7GYMpOS"
      },
      "execution_count": 57,
      "outputs": []
    },
    {
      "cell_type": "code",
      "source": [
        "ds_1 = tf.data.Dataset.from_tensor_slices((iris['data'], iris['target']))\n",
        "\n",
        "for features, label in ds_1.take(5):\n",
        "    print(features, label)"
      ],
      "metadata": {
        "colab": {
          "base_uri": "https://localhost:8080/"
        },
        "id": "s-XYzJeCMpKL",
        "outputId": "d9a4ccda-d4e6-4024-b307-5ef4042bf1b2"
      },
      "execution_count": 58,
      "outputs": [
        {
          "output_type": "stream",
          "name": "stdout",
          "text": [
            "tf.Tensor([5.1 3.5 1.4 0.2], shape=(4,), dtype=float64) tf.Tensor(0, shape=(), dtype=int64)\n",
            "tf.Tensor([4.9 3.  1.4 0.2], shape=(4,), dtype=float64) tf.Tensor(0, shape=(), dtype=int64)\n",
            "tf.Tensor([4.7 3.2 1.3 0.2], shape=(4,), dtype=float64) tf.Tensor(0, shape=(), dtype=int64)\n",
            "tf.Tensor([4.6 3.1 1.5 0.2], shape=(4,), dtype=float64) tf.Tensor(0, shape=(), dtype=int64)\n",
            "tf.Tensor([5.  3.6 1.4 0.2], shape=(4,), dtype=float64) tf.Tensor(0, shape=(), dtype=int64)\n"
          ]
        }
      ]
    },
    {
      "cell_type": "markdown",
      "source": [
        "### 1.2 Constructing Data Pipeline through Pandas Dataframe"
      ],
      "metadata": {
        "id": "yFrcvYUJM61J"
      }
    },
    {
      "cell_type": "code",
      "source": [
        "import tensorflow as tf\n",
        "import pandas as pd\n",
        "from sklearn import datasets\n",
        "\n",
        "iris = datasets.load_iris()"
      ],
      "metadata": {
        "id": "3lV-NCWkMpFX"
      },
      "execution_count": 59,
      "outputs": []
    },
    {
      "cell_type": "code",
      "source": [
        "df_iris = pd.DataFrame(iris['data'], columns=iris['feature_names'])\n",
        "ds_2 = tf.data.Dataset.from_tensor_slices((df_iris.to_dict('list'), iris['target']))\n",
        "\n",
        "for features, label in ds_2.take(5):\n",
        "    print(features, label)"
      ],
      "metadata": {
        "colab": {
          "base_uri": "https://localhost:8080/"
        },
        "id": "ZlfZ-TmKMpBD",
        "outputId": "17ae8920-b5e3-4894-e31a-d642983424a7"
      },
      "execution_count": 60,
      "outputs": [
        {
          "output_type": "stream",
          "name": "stdout",
          "text": [
            "{'sepal length (cm)': <tf.Tensor: shape=(), dtype=float32, numpy=5.1>, 'sepal width (cm)': <tf.Tensor: shape=(), dtype=float32, numpy=3.5>, 'petal length (cm)': <tf.Tensor: shape=(), dtype=float32, numpy=1.4>, 'petal width (cm)': <tf.Tensor: shape=(), dtype=float32, numpy=0.2>} tf.Tensor(0, shape=(), dtype=int64)\n",
            "{'sepal length (cm)': <tf.Tensor: shape=(), dtype=float32, numpy=4.9>, 'sepal width (cm)': <tf.Tensor: shape=(), dtype=float32, numpy=3.0>, 'petal length (cm)': <tf.Tensor: shape=(), dtype=float32, numpy=1.4>, 'petal width (cm)': <tf.Tensor: shape=(), dtype=float32, numpy=0.2>} tf.Tensor(0, shape=(), dtype=int64)\n",
            "{'sepal length (cm)': <tf.Tensor: shape=(), dtype=float32, numpy=4.7>, 'sepal width (cm)': <tf.Tensor: shape=(), dtype=float32, numpy=3.2>, 'petal length (cm)': <tf.Tensor: shape=(), dtype=float32, numpy=1.3>, 'petal width (cm)': <tf.Tensor: shape=(), dtype=float32, numpy=0.2>} tf.Tensor(0, shape=(), dtype=int64)\n",
            "{'sepal length (cm)': <tf.Tensor: shape=(), dtype=float32, numpy=4.6>, 'sepal width (cm)': <tf.Tensor: shape=(), dtype=float32, numpy=3.1>, 'petal length (cm)': <tf.Tensor: shape=(), dtype=float32, numpy=1.5>, 'petal width (cm)': <tf.Tensor: shape=(), dtype=float32, numpy=0.2>} tf.Tensor(0, shape=(), dtype=int64)\n",
            "{'sepal length (cm)': <tf.Tensor: shape=(), dtype=float32, numpy=5.0>, 'sepal width (cm)': <tf.Tensor: shape=(), dtype=float32, numpy=3.6>, 'petal length (cm)': <tf.Tensor: shape=(), dtype=float32, numpy=1.4>, 'petal width (cm)': <tf.Tensor: shape=(), dtype=float32, numpy=0.2>} tf.Tensor(0, shape=(), dtype=int64)\n"
          ]
        }
      ]
    },
    {
      "cell_type": "markdown",
      "source": [
        "### 1.3 Constructing Data Pipeline through Python generator"
      ],
      "metadata": {
        "id": "kQtTVvLwNYUm"
      }
    },
    {
      "cell_type": "code",
      "source": [
        "import tensorflow as tf\n",
        "from matplotlib import pyplot as plt\n",
        "from tensorflow.keras.preprocessing.image import ImageDataGenerator"
      ],
      "metadata": {
        "id": "NNyqXkC2Mo8t"
      },
      "execution_count": 61,
      "outputs": []
    },
    {
      "cell_type": "code",
      "source": [
        "# Download Dataset\n",
        "!git clone https://github.com/lyhue1991/eat_tensorflow2_in_30_days"
      ],
      "metadata": {
        "colab": {
          "base_uri": "https://localhost:8080/"
        },
        "id": "NCvku63oNsi4",
        "outputId": "9a60058a-9d9f-4730-917a-6c38d1f026b3"
      },
      "execution_count": 62,
      "outputs": [
        {
          "output_type": "stream",
          "name": "stdout",
          "text": [
            "fatal: destination path 'eat_tensorflow2_in_30_days' already exists and is not an empty directory.\n"
          ]
        }
      ]
    },
    {
      "cell_type": "code",
      "source": [
        "# Define generator to read image from a folder\n",
        "image_generator = ImageDataGenerator(rescale=1/255).flow_from_directory(\n",
        "                  '/content/eat_tensorflow2_in_30_days/data/cifar2/test',\n",
        "                  target_size=(32, 32),\n",
        "                  batch_size=20,\n",
        "                  class_mode='binary'\n",
        "                  )"
      ],
      "metadata": {
        "colab": {
          "base_uri": "https://localhost:8080/"
        },
        "id": "Zhxa6qASMo4I",
        "outputId": "a9f853d6-b54c-4705-d871-2883c7a78ea4"
      },
      "execution_count": 63,
      "outputs": [
        {
          "output_type": "stream",
          "name": "stdout",
          "text": [
            "Found 2000 images belonging to 2 classes.\n"
          ]
        }
      ]
    },
    {
      "cell_type": "code",
      "source": [
        "class_indices = image_generator.class_indices\n",
        "print(class_indices)"
      ],
      "metadata": {
        "colab": {
          "base_uri": "https://localhost:8080/"
        },
        "id": "NLmLmdXPMoz3",
        "outputId": "aeb0e73e-4648-4400-c028-4f414754ec5c"
      },
      "execution_count": 64,
      "outputs": [
        {
          "output_type": "stream",
          "name": "stdout",
          "text": [
            "{'airplane': 0, 'automobile': 1}\n"
          ]
        }
      ]
    },
    {
      "cell_type": "code",
      "source": [
        "def generator():\n",
        "  for features, label in image_generator:\n",
        "    yield (features, label)"
      ],
      "metadata": {
        "id": "0UzEZUjMMovq"
      },
      "execution_count": 65,
      "outputs": []
    },
    {
      "cell_type": "code",
      "source": [
        "ds_3 = tf.data.Dataset.from_generator(generator, output_types=(tf.float32, tf.int32))"
      ],
      "metadata": {
        "id": "BqmG_icTMoqL"
      },
      "execution_count": 66,
      "outputs": []
    },
    {
      "cell_type": "code",
      "source": [
        "plt.figure(figsize=(12, 12))\n",
        "for i, (img, label) in enumerate(ds_3.unbatch().take(9)):\n",
        "    ax = plt.subplot(3, 3, i + 1)\n",
        "    ax.imshow(img.numpy())\n",
        "    ax.set_title(\"label = %d\" % label)\n",
        "    ax.set_xticks([])\n",
        "    ax.set_yticks([])\n",
        "plt.show()"
      ],
      "metadata": {
        "colab": {
          "base_uri": "https://localhost:8080/",
          "height": 658
        },
        "id": "TJ1Ig4hqMolm",
        "outputId": "1da53382-c3fc-40c6-c245-b2877dfa8703"
      },
      "execution_count": 67,
      "outputs": [
        {
          "output_type": "display_data",
          "data": {
            "text/plain": [
              "<Figure size 1200x1200 with 9 Axes>"
            ],
            "image/png": "[encoded data removed]"
          },
          "metadata": {}
        }
      ]
    },
    {
      "cell_type": "markdown",
      "source": [
        "### 1.4 Constructing Data Pipeline through CSV file"
      ],
      "metadata": {
        "id": "S_XigK3WOblF"
      }
    },
    {
      "cell_type": "code",
      "source": [
        "ds_4 = tf.data.experimental.make_csv_dataset(\n",
        "    file_pattern=['/content/eat_tensorflow2_in_30_days/data/titanic/train.csv', '/content/eat_tensorflow2_in_30_days/data/titanic/test.csv'],\n",
        "    batch_size=3,\n",
        "    label_name='Survived',\n",
        "    na_value='',\n",
        "    num_epochs=1,\n",
        "    ignore_errors=True\n",
        ")"
      ],
      "metadata": {
        "id": "-0A19eRvObhL"
      },
      "execution_count": 68,
      "outputs": []
    },
    {
      "cell_type": "code",
      "source": [
        "for data, label in ds_4.take(2):\n",
        "    print(data, label)"
      ],
      "metadata": {
        "colab": {
          "base_uri": "https://localhost:8080/"
        },
        "id": "sXtoQAdAObda",
        "outputId": "d9d16f6f-6047-4308-f2f9-3d2fdb66315a"
      },
      "execution_count": 69,
      "outputs": [
        {
          "output_type": "stream",
          "name": "stdout",
          "text": [
            "OrderedDict([('PassengerId', <tf.Tensor: shape=(3,), dtype=int32, numpy=array([183, 548, 450], dtype=int32)>), ('Pclass', <tf.Tensor: shape=(3,), dtype=int32, numpy=array([3, 2, 1], dtype=int32)>), ('Name', <tf.Tensor: shape=(3,), dtype=string, numpy=\n",
            "array([b'Asplund, Master. Clarence Gustaf Hugo',\n",
            "       b'Padro y Manent, Mr. Julian', b'Peuchen, Major. Arthur Godfrey'],\n",
            "      dtype=object)>), ('Sex', <tf.Tensor: shape=(3,), dtype=string, numpy=array([b'male', b'male', b'male'], dtype=object)>), ('Age', <tf.Tensor: shape=(3,), dtype=float32, numpy=array([ 9.,  0., 52.], dtype=float32)>), ('SibSp', <tf.Tensor: shape=(3,), dtype=int32, numpy=array([4, 0, 0], dtype=int32)>), ('Parch', <tf.Tensor: shape=(3,), dtype=int32, numpy=array([2, 0, 0], dtype=int32)>), ('Ticket', <tf.Tensor: shape=(3,), dtype=string, numpy=array([b'347077', b'SC/PARIS 2146', b'113786'], dtype=object)>), ('Fare', <tf.Tensor: shape=(3,), dtype=float32, numpy=array([31.3875, 13.8625, 30.5   ], dtype=float32)>), ('Cabin', <tf.Tensor: shape=(3,), dtype=string, numpy=array([b'', b'', b'C104'], dtype=object)>), ('Embarked', <tf.Tensor: shape=(3,), dtype=string, numpy=array([b'S', b'C', b'S'], dtype=object)>)]) tf.Tensor([0 1 1], shape=(3,), dtype=int32)\n",
            "OrderedDict([('PassengerId', <tf.Tensor: shape=(3,), dtype=int32, numpy=array([513, 285, 615], dtype=int32)>), ('Pclass', <tf.Tensor: shape=(3,), dtype=int32, numpy=array([1, 1, 3], dtype=int32)>), ('Name', <tf.Tensor: shape=(3,), dtype=string, numpy=\n",
            "array([b'McGough, Mr. James Robert', b'Smith, Mr. Richard William',\n",
            "       b'Brocklebank, Mr. William Alfred'], dtype=object)>), ('Sex', <tf.Tensor: shape=(3,), dtype=string, numpy=array([b'male', b'male', b'male'], dtype=object)>), ('Age', <tf.Tensor: shape=(3,), dtype=float32, numpy=array([36.,  0., 35.], dtype=float32)>), ('SibSp', <tf.Tensor: shape=(3,), dtype=int32, numpy=array([0, 0, 0], dtype=int32)>), ('Parch', <tf.Tensor: shape=(3,), dtype=int32, numpy=array([0, 0, 0], dtype=int32)>), ('Ticket', <tf.Tensor: shape=(3,), dtype=string, numpy=array([b'PC 17473', b'113056', b'364512'], dtype=object)>), ('Fare', <tf.Tensor: shape=(3,), dtype=float32, numpy=array([26.2875, 26.    ,  8.05  ], dtype=float32)>), ('Cabin', <tf.Tensor: shape=(3,), dtype=string, numpy=array([b'E25', b'A19', b''], dtype=object)>), ('Embarked', <tf.Tensor: shape=(3,), dtype=string, numpy=array([b'S', b'S', b'S'], dtype=object)>)]) tf.Tensor([1 0 0], shape=(3,), dtype=int32)\n"
          ]
        }
      ]
    },
    {
      "cell_type": "markdown",
      "source": [
        "### 1.5 Constructing Data Pipeline through text file"
      ],
      "metadata": {
        "id": "hzY7zCKqO8ca"
      }
    },
    {
      "cell_type": "code",
      "source": [
        "ds_5 = tf.data.TextLineDataset(filenames=['/content/eat_tensorflow2_in_30_days/data/titanic/train.csv', '/content/eat_tensorflow2_in_30_days/data/titanic/test.csv']) \\\n",
        "        .skip(1) # ommiting the header on the first lane"
      ],
      "metadata": {
        "id": "3vqxXyk0Mogv"
      },
      "execution_count": 70,
      "outputs": []
    },
    {
      "cell_type": "code",
      "source": [
        "for line in ds_5.take(2):\n",
        "  print(line)"
      ],
      "metadata": {
        "colab": {
          "base_uri": "https://localhost:8080/"
        },
        "id": "o-DTtDkdMob_",
        "outputId": "be9a515f-fe6d-4153-cd13-9d9ac4306fe0"
      },
      "execution_count": 71,
      "outputs": [
        {
          "output_type": "stream",
          "name": "stdout",
          "text": [
            "tf.Tensor(b'493,0,1,\"Molson, Mr. Harry Markland\",male,55.0,0,0,113787,30.5,C30,S', shape=(), dtype=string)\n",
            "tf.Tensor(b'53,1,1,\"Harper, Mrs. Henry Sleeper (Myna Haxtun)\",female,49.0,1,0,PC 17572,76.7292,D33,C', shape=(), dtype=string)\n"
          ]
        }
      ]
    },
    {
      "cell_type": "markdown",
      "source": [
        "### 1.6 Constructing Data Pipeline through file path"
      ],
      "metadata": {
        "id": "qx6Mkx16Pe6I"
      }
    },
    {
      "cell_type": "code",
      "source": [
        "ds_6 = tf.data.Dataset.list_files('/content/eat_tensorflow2_in_30_days/data/cifar2/train/*/*.jpg')"
      ],
      "metadata": {
        "id": "aJPqlAC1MoXX"
      },
      "execution_count": 72,
      "outputs": []
    },
    {
      "cell_type": "code",
      "source": [
        "for file in ds_6.take(2):\n",
        "  print(file)"
      ],
      "metadata": {
        "colab": {
          "base_uri": "https://localhost:8080/"
        },
        "id": "YNRNQNWtMoSk",
        "outputId": "0af8b09d-1dc1-4c38-9f40-391e34f2fa56"
      },
      "execution_count": 73,
      "outputs": [
        {
          "output_type": "stream",
          "name": "stdout",
          "text": [
            "tf.Tensor(b'/content/eat_tensorflow2_in_30_days/data/cifar2/train/automobile/2428.jpg', shape=(), dtype=string)\n",
            "tf.Tensor(b'/content/eat_tensorflow2_in_30_days/data/cifar2/train/automobile/209.jpg', shape=(), dtype=string)\n"
          ]
        }
      ]
    },
    {
      "cell_type": "code",
      "source": [
        "def load_image(img_path, size=(32, 32)):\n",
        "  label = 1 if tf.strings.regex_full_match(img_path, '.*automobile.*') else 0\n",
        "  img = tf.io.read_file(img_path)\n",
        "  img = tf.image.decode_jpeg(img) # to jpeg format\n",
        "  img = tf.image.resize(img, size)\n",
        "  return (img, label)"
      ],
      "metadata": {
        "id": "SM8QJsLQQHGa"
      },
      "execution_count": 74,
      "outputs": []
    },
    {
      "cell_type": "code",
      "source": [
        "from matplotlib import pyplot as plt\n",
        "\n",
        "for i, (img, label) in enumerate(ds_6.map(load_image).take(9)):\n",
        "  ax = plt.subplot(3, 3, i + 1)\n",
        "  ax.imshow((img/255.0).numpy())\n",
        "  ax.set_title(\"label = %d\" % label)\n",
        "  ax.set_xticks([])\n",
        "  ax.set_yticks([])"
      ],
      "metadata": {
        "colab": {
          "base_uri": "https://localhost:8080/",
          "height": 428
        },
        "id": "gNrG03pmP0lh",
        "outputId": "a75ee08d-dceb-4a63-c506-12a869102e3d"
      },
      "execution_count": 75,
      "outputs": [
        {
          "output_type": "display_data",
          "data": {
            "text/plain": [
              "<Figure size 640x480 with 9 Axes>"
            ],
            "image/png": "[encoded data removed]"
          },
          "metadata": {}
        }
      ]
    },
    {
      "cell_type": "markdown",
      "source": [
        "## 1.7 Constructing Data Pipeline through tfrecords file"
      ],
      "metadata": {
        "id": "jxvea90jQVpI"
      }
    },
    {
      "cell_type": "code",
      "source": [
        "import os\n",
        "import numpy as np\n",
        "\n",
        "# Inpath is the original data path\n",
        "# Outpath is output path of the TFRecord file\n",
        "def create_tfrecords(inpath,outpath):\n",
        "  writer = tf.io.TFRecordWriter(outpath)\n",
        "  dirs = os.listdir(inpath)\n",
        "  for index, name in enumerate(dirs):\n",
        "      class_path = inpath + '/' + name+ '/'\n",
        "      for img_name in os.listdir(class_path):\n",
        "          img_path = class_path + img_name\n",
        "          img = tf.io.read_file(img_path)\n",
        "          #img = tf.image.decode_image(img)\n",
        "          #img = tf.image.encode_jpeg(img) # Use jpeg format for all the compressions\n",
        "          example = tf.train.Example(\n",
        "             features=tf.train.Features(feature={\n",
        "                  'label': tf.train.Feature(int64_list=tf.train.Int64List(value=[index])),\n",
        "                  'img_raw': tf.train.Feature(bytes_list=tf.train.BytesList(value=[img.numpy()]))\n",
        "             }))\n",
        "          writer.write(example.SerializeToString())\n",
        "  writer.close()\n",
        "\n",
        "create_tfrecords('/content/eat_tensorflow2_in_30_days/data/cifar2/test', '/content/cifar2_test.tfrecords/')"
      ],
      "metadata": {
        "id": "DH7-_43mP0ho"
      },
      "execution_count": 76,
      "outputs": []
    },
    {
      "cell_type": "code",
      "source": [
        "def parse_example(proto):\n",
        "  description = {\n",
        "      'label': tf.io.FixedLenFeature([], tf.int64),\n",
        "      'img_raw': tf.io.FixedLenFeature([], tf.string)\n",
        "  }\n",
        "\n",
        "  example = tf.io.parse_single_example(proto, description)\n",
        "  img = tf.image.decode_jpeg(example['img_raw']) # jpeg format\n",
        "  img = tf.image.resize(img, [32, 32])\n",
        "  label = example['label']\n",
        "\n",
        "  return (img, label)"
      ],
      "metadata": {
        "id": "wHWFV05jP0dp"
      },
      "execution_count": 77,
      "outputs": []
    },
    {
      "cell_type": "code",
      "source": [
        "ds_7 = tf.data.TFRecordDataset('/content/cifar2_test.tfrecords') \\\n",
        "        .map(parse_example) \\\n",
        "        .shuffle(buffer_size=3000)"
      ],
      "metadata": {
        "id": "7Po3bTAfP0aQ"
      },
      "execution_count": 78,
      "outputs": []
    },
    {
      "cell_type": "code",
      "source": [
        "from matplotlib import pyplot as plt\n",
        "\n",
        "plt.figure(figsize=(6, 6))\n",
        "for i,(img,label) in enumerate(ds_7.take(9)):\n",
        "  ax=plt.subplot(3, 3, i + 1)\n",
        "  ax.imshow((img/255.0).numpy())\n",
        "  ax.set_title(\"label = %d\"%label)\n",
        "  ax.set_xticks([])\n",
        "  ax.set_yticks([])\n",
        "plt.show()"
      ],
      "metadata": {
        "colab": {
          "base_uri": "https://localhost:8080/",
          "height": 521
        },
        "id": "Yl_jzCopP0Qc",
        "outputId": "dd4c2e16-c8c0-4e0e-8699-c0b518591d12"
      },
      "execution_count": 79,
      "outputs": [
        {
          "output_type": "display_data",
          "data": {
            "text/plain": [
              "<Figure size 600x600 with 9 Axes>"
            ],
            "image/png": "[encoded data removed]"
          },
          "metadata": {}
        }
      ]
    },
    {
      "cell_type": "markdown",
      "source": [
        "## 2. Applying Data Conversion\n",
        "\n",
        "Dataset is very flexible in the application of data structure. Essentially it is a sequence with elements in various data types, such as tensor, list, dictionary, and Dataset.\n",
        "\n",
        "Dataset contains many functions of data conversion.\n",
        "- `map`: projecting the conversion function to every element in the dataset.\n",
        "- `file_map`: projecting the conversion function to every element in the dataset, and flatten the embedded Dataset.\n",
        "- `interleave`: similar as `flat_map` but the interlaves the data from different sources.\n",
        "- `filter`: filter certain elements.\n",
        "- `zip`: zipping two Datasets with the same length.\n",
        "- `concatenate`: concatenating two Datasets.\n",
        "- `reduce`: executing operation of reducing.\n",
        "- `batch`: constructing bathces and release on batch each time; there will be one more rank comparing to the original data; the inverse operation is `unbatch`.\n",
        "- `padded_batch`: constructing bathces, similar as `batch`, but can achieve padded shape.\n",
        "- `window`: constructing sliding window, and return Dataset of Dataset.\n",
        "- `shuffle`: shuffling the order of the data.\n",
        "- `repeat`: repeat the data certain times; if no argument is specified, repeat data with infinite times.\n",
        "- `shard`: sampling the elements starting from as certain position with fixed distance.\n",
        "- `take`: sampling the first few elements from certain position."
      ],
      "metadata": {
        "id": "ehle0JoshQ_R"
      }
    },
    {
      "cell_type": "code",
      "source": [
        "#  map\n",
        "ds = tf.data.Dataset.from_tensor_slices(['hello lorem', 'world ipsum', 'dolor res'])\n",
        "ds_map = ds.map(lambda x: tf.strings.split(x, ' '))\n",
        "for x in ds_map:\n",
        "  print(x)"
      ],
      "metadata": {
        "colab": {
          "base_uri": "https://localhost:8080/"
        },
        "id": "pt-1HrXci5BW",
        "outputId": "c6807392-fbda-4e52-c1e3-2e45a06772c7"
      },
      "execution_count": 80,
      "outputs": [
        {
          "output_type": "stream",
          "name": "stdout",
          "text": [
            "tf.Tensor([b'hello' b'lorem'], shape=(2,), dtype=string)\n",
            "tf.Tensor([b'world' b'ipsum'], shape=(2,), dtype=string)\n",
            "tf.Tensor([b'dolor' b'res'], shape=(2,), dtype=string)\n"
          ]
        }
      ]
    },
    {
      "cell_type": "code",
      "source": [
        "# flat_map\n",
        "ds = tf.data.Dataset.from_tensor_slices(['hello lorem', 'world ipsum', 'dolor res'])\n",
        "ds_flat_map = ds.flat_map(lambda x: tf.data.Dataset.from_tensor_slices(tf.strings.split(x, ' ')))\n",
        "\n",
        "for x in ds_flat_map:\n",
        "  print(x)"
      ],
      "metadata": {
        "colab": {
          "base_uri": "https://localhost:8080/"
        },
        "id": "au5kyBuGi496",
        "outputId": "4741d1bb-32c9-44ef-a391-3751cc9b75cb"
      },
      "execution_count": 81,
      "outputs": [
        {
          "output_type": "stream",
          "name": "stdout",
          "text": [
            "tf.Tensor(b'hello', shape=(), dtype=string)\n",
            "tf.Tensor(b'lorem', shape=(), dtype=string)\n",
            "tf.Tensor(b'world', shape=(), dtype=string)\n",
            "tf.Tensor(b'ipsum', shape=(), dtype=string)\n",
            "tf.Tensor(b'dolor', shape=(), dtype=string)\n",
            "tf.Tensor(b'res', shape=(), dtype=string)\n"
          ]
        }
      ]
    },
    {
      "cell_type": "code",
      "source": [
        "# interleave\n",
        "ds = tf.data.Dataset.from_tensor_slices(['hello lorem', 'world ipsum', 'dolor res'])\n",
        "ds_interleave = ds.interleave(lambda x: tf.data.Dataset.from_tensor_slices(tf.strings.split(x, ' ')))\n",
        "\n",
        "for x in ds_interleave:\n",
        "  print(x)"
      ],
      "metadata": {
        "colab": {
          "base_uri": "https://localhost:8080/"
        },
        "id": "fJUEplO2i457",
        "outputId": "7ac343e4-f918-48b3-8f78-6111f2a95d77"
      },
      "execution_count": 82,
      "outputs": [
        {
          "output_type": "stream",
          "name": "stdout",
          "text": [
            "tf.Tensor(b'hello', shape=(), dtype=string)\n",
            "tf.Tensor(b'world', shape=(), dtype=string)\n",
            "tf.Tensor(b'lorem', shape=(), dtype=string)\n",
            "tf.Tensor(b'ipsum', shape=(), dtype=string)\n",
            "tf.Tensor(b'dolor', shape=(), dtype=string)\n",
            "tf.Tensor(b'res', shape=(), dtype=string)\n"
          ]
        }
      ]
    },
    {
      "cell_type": "code",
      "source": [
        "# filter\n",
        "ds = tf.data.Dataset.from_tensor_slices(['hello lorem', 'world ipsum', 'dolor res'])\n",
        "ds_filter = ds.filter(lambda x: tf.strings.length(x) > 10)\n",
        "\n",
        "for x in ds_filter:\n",
        "  print(x)"
      ],
      "metadata": {
        "colab": {
          "base_uri": "https://localhost:8080/"
        },
        "id": "bIbkCRHNi41z",
        "outputId": "176e2189-6f27-4179-84ba-a043aeef1054"
      },
      "execution_count": 83,
      "outputs": [
        {
          "output_type": "stream",
          "name": "stdout",
          "text": [
            "tf.Tensor(b'hello lorem', shape=(), dtype=string)\n",
            "tf.Tensor(b'world ipsum', shape=(), dtype=string)\n"
          ]
        }
      ]
    },
    {
      "cell_type": "code",
      "source": [
        "# zip\n",
        "ds1 = tf.data.Dataset.range(0,3)\n",
        "ds2 = tf.data.Dataset.range(3,6)\n",
        "ds3 = tf.data.Dataset.range(6,9)\n",
        "ds_zip = tf.data.Dataset.zip((ds1, ds2, ds3))\n",
        "\n",
        "for x,y,z in ds_zip:\n",
        "    print(x.numpy(),y.numpy(),z.numpy())"
      ],
      "metadata": {
        "colab": {
          "base_uri": "https://localhost:8080/"
        },
        "id": "ssIYC7oai4x_",
        "outputId": "ae27700c-f962-41db-b92a-ecec6145a006"
      },
      "execution_count": 87,
      "outputs": [
        {
          "output_type": "stream",
          "name": "stdout",
          "text": [
            "0 3 6\n",
            "1 4 7\n",
            "2 5 8\n"
          ]
        }
      ]
    },
    {
      "cell_type": "code",
      "source": [
        "# concatenate\n",
        "ds_1 = tf.data.Dataset.range(0, 3)\n",
        "ds_2 = tf.data.Dataset.range(3, 6)\n",
        "ds_concat = tf.data.Dataset.concatenate(ds_1, ds_2)\n",
        "\n",
        "for x in ds_concat:\n",
        "  print(x.numpy())"
      ],
      "metadata": {
        "id": "2ZkS38v_P0L-",
        "colab": {
          "base_uri": "https://localhost:8080/"
        },
        "outputId": "1efab393-db26-478e-c372-fb3e1a9d5ba4"
      },
      "execution_count": 88,
      "outputs": [
        {
          "output_type": "stream",
          "name": "stdout",
          "text": [
            "0\n",
            "1\n",
            "2\n",
            "3\n",
            "4\n",
            "5\n"
          ]
        }
      ]
    },
    {
      "cell_type": "code",
      "source": [
        "# reduce\n",
        "ds = tf.data.Dataset.from_tensor_slices([1, 2, 3, 4, 5.0])\n",
        "ds_reduce = ds.reduce(0.0, lambda state, value: tf.add(state, value))\n",
        "\n",
        "print(ds_reduce)"
      ],
      "metadata": {
        "id": "7mEmcBFSPzz2",
        "colab": {
          "base_uri": "https://localhost:8080/"
        },
        "outputId": "02cfb0c3-eab4-4743-a45d-fa40957e1395"
      },
      "execution_count": 91,
      "outputs": [
        {
          "output_type": "stream",
          "name": "stdout",
          "text": [
            "tf.Tensor(15.0, shape=(), dtype=float32)\n"
          ]
        }
      ]
    },
    {
      "cell_type": "code",
      "source": [
        "# batch\n",
        "ds = tf.data.Dataset.range(8)\n",
        "ds_batch = ds.batch(3)\n",
        "\n",
        "for x in ds_batch:\n",
        "  print(x)"
      ],
      "metadata": {
        "id": "eoniGpw4Pzvf",
        "colab": {
          "base_uri": "https://localhost:8080/"
        },
        "outputId": "47a3e3c7-5ced-4414-9b6b-dd57bfe72d72"
      },
      "execution_count": 93,
      "outputs": [
        {
          "output_type": "stream",
          "name": "stdout",
          "text": [
            "tf.Tensor([0 1 2], shape=(3,), dtype=int64)\n",
            "tf.Tensor([3 4 5], shape=(3,), dtype=int64)\n",
            "tf.Tensor([6 7], shape=(2,), dtype=int64)\n"
          ]
        }
      ]
    },
    {
      "cell_type": "code",
      "source": [
        "# padded_batch\n",
        "elements = [[1, 2], [3, 4, 5], [6, 7], [8]]\n",
        "ds = tf.data.Dataset.from_generator(lambda: iter(elements), tf.int64)\n",
        "ds_padded_batch = ds.padded_batch(2, padded_shapes=(4,))\n",
        "\n",
        "for x in ds_padded_batch:\n",
        "  print(x)"
      ],
      "metadata": {
        "id": "WtEf0saAPzq-",
        "colab": {
          "base_uri": "https://localhost:8080/"
        },
        "outputId": "436472e9-9930-4f9a-a1b8-882183e5663a"
      },
      "execution_count": 96,
      "outputs": [
        {
          "output_type": "stream",
          "name": "stdout",
          "text": [
            "tf.Tensor(\n",
            "[[1 2 0 0]\n",
            " [3 4 5 0]], shape=(2, 4), dtype=int64)\n",
            "tf.Tensor(\n",
            "[[6 7 0 0]\n",
            " [8 0 0 0]], shape=(2, 4), dtype=int64)\n"
          ]
        }
      ]
    },
    {
      "cell_type": "code",
      "source": [
        "# window\n",
        "ds = tf.data.Dataset.range(8)\n",
        "# window returns Dataset of Datase, which could be flattened by flat_map\n",
        "ds_window = ds.window(3, shift=1).flat_map(lambda x: x.batch(3, drop_remainder=True))\n",
        "\n",
        "for x in ds_window:\n",
        "  print(x)"
      ],
      "metadata": {
        "id": "Uq6bSpghPzmg",
        "colab": {
          "base_uri": "https://localhost:8080/"
        },
        "outputId": "f8ae3fa1-7387-4864-af0a-f989fb893a64"
      },
      "execution_count": 99,
      "outputs": [
        {
          "output_type": "stream",
          "name": "stdout",
          "text": [
            "tf.Tensor([0 1 2], shape=(3,), dtype=int64)\n",
            "tf.Tensor([1 2 3], shape=(3,), dtype=int64)\n",
            "tf.Tensor([2 3 4], shape=(3,), dtype=int64)\n",
            "tf.Tensor([3 4 5], shape=(3,), dtype=int64)\n",
            "tf.Tensor([4 5 6], shape=(3,), dtype=int64)\n",
            "tf.Tensor([5 6 7], shape=(3,), dtype=int64)\n"
          ]
        }
      ]
    },
    {
      "cell_type": "code",
      "source": [
        "# shuffle\n",
        "ds = tf.data.Dataset.range(8)\n",
        "ds_shuffle = ds.shuffle(5)\n",
        "\n",
        "for x in ds_shuffle:\n",
        "  print(x)"
      ],
      "metadata": {
        "colab": {
          "base_uri": "https://localhost:8080/"
        },
        "id": "ftvC5t3JlYhf",
        "outputId": "503fca0c-67d5-4541-8013-6c194edaa4ac"
      },
      "execution_count": 102,
      "outputs": [
        {
          "output_type": "stream",
          "name": "stdout",
          "text": [
            "tf.Tensor(0, shape=(), dtype=int64)\n",
            "tf.Tensor(5, shape=(), dtype=int64)\n",
            "tf.Tensor(1, shape=(), dtype=int64)\n",
            "tf.Tensor(4, shape=(), dtype=int64)\n",
            "tf.Tensor(2, shape=(), dtype=int64)\n",
            "tf.Tensor(3, shape=(), dtype=int64)\n",
            "tf.Tensor(6, shape=(), dtype=int64)\n",
            "tf.Tensor(7, shape=(), dtype=int64)\n"
          ]
        }
      ]
    },
    {
      "cell_type": "code",
      "source": [
        "# repeat\n",
        "ds = tf.data.Dataset.range(3)\n",
        "ds_repeat = ds.repeat(count=2)\n",
        "\n",
        "for x in ds_repeat:\n",
        "  print(x)"
      ],
      "metadata": {
        "colab": {
          "base_uri": "https://localhost:8080/"
        },
        "id": "pKDDcuq6lYc1",
        "outputId": "efafd834-1f33-4a48-a3c9-0922eea6268c"
      },
      "execution_count": 103,
      "outputs": [
        {
          "output_type": "stream",
          "name": "stdout",
          "text": [
            "tf.Tensor(0, shape=(), dtype=int64)\n",
            "tf.Tensor(1, shape=(), dtype=int64)\n",
            "tf.Tensor(2, shape=(), dtype=int64)\n",
            "tf.Tensor(0, shape=(), dtype=int64)\n",
            "tf.Tensor(1, shape=(), dtype=int64)\n",
            "tf.Tensor(2, shape=(), dtype=int64)\n"
          ]
        }
      ]
    },
    {
      "cell_type": "code",
      "source": [
        "# shard\n",
        "ds = tf.data.Dataset.range(8)\n",
        "ds_shard = ds.shard(num_shards=2, index=0)\n",
        "\n",
        "for x in ds_shard:\n",
        "  print(x)"
      ],
      "metadata": {
        "colab": {
          "base_uri": "https://localhost:8080/"
        },
        "id": "0YoDO4IzlYYX",
        "outputId": "c7ffc948-c607-4a65-8444-49dc7174fbb5"
      },
      "execution_count": 104,
      "outputs": [
        {
          "output_type": "stream",
          "name": "stdout",
          "text": [
            "tf.Tensor(0, shape=(), dtype=int64)\n",
            "tf.Tensor(2, shape=(), dtype=int64)\n",
            "tf.Tensor(4, shape=(), dtype=int64)\n",
            "tf.Tensor(6, shape=(), dtype=int64)\n"
          ]
        }
      ]
    },
    {
      "cell_type": "code",
      "source": [
        "# take\n",
        "ds = tf.data.Dataset.range(8)\n",
        "ds_take = ds.take(4)\n",
        "\n",
        "for x in ds_take:\n",
        "  print(x)"
      ],
      "metadata": {
        "colab": {
          "base_uri": "https://localhost:8080/"
        },
        "id": "uRsVeo21lYUZ",
        "outputId": "629cc801-5350-4d6d-d638-a4f30ad6b1a7"
      },
      "execution_count": 105,
      "outputs": [
        {
          "output_type": "stream",
          "name": "stdout",
          "text": [
            "tf.Tensor(0, shape=(), dtype=int64)\n",
            "tf.Tensor(1, shape=(), dtype=int64)\n",
            "tf.Tensor(2, shape=(), dtype=int64)\n",
            "tf.Tensor(3, shape=(), dtype=int64)\n"
          ]
        }
      ]
    },
    {
      "cell_type": "markdown",
      "source": [
        "## 3. Enhance the Efficiency of the Pipeline\n",
        "\n",
        "The training of deep learing model could be lengthy.\n",
        "\n",
        "The consumed time is mainly consists of two parts:\n",
        "- data preparation\n",
        "- parameter iteration\n",
        "\n",
        "The efficiency of parameter iteration is usually enhanced by GPU.\n",
        "\n",
        "The efficiency of data preparation could be improved by constructing high-efficiency data pipeline.\n",
        "\n",
        "Here several way to constructing high-efficiency data pipeline:\n",
        "- 1. Paralleling the data preparation and the parameter iteration using method `prefetch`.\n",
        "- 2. Use the method `interleave` to read data with multi-process and interleave the data from different sources.\n",
        "- 3. Set `num_parallel_calls` during using `map`, allowing data conversion with multiple process.\n",
        "- 4. Apply method `cache` to cache data into the memory after the first epoch for the case with a small data volume.\n",
        "- 5. When converting with `map`, batch the data first, and then convert each batch with vectorization"
      ],
      "metadata": {
        "id": "J40TMlIal0JP"
      }
    },
    {
      "cell_type": "markdown",
      "source": [
        "### 3.1 Paralleling the data preparation and the parameter iteration using method `prefetch`."
      ],
      "metadata": {
        "id": "KDlynF9Lnqvu"
      }
    },
    {
      "cell_type": "code",
      "source": [
        "import tensorflow as tf\n",
        "\n",
        "# Time stamp\n",
        "@tf.function\n",
        "def printbar():\n",
        "  ts = tf.timestamp()\n",
        "  today_ts = ts%(24*60*60)\n",
        "\n",
        "  hour = tf.cast(today_ts//3600+8,tf.int32)%tf.constant(24)\n",
        "  minute = tf.cast((today_ts%3600)//60,tf.int32)\n",
        "  second = tf.cast(tf.floor(today_ts%60),tf.int32)\n",
        "\n",
        "  def timeformat(m):\n",
        "    if tf.strings.length(tf.strings.format(\"{}\", m)) == 1:\n",
        "      return(tf.strings.format(\"0{}\", m))\n",
        "    else:\n",
        "      return(tf.strings.format(\"{}\", m))\n",
        "\n",
        "  timestring = tf.strings.join([timeformat(hour), timeformat(minute),\n",
        "                                timeformat(second)], separator = \":\")\n",
        "\n",
        "  tf.print(\"==========\"*8,end = \"\")\n",
        "  tf.print(timestring)"
      ],
      "metadata": {
        "id": "7a_T1wWulYPv"
      },
      "execution_count": 106,
      "outputs": []
    },
    {
      "cell_type": "code",
      "source": [
        "import time\n",
        "\n",
        "# Data preparation adn parameter is serial as default\n",
        "\n",
        "# Simulation of data preparation\n",
        "def generator():\n",
        "  for i in range(10):\n",
        "    time.sleep(2) # need 2 seconds for each preparation\n",
        "    yield i"
      ],
      "metadata": {
        "id": "Du509nlclYMK"
      },
      "execution_count": 107,
      "outputs": []
    },
    {
      "cell_type": "code",
      "source": [
        "ds = tf.data.Dataset.from_generator(generator, output_types=tf.float32)"
      ],
      "metadata": {
        "id": "ciSZraldlYIQ"
      },
      "execution_count": 109,
      "outputs": []
    },
    {
      "cell_type": "code",
      "source": [
        "# Simulation of parameter iteration\n",
        "def train_step():\n",
        "  time.sleep(1) # need 1 second for each parameter iteration"
      ],
      "metadata": {
        "id": "o3ensW_NMoN-"
      },
      "execution_count": 112,
      "outputs": []
    },
    {
      "cell_type": "code",
      "source": [
        "# Estimated time for training: 10*2+10*1 = 30s\n",
        "printbar()\n",
        "tf.print(tf.constant('start training'))\n",
        "\n",
        "for x in ds:\n",
        "  train_step()\n",
        "printbar()\n",
        "tf.print(tf.constant('end training'))"
      ],
      "metadata": {
        "colab": {
          "base_uri": "https://localhost:8080/"
        },
        "id": "8L6gfO2ropSV",
        "outputId": "836ca9e2-bc3f-4082-dd06-049591658e05"
      },
      "execution_count": 113,
      "outputs": [
        {
          "output_type": "stream",
          "name": "stdout",
          "text": [
            "================================================================================11:30:05\n",
            "start training\n",
            "================================================================================11:30:26\n",
            "end training\n"
          ]
        }
      ]
    },
    {
      "cell_type": "code",
      "source": [
        "# Use method prefetch to parallel the processes of data preparation and parameter iteration\n",
        "\n",
        "# Estimated time of training: max(10*2, 10*1) = 20s\n",
        "printbar()\n",
        "tf.print(tf.constant('start training with prefetch'))\n",
        "\n",
        "# tf.data.experimental.AUTOTUNE allows auto-selection of parameters\n",
        "for x in ds.prefetch(buffer_size=tf.data.experimental.AUTOTUNE):\n",
        "  train_step()\n",
        "\n",
        "printbar()\n",
        "tf.print(tf.constant('end training with prefetch'))"
      ],
      "metadata": {
        "colab": {
          "base_uri": "https://localhost:8080/"
        },
        "id": "OWGdv9KtopN7",
        "outputId": "65d67640-356b-4c61-f195-6d67c1c0d21e"
      },
      "execution_count": 114,
      "outputs": [
        {
          "output_type": "stream",
          "name": "stdout",
          "text": [
            "================================================================================11:32:32\n",
            "start training with prefetch\n",
            "================================================================================11:32:53\n",
            "end training with prefetch\n"
          ]
        }
      ]
    },
    {
      "cell_type": "markdown",
      "source": [
        "### 3.2 Use the method `interleave` to read data with multi-process and interleave the data from different sources."
      ],
      "metadata": {
        "id": "lr1lf9Ospe83"
      }
    },
    {
      "cell_type": "code",
      "source": [
        "ds_files = tf.data.Dataset.list_files('/content/eat_tensorflow2_in_30_days/data/titanic/*.csv')\n",
        "ds = ds_files.flat_map(lambda x: tf.data.TextLineDataset(x).skip(1))\n",
        "\n",
        "for line in ds.take(5):\n",
        "  print(line)"
      ],
      "metadata": {
        "colab": {
          "base_uri": "https://localhost:8080/"
        },
        "id": "RCsbw65WopJO",
        "outputId": "f97e1137-939f-4509-918c-776c1704a184"
      },
      "execution_count": 115,
      "outputs": [
        {
          "output_type": "stream",
          "name": "stdout",
          "text": [
            "tf.Tensor(b'181,0,3,\"Sage, Miss. Constance Gladys\",female,,8,2,CA. 2343,69.55,,S', shape=(), dtype=string)\n",
            "tf.Tensor(b'405,0,3,\"Oreskovic, Miss. Marija\",female,20.0,0,0,315096,8.6625,,S', shape=(), dtype=string)\n",
            "tf.Tensor(b'635,0,3,\"Skoog, Miss. Mabel\",female,9.0,3,2,347088,27.9,,S', shape=(), dtype=string)\n",
            "tf.Tensor(b'701,1,1,\"Astor, Mrs. John Jacob (Madeleine Talmadge Force)\",female,18.0,1,0,PC 17757,227.525,C62 C64,C', shape=(), dtype=string)\n",
            "tf.Tensor(b'470,1,3,\"Baclini, Miss. Helene Barbara\",female,0.75,2,1,2666,19.2583,,C', shape=(), dtype=string)\n"
          ]
        }
      ]
    },
    {
      "cell_type": "code",
      "source": [
        "ds_files = tf.data.Dataset.list_files('/content/eat_tensorflow2_in_30_days/data/titanic/*.csv')\n",
        "ds = ds_files.interleave(lambda x: tf.data.TextLineDataset(x).skip(1))\n",
        "\n",
        "for line in ds.take(5):\n",
        "  print(line)"
      ],
      "metadata": {
        "colab": {
          "base_uri": "https://localhost:8080/"
        },
        "id": "N5Y7AHY7opET",
        "outputId": "bd4f4537-6ad3-4b93-fb6e-d41432f8275e"
      },
      "execution_count": 116,
      "outputs": [
        {
          "output_type": "stream",
          "name": "stdout",
          "text": [
            "tf.Tensor(b'181,0,3,\"Sage, Miss. Constance Gladys\",female,,8,2,CA. 2343,69.55,,S', shape=(), dtype=string)\n",
            "tf.Tensor(b'493,0,1,\"Molson, Mr. Harry Markland\",male,55.0,0,0,113787,30.5,C30,S', shape=(), dtype=string)\n",
            "tf.Tensor(b'405,0,3,\"Oreskovic, Miss. Marija\",female,20.0,0,0,315096,8.6625,,S', shape=(), dtype=string)\n",
            "tf.Tensor(b'53,1,1,\"Harper, Mrs. Henry Sleeper (Myna Haxtun)\",female,49.0,1,0,PC 17572,76.7292,D33,C', shape=(), dtype=string)\n",
            "tf.Tensor(b'635,0,3,\"Skoog, Miss. Mabel\",female,9.0,3,2,347088,27.9,,S', shape=(), dtype=string)\n"
          ]
        }
      ]
    },
    {
      "cell_type": "markdown",
      "source": [
        "### 3.3 Set `num_parallel_calls` during using `map`, allosing data conversion with multiple process"
      ],
      "metadata": {
        "id": "2wf9mzW9qXNj"
      }
    },
    {
      "cell_type": "code",
      "source": [
        "ds = tf.data.Dataset.list_files('/content/eat_tensorflow2_in_30_days/data/cifar2/train/*/*.jpg')"
      ],
      "metadata": {
        "id": "zlKyg3vfoo_G"
      },
      "execution_count": 118,
      "outputs": []
    },
    {
      "cell_type": "code",
      "source": [
        "def load_image(img_path, size=(32, 32)):\n",
        "  label = 1 if tf.strings.regex_full_match(img_path, '.*automobile.*') else 0\n",
        "  img = tf.io.read_file(img_path)\n",
        "  img = tf.image.decode_jpeg(img) # to jpeg format\n",
        "  img = tf.image.resize(img, size)\n",
        "  return (img, label)"
      ],
      "metadata": {
        "id": "6Dyy1ZHPoo7K"
      },
      "execution_count": 119,
      "outputs": []
    },
    {
      "cell_type": "code",
      "source": [
        "# Conversion with single process\n",
        "printbar()\n",
        "tf.print(tf.constant('start transformation'))\n",
        "\n",
        "ds_map = ds.map(load_image)\n",
        "\n",
        "for _ in ds_map:\n",
        "  pass\n",
        "\n",
        "printbar()\n",
        "tf.print(tf.constant('end transformation'))"
      ],
      "metadata": {
        "colab": {
          "base_uri": "https://localhost:8080/"
        },
        "id": "SCCwMEoWoo14",
        "outputId": "715f41ed-d118-4552-dcb9-a51f92477e71"
      },
      "execution_count": 120,
      "outputs": [
        {
          "output_type": "stream",
          "name": "stdout",
          "text": [
            "================================================================================11:57:18\n",
            "start transformation\n",
            "================================================================================11:57:27\n",
            "end transformation\n"
          ]
        }
      ]
    },
    {
      "cell_type": "code",
      "source": [
        "# Conversion with multi-process\n",
        "printbar()\n",
        "tf.print(tf.constant('start transformation with multi-process'))\n",
        "\n",
        "ds_map = ds.map(load_image, num_parallel_calls=tf.data.experimental.AUTOTUNE)\n",
        "\n",
        "for _ in ds_map:\n",
        "  pass\n",
        "\n",
        "printbar()\n",
        "tf.print(tf.constant('end transformation with multi-process'))"
      ],
      "metadata": {
        "colab": {
          "base_uri": "https://localhost:8080/"
        },
        "id": "beJvVnPTvJvI",
        "outputId": "4ace7b42-e0a9-46b9-d6f2-a8bd1f9756e0"
      },
      "execution_count": 121,
      "outputs": [
        {
          "output_type": "stream",
          "name": "stdout",
          "text": [
            "================================================================================11:57:50\n",
            "start transformation with multi-process\n",
            "================================================================================11:57:57\n",
            "end transformation with multi-process\n"
          ]
        }
      ]
    },
    {
      "cell_type": "markdown",
      "source": [
        "### 3.4 Apply method `cache` to cache data into the memory after the first epoch for the case with a small data volume."
      ],
      "metadata": {
        "id": "zvSObZdrvRIJ"
      }
    },
    {
      "cell_type": "code",
      "source": [
        "import time\n",
        "\n",
        "# Simulation of data preparation\n",
        "def generator():\n",
        "  for i in range(5):\n",
        "    time.sleep(2) # need 2 seconds for each preparation\n",
        "    yield i"
      ],
      "metadata": {
        "id": "mAVkaWqtvJpm"
      },
      "execution_count": 122,
      "outputs": []
    },
    {
      "cell_type": "code",
      "source": [
        "ds = tf.data.Dataset.from_generator(generator, output_types=tf.float32)"
      ],
      "metadata": {
        "id": "mqPwYen2vJly"
      },
      "execution_count": 123,
      "outputs": []
    },
    {
      "cell_type": "code",
      "source": [
        "# Simulation of parameter iteration\n",
        "def train_step():\n",
        "  time.sleep(1) # need 1 second for each parameter iteration"
      ],
      "metadata": {
        "id": "BRyKV3pLvJgy"
      },
      "execution_count": 124,
      "outputs": []
    },
    {
      "cell_type": "code",
      "source": [
        "# Estimated time for training: (5*2+5*0)*3 = 30s\n",
        "printbar()\n",
        "tf.print(tf.constant('start training'))\n",
        "\n",
        "for epoch in tf.range(3):\n",
        "  for x in ds:\n",
        "    train_step()\n",
        "\n",
        "  printbar()\n",
        "  tf.print(tf.constant('epoch:'), epoch)\n",
        "\n",
        "printbar()\n",
        "tf.print(tf.constant('end training'))"
      ],
      "metadata": {
        "colab": {
          "base_uri": "https://localhost:8080/"
        },
        "id": "hxRGNkvMoowI",
        "outputId": "f159304e-022d-47d3-ac9d-13fc26b8759b"
      },
      "execution_count": 125,
      "outputs": [
        {
          "output_type": "stream",
          "name": "stdout",
          "text": [
            "================================================================================12:00:35\n",
            "start training\n",
            "================================================================================12:00:46\n",
            "\"epoch:\" 0\n",
            "================================================================================12:00:57\n",
            "\"epoch:\" 1\n",
            "================================================================================12:01:08\n",
            "\"epoch:\" 2\n",
            "================================================================================12:01:08\n",
            "end training\n"
          ]
        }
      ]
    },
    {
      "cell_type": "code",
      "source": [
        "ds.cache()"
      ],
      "metadata": {
        "id": "SmwXYLYxMoJM"
      },
      "execution_count": 79,
      "outputs": []
    },
    {
      "cell_type": "code",
      "source": [
        "# Estimated time for training: (5*2+5*0)+(5*0+5*0)*2 = 10s\n",
        "printbar()\n",
        "tf.print(tf.constant('start training with cache'))\n",
        "\n",
        "for epoch in tf.range(3):\n",
        "  for x in ds:\n",
        "    train_step()\n",
        "\n",
        "  printbar()\n",
        "  tf.print(tf.constant('epoch:'), epoch)\n",
        "\n",
        "printbar()\n",
        "tf.print(tf.constant('end training with cache'))"
      ],
      "metadata": {
        "colab": {
          "base_uri": "https://localhost:8080/"
        },
        "id": "RnBlkWHcwA6F",
        "outputId": "1c12e59f-933e-49a5-f3df-e0c15f698d93"
      },
      "execution_count": 126,
      "outputs": [
        {
          "output_type": "stream",
          "name": "stdout",
          "text": [
            "================================================================================12:01:32\n",
            "start training with cache\n",
            "================================================================================12:01:43\n",
            "\"epoch:\" 0\n",
            "================================================================================12:01:54\n",
            "\"epoch:\" 1\n",
            "================================================================================12:02:05\n",
            "\"epoch:\" 2\n",
            "================================================================================12:02:05\n",
            "end training with cache\n"
          ]
        }
      ]
    },
    {
      "cell_type": "markdown",
      "source": [
        "### 3.5 When converting with `map`, batch the data first, and then convert each batch with vectorization."
      ],
      "metadata": {
        "id": "xEdFeby0wIKP"
      }
    },
    {
      "cell_type": "code",
      "source": [
        "# map first, then batch\n",
        "ds = tf.data.Dataset.range(100000)\n",
        "ds_map_batch = ds.map(lambda x:x**2).batch(20)"
      ],
      "metadata": {
        "id": "HpDQNZS1wA1I"
      },
      "execution_count": 127,
      "outputs": []
    },
    {
      "cell_type": "code",
      "source": [
        "printbar()\n",
        "tf.print(tf.constant('start scalar transformation'))\n",
        "\n",
        "for _ in ds_map_batch:\n",
        "  pass\n",
        "\n",
        "printbar()\n",
        "tf.print(tf.constant('end scalar transformation'))"
      ],
      "metadata": {
        "colab": {
          "base_uri": "https://localhost:8080/"
        },
        "id": "UBWfjinKwAwd",
        "outputId": "06f8c3d6-e826-4618-b095-6ca94cd03963"
      },
      "execution_count": 128,
      "outputs": [
        {
          "output_type": "stream",
          "name": "stdout",
          "text": [
            "================================================================================12:05:11\n",
            "start scalar transformation\n",
            "================================================================================12:05:13\n",
            "end scalar transformation\n"
          ]
        }
      ]
    },
    {
      "cell_type": "code",
      "source": [
        "# batch first, then map\n",
        "ds = tf.data.Dataset.range(100000)\n",
        "ds_batch_map = ds.batch(20).map(lambda x:x**2)"
      ],
      "metadata": {
        "id": "eUK3pK2GwAsP"
      },
      "execution_count": 129,
      "outputs": []
    },
    {
      "cell_type": "code",
      "source": [
        "printbar()\n",
        "tf.print(tf.constant('start scalar transformation'))\n",
        "\n",
        "for _ in ds_batch_map:\n",
        "  pass\n",
        "\n",
        "printbar()\n",
        "tf.print(tf.constant('end scalar transformation'))"
      ],
      "metadata": {
        "colab": {
          "base_uri": "https://localhost:8080/"
        },
        "id": "8PoGgw_xwAoB",
        "outputId": "cb46c424-3465-4c77-a840-4dd0ae2f09ca"
      },
      "execution_count": 130,
      "outputs": [
        {
          "output_type": "stream",
          "name": "stdout",
          "text": [
            "================================================================================12:05:36\n",
            "start scalar transformation\n",
            "================================================================================12:05:37\n",
            "end scalar transformation\n"
          ]
        }
      ]
    },
    {
      "cell_type": "code",
      "source": [],
      "metadata": {
        "id": "dEzeggqCwAjD"
      },
      "execution_count": null,
      "outputs": []
    },
    {
      "cell_type": "code",
      "execution_count": 79,
      "metadata": {
        "id": "3FjUa3yGKkFQ"
      },
      "outputs": [],
      "source": []
    }
  ]
}