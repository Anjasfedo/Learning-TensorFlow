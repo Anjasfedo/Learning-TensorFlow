{
  "nbformat": 4,
  "nbformat_minor": 0,
  "metadata": {
    "colab": {
      "provenance": [],
      "authorship_tag": "ABX9TyNQiYZqxYssACDqTmLBfCSW",
      "include_colab_link": true
    },
    "kernelspec": {
      "name": "python3",
      "display_name": "Python 3"
    },
    "language_info": {
      "name": "python"
    }
  },
  "cells": [
    {
      "cell_type": "markdown",
      "metadata": {
        "id": "view-in-github",
        "colab_type": "text"
      },
      "source": [
        "<a href=\"https://colab.research.google.com/github/Anjasfedo/Learning-TensorFlow/blob/main/eat_tensorflow2_in_30_days/Chapter6_2.ipynb\" target=\"_parent\"><img src=\"https://colab.research.google.com/assets/colab-badge.svg\" alt=\"Open In Colab\"/></a>"
      ]
    },
    {
      "cell_type": "markdown",
      "source": [
        "# 6-2 Three Ways of Training"
      ],
      "metadata": {
        "id": "t4Pp0ONbD2GZ"
      }
    },
    {
      "cell_type": "markdown",
      "source": [
        "There are three ways of model training:\n",
        "- Using pre-defined `fit` method.\n",
        "- Using pre-defined `train_on_batch` method.\n",
        "- Using customized training loop.\n",
        "\n",
        "Note: `fit_generator` method is not recommended in `tf.keras` since it has been merge into `fit`"
      ],
      "metadata": {
        "id": "YISidF35D4bo"
      }
    },
    {
      "cell_type": "code",
      "source": [
        "import numpy as np\n",
        "import pandas as pd\n",
        "import tensorflow as tf\n",
        "from tensorflow.keras import *"
      ],
      "metadata": {
        "id": "zmj5oc7FENU4"
      },
      "execution_count": 24,
      "outputs": []
    },
    {
      "cell_type": "code",
      "source": [
        "# Time stamps\n",
        "@tf.function\n",
        "def printbar():\n",
        "    ts = tf.timestamp()\n",
        "    today_ts = ts%(24*60*60)\n",
        "\n",
        "    hour = tf.cast(today_ts//3600+8, tf.int32)%tf.constant(24)\n",
        "    minute = tf.cast((today_ts%3600)//60, tf.int32)\n",
        "    second = tf.cast(tf.floor(today_ts%60), tf.int32)\n",
        "\n",
        "    def timeformat(m):\n",
        "      if tf.strings.length(tf.strings.format(\"{}\", m))==1:\n",
        "        return(tf.strings.format(\"0{}\", m))\n",
        "      else:\n",
        "        return(tf.strings.format(\"{}\", m))\n",
        "\n",
        "    timestrings = tf.strings.join([timeformat(hour), timeformat(minute), timeformat(second)], separator = \":\")\n",
        "    tf.print(\"==========\"*8, end = \"\")\n",
        "    tf.print(timestrings)"
      ],
      "metadata": {
        "id": "vkSP02oPENQ3"
      },
      "execution_count": 25,
      "outputs": []
    },
    {
      "cell_type": "code",
      "source": [
        "MAX_LEN = 300\n",
        "BATCH_SIZE = 32\n",
        "\n",
        "(x_train, y_train), (x_test, y_test) = datasets.reuters.load_data()\n",
        "x_train = preprocessing.sequence.pad_sequences(x_train, maxlen = MAX_LEN)\n",
        "x_test = preprocessing.sequence.pad_sequences(x_test, maxlen = MAX_LEN)\n",
        "\n",
        "MAX_WORDS = x_train.max()+1\n",
        "CAT_NUM = y_train.max()+1"
      ],
      "metadata": {
        "id": "rBQwi1qUE9IV"
      },
      "execution_count": 26,
      "outputs": []
    },
    {
      "cell_type": "code",
      "source": [
        "ds_train = tf.data.Dataset.from_tensor_slices((x_train, y_train)) \\\n",
        "          .shuffle(buffer_size = 1000).batch(BATCH_SIZE) \\\n",
        "          .prefetch(tf.data.experimental.AUTOTUNE).cache()\n",
        "\n",
        "ds_test = tf.data.Dataset.from_tensor_slices((x_test, y_test)) \\\n",
        "          .shuffle(buffer_size = 1000).batch(BATCH_SIZE) \\\n",
        "          .prefetch(tf.data.experimental.AUTOTUNE).cache()"
      ],
      "metadata": {
        "id": "VauBfykuENM4"
      },
      "execution_count": 27,
      "outputs": []
    },
    {
      "cell_type": "markdown",
      "source": [
        "## 1. Pre-defined `fit` Method\n",
        "\n",
        "This is a powerful method, which supports training the data with types of numpy array, `tf.data.Dataset`, and Python generator.\n",
        "\n",
        "This method also supports complicated logical controlling through proper configuration of the callbacks."
      ],
      "metadata": {
        "id": "w1WWUXr9FTnM"
      }
    },
    {
      "cell_type": "code",
      "source": [
        "tf.keras.backend.clear_session()\n",
        "\n",
        "def create_model():\n",
        "  model = models.Sequential()\n",
        "  model.add(layers.Embedding(MAX_WORDS, 7, input_length=MAX_LEN))\n",
        "  model.add(layers.Conv1D(filters=64, kernel_size=5, activation=\"relu\"))\n",
        "  model.add(layers.MaxPool1D(2))\n",
        "  model.add(layers.Conv1D(filters=32, kernel_size=3, activation=\"relu\"))\n",
        "  model.add(layers.MaxPool1D(2))\n",
        "  model.add(layers.Flatten())\n",
        "  model.add(layers.Dense(CAT_NUM, activation=\"softmax\"))\n",
        "  return (model)\n",
        "\n",
        "def compile_model(model):\n",
        "  model.compile(optimizer=optimizers.Nadam(),\n",
        "                loss=losses.SparseCategoricalCrossentropy(),\n",
        "                metrics=[metrics.SparseCategoricalAccuracy(), metrics.SparseTopKCategoricalAccuracy(5)])\n",
        "  return (model)\n",
        "\n",
        "model = create_model()\n",
        "model.summary()\n",
        "model = compile_model(model)"
      ],
      "metadata": {
        "colab": {
          "base_uri": "https://localhost:8080/",
          "height": 409
        },
        "id": "0-4Jhy-BENJC",
        "outputId": "0fb4b23d-263a-4930-c01e-cdd8bd02778b"
      },
      "execution_count": 28,
      "outputs": [
        {
          "output_type": "stream",
          "name": "stderr",
          "text": [
            "/usr/local/lib/python3.10/dist-packages/keras/src/layers/core/embedding.py:90: UserWarning: Argument `input_length` is deprecated. Just remove it.\n",
            "  warnings.warn(\n"
          ]
        },
        {
          "output_type": "display_data",
          "data": {
            "text/plain": [
              "\u001b[1mModel: \"sequential\"\u001b[0m\n"
            ],
            "text/html": [
              "<pre style=\"white-space:pre;overflow-x:auto;line-height:normal;font-family:Menlo,'DejaVu Sans Mono',consolas,'Courier New',monospace\"><span style=\"font-weight: bold\">Model: \"sequential\"</span>\n",
              "</pre>\n"
            ]
          },
          "metadata": {}
        },
        {
          "output_type": "display_data",
          "data": {
            "text/plain": [
              "┏━━━━━━━━━━━━━━━━━━━━━━━━━━━━━━━━━━━━━━┳━━━━━━━━━━━━━━━━━━━━━━━━━━━━━┳━━━━━━━━━━━━━━━━━┓\n",
              "┃\u001b[1m \u001b[0m\u001b[1mLayer (type)                        \u001b[0m\u001b[1m \u001b[0m┃\u001b[1m \u001b[0m\u001b[1mOutput Shape               \u001b[0m\u001b[1m \u001b[0m┃\u001b[1m \u001b[0m\u001b[1m        Param #\u001b[0m\u001b[1m \u001b[0m┃\n",
              "┡━━━━━━━━━━━━━━━━━━━━━━━━━━━━━━━━━━━━━━╇━━━━━━━━━━━━━━━━━━━━━━━━━━━━━╇━━━━━━━━━━━━━━━━━┩\n",
              "│ embedding (\u001b[38;5;33mEmbedding\u001b[0m)                │ ?                           │     \u001b[38;5;34m0\u001b[0m (unbuilt) │\n",
              "├──────────────────────────────────────┼─────────────────────────────┼─────────────────┤\n",
              "│ conv1d (\u001b[38;5;33mConv1D\u001b[0m)                      │ ?                           │     \u001b[38;5;34m0\u001b[0m (unbuilt) │\n",
              "├──────────────────────────────────────┼─────────────────────────────┼─────────────────┤\n",
              "│ max_pooling1d (\u001b[38;5;33mMaxPooling1D\u001b[0m)         │ ?                           │     \u001b[38;5;34m0\u001b[0m (unbuilt) │\n",
              "├──────────────────────────────────────┼─────────────────────────────┼─────────────────┤\n",
              "│ conv1d_1 (\u001b[38;5;33mConv1D\u001b[0m)                    │ ?                           │     \u001b[38;5;34m0\u001b[0m (unbuilt) │\n",
              "├──────────────────────────────────────┼─────────────────────────────┼─────────────────┤\n",
              "│ max_pooling1d_1 (\u001b[38;5;33mMaxPooling1D\u001b[0m)       │ ?                           │     \u001b[38;5;34m0\u001b[0m (unbuilt) │\n",
              "├──────────────────────────────────────┼─────────────────────────────┼─────────────────┤\n",
              "│ flatten (\u001b[38;5;33mFlatten\u001b[0m)                    │ ?                           │     \u001b[38;5;34m0\u001b[0m (unbuilt) │\n",
              "├──────────────────────────────────────┼─────────────────────────────┼─────────────────┤\n",
              "│ dense (\u001b[38;5;33mDense\u001b[0m)                        │ ?                           │     \u001b[38;5;34m0\u001b[0m (unbuilt) │\n",
              "└──────────────────────────────────────┴─────────────────────────────┴─────────────────┘\n"
            ],
            "text/html": [
              "<pre style=\"white-space:pre;overflow-x:auto;line-height:normal;font-family:Menlo,'DejaVu Sans Mono',consolas,'Courier New',monospace\">┏━━━━━━━━━━━━━━━━━━━━━━━━━━━━━━━━━━━━━━┳━━━━━━━━━━━━━━━━━━━━━━━━━━━━━┳━━━━━━━━━━━━━━━━━┓\n",
              "┃<span style=\"font-weight: bold\"> Layer (type)                         </span>┃<span style=\"font-weight: bold\"> Output Shape                </span>┃<span style=\"font-weight: bold\">         Param # </span>┃\n",
              "┡━━━━━━━━━━━━━━━━━━━━━━━━━━━━━━━━━━━━━━╇━━━━━━━━━━━━━━━━━━━━━━━━━━━━━╇━━━━━━━━━━━━━━━━━┩\n",
              "│ embedding (<span style=\"color: #0087ff; text-decoration-color: #0087ff\">Embedding</span>)                │ ?                           │     <span style=\"color: #00af00; text-decoration-color: #00af00\">0</span> (unbuilt) │\n",
              "├──────────────────────────────────────┼─────────────────────────────┼─────────────────┤\n",
              "│ conv1d (<span style=\"color: #0087ff; text-decoration-color: #0087ff\">Conv1D</span>)                      │ ?                           │     <span style=\"color: #00af00; text-decoration-color: #00af00\">0</span> (unbuilt) │\n",
              "├──────────────────────────────────────┼─────────────────────────────┼─────────────────┤\n",
              "│ max_pooling1d (<span style=\"color: #0087ff; text-decoration-color: #0087ff\">MaxPooling1D</span>)         │ ?                           │     <span style=\"color: #00af00; text-decoration-color: #00af00\">0</span> (unbuilt) │\n",
              "├──────────────────────────────────────┼─────────────────────────────┼─────────────────┤\n",
              "│ conv1d_1 (<span style=\"color: #0087ff; text-decoration-color: #0087ff\">Conv1D</span>)                    │ ?                           │     <span style=\"color: #00af00; text-decoration-color: #00af00\">0</span> (unbuilt) │\n",
              "├──────────────────────────────────────┼─────────────────────────────┼─────────────────┤\n",
              "│ max_pooling1d_1 (<span style=\"color: #0087ff; text-decoration-color: #0087ff\">MaxPooling1D</span>)       │ ?                           │     <span style=\"color: #00af00; text-decoration-color: #00af00\">0</span> (unbuilt) │\n",
              "├──────────────────────────────────────┼─────────────────────────────┼─────────────────┤\n",
              "│ flatten (<span style=\"color: #0087ff; text-decoration-color: #0087ff\">Flatten</span>)                    │ ?                           │     <span style=\"color: #00af00; text-decoration-color: #00af00\">0</span> (unbuilt) │\n",
              "├──────────────────────────────────────┼─────────────────────────────┼─────────────────┤\n",
              "│ dense (<span style=\"color: #0087ff; text-decoration-color: #0087ff\">Dense</span>)                        │ ?                           │     <span style=\"color: #00af00; text-decoration-color: #00af00\">0</span> (unbuilt) │\n",
              "└──────────────────────────────────────┴─────────────────────────────┴─────────────────┘\n",
              "</pre>\n"
            ]
          },
          "metadata": {}
        },
        {
          "output_type": "display_data",
          "data": {
            "text/plain": [
              "\u001b[1m Total params: \u001b[0m\u001b[38;5;34m0\u001b[0m (0.00 B)\n"
            ],
            "text/html": [
              "<pre style=\"white-space:pre;overflow-x:auto;line-height:normal;font-family:Menlo,'DejaVu Sans Mono',consolas,'Courier New',monospace\"><span style=\"font-weight: bold\"> Total params: </span><span style=\"color: #00af00; text-decoration-color: #00af00\">0</span> (0.00 B)\n",
              "</pre>\n"
            ]
          },
          "metadata": {}
        },
        {
          "output_type": "display_data",
          "data": {
            "text/plain": [
              "\u001b[1m Trainable params: \u001b[0m\u001b[38;5;34m0\u001b[0m (0.00 B)\n"
            ],
            "text/html": [
              "<pre style=\"white-space:pre;overflow-x:auto;line-height:normal;font-family:Menlo,'DejaVu Sans Mono',consolas,'Courier New',monospace\"><span style=\"font-weight: bold\"> Trainable params: </span><span style=\"color: #00af00; text-decoration-color: #00af00\">0</span> (0.00 B)\n",
              "</pre>\n"
            ]
          },
          "metadata": {}
        },
        {
          "output_type": "display_data",
          "data": {
            "text/plain": [
              "\u001b[1m Non-trainable params: \u001b[0m\u001b[38;5;34m0\u001b[0m (0.00 B)\n"
            ],
            "text/html": [
              "<pre style=\"white-space:pre;overflow-x:auto;line-height:normal;font-family:Menlo,'DejaVu Sans Mono',consolas,'Courier New',monospace\"><span style=\"font-weight: bold\"> Non-trainable params: </span><span style=\"color: #00af00; text-decoration-color: #00af00\">0</span> (0.00 B)\n",
              "</pre>\n"
            ]
          },
          "metadata": {}
        }
      ]
    },
    {
      "cell_type": "code",
      "source": [
        "history = model.fit(ds_train, validation_data=ds_test, epochs=10)"
      ],
      "metadata": {
        "colab": {
          "base_uri": "https://localhost:8080/"
        },
        "id": "TY25MxmDENEX",
        "outputId": "21fe1e56-3d77-46a7-8477-f66dca0d049f"
      },
      "execution_count": 29,
      "outputs": [
        {
          "output_type": "stream",
          "name": "stdout",
          "text": [
            "Epoch 1/10\n",
            "\u001b[1m281/281\u001b[0m \u001b[32m━━━━━━━━━━━━━━━━━━━━\u001b[0m\u001b[37m\u001b[0m \u001b[1m12s\u001b[0m 32ms/step - loss: 2.3685 - sparse_categorical_accuracy: 0.3906 - sparse_top_k_categorical_accuracy: 0.7145 - val_loss: 1.6198 - val_sparse_categorical_accuracy: 0.5984 - val_sparse_top_k_categorical_accuracy: 0.7671\n",
            "Epoch 2/10\n",
            "\u001b[1m281/281\u001b[0m \u001b[32m━━━━━━━━━━━━━━━━━━━━\u001b[0m\u001b[37m\u001b[0m \u001b[1m8s\u001b[0m 30ms/step - loss: 1.5073 - sparse_categorical_accuracy: 0.6239 - sparse_top_k_categorical_accuracy: 0.7944 - val_loss: 1.4682 - val_sparse_categorical_accuracy: 0.6318 - val_sparse_top_k_categorical_accuracy: 0.8037\n",
            "Epoch 3/10\n",
            "\u001b[1m281/281\u001b[0m \u001b[32m━━━━━━━━━━━━━━━━━━━━\u001b[0m\u001b[37m\u001b[0m \u001b[1m9s\u001b[0m 26ms/step - loss: 1.1772 - sparse_categorical_accuracy: 0.6908 - sparse_top_k_categorical_accuracy: 0.8567 - val_loss: 1.5228 - val_sparse_categorical_accuracy: 0.6451 - val_sparse_top_k_categorical_accuracy: 0.8192\n",
            "Epoch 4/10\n",
            "\u001b[1m281/281\u001b[0m \u001b[32m━━━━━━━━━━━━━━━━━━━━\u001b[0m\u001b[37m\u001b[0m \u001b[1m10s\u001b[0m 26ms/step - loss: 0.8853 - sparse_categorical_accuracy: 0.7671 - sparse_top_k_categorical_accuracy: 0.9151 - val_loss: 1.7692 - val_sparse_categorical_accuracy: 0.6438 - val_sparse_top_k_categorical_accuracy: 0.8117\n",
            "Epoch 5/10\n",
            "\u001b[1m281/281\u001b[0m \u001b[32m━━━━━━━━━━━━━━━━━━━━\u001b[0m\u001b[37m\u001b[0m \u001b[1m9s\u001b[0m 31ms/step - loss: 0.6331 - sparse_categorical_accuracy: 0.8407 - sparse_top_k_categorical_accuracy: 0.9568 - val_loss: 2.1849 - val_sparse_categorical_accuracy: 0.6296 - val_sparse_top_k_categorical_accuracy: 0.8130\n",
            "Epoch 6/10\n",
            "\u001b[1m281/281\u001b[0m \u001b[32m━━━━━━━━━━━━━━━━━━━━\u001b[0m\u001b[37m\u001b[0m \u001b[1m10s\u001b[0m 30ms/step - loss: 0.4730 - sparse_categorical_accuracy: 0.8875 - sparse_top_k_categorical_accuracy: 0.9751 - val_loss: 2.4399 - val_sparse_categorical_accuracy: 0.6229 - val_sparse_top_k_categorical_accuracy: 0.8134\n",
            "Epoch 7/10\n",
            "\u001b[1m281/281\u001b[0m \u001b[32m━━━━━━━━━━━━━━━━━━━━\u001b[0m\u001b[37m\u001b[0m \u001b[1m9s\u001b[0m 25ms/step - loss: 0.3855 - sparse_categorical_accuracy: 0.9104 - sparse_top_k_categorical_accuracy: 0.9850 - val_loss: 2.6299 - val_sparse_categorical_accuracy: 0.6189 - val_sparse_top_k_categorical_accuracy: 0.8170\n",
            "Epoch 8/10\n",
            "\u001b[1m281/281\u001b[0m \u001b[32m━━━━━━━━━━━━━━━━━━━━\u001b[0m\u001b[37m\u001b[0m \u001b[1m9s\u001b[0m 31ms/step - loss: 0.3319 - sparse_categorical_accuracy: 0.9266 - sparse_top_k_categorical_accuracy: 0.9885 - val_loss: 2.7402 - val_sparse_categorical_accuracy: 0.6313 - val_sparse_top_k_categorical_accuracy: 0.8197\n",
            "Epoch 9/10\n",
            "\u001b[1m281/281\u001b[0m \u001b[32m━━━━━━━━━━━━━━━━━━━━\u001b[0m\u001b[37m\u001b[0m \u001b[1m8s\u001b[0m 27ms/step - loss: 0.2830 - sparse_categorical_accuracy: 0.9354 - sparse_top_k_categorical_accuracy: 0.9930 - val_loss: 3.0486 - val_sparse_categorical_accuracy: 0.6282 - val_sparse_top_k_categorical_accuracy: 0.8192\n",
            "Epoch 10/10\n",
            "\u001b[1m281/281\u001b[0m \u001b[32m━━━━━━━━━━━━━━━━━━━━\u001b[0m\u001b[37m\u001b[0m \u001b[1m10s\u001b[0m 25ms/step - loss: 0.2404 - sparse_categorical_accuracy: 0.9422 - sparse_top_k_categorical_accuracy: 0.9944 - val_loss: 3.1552 - val_sparse_categorical_accuracy: 0.6287 - val_sparse_top_k_categorical_accuracy: 0.8183\n"
          ]
        }
      ]
    },
    {
      "cell_type": "markdown",
      "source": [
        "## 2. Pre-defined `train_on_batch` Method\n",
        "\n",
        "This pre-defined method allows fine-controlling to the training procedure for each batch without the callbacks, which is even more flexible than `fit` method."
      ],
      "metadata": {
        "id": "NQNInZIvGZ6m"
      }
    },
    {
      "cell_type": "code",
      "source": [
        "def train_model(model,ds_train,ds_valid,epoches):\n",
        "\n",
        "    for epoch in tf.range(1,epoches+1):\n",
        "        model.reset_metrics()\n",
        "\n",
        "        # Reduce learning rate at the late stage of training\n",
        "        if epoch == 5:\n",
        "            model.optimizer.lr.assign(model.optimizer.lr/2.0)\n",
        "            tf.print(\"Lowering optimizer Learning Rate...\\n\\n\")\n",
        "\n",
        "        for x, y in ds_train:\n",
        "            train_result = model.train_on_batch(x, y)\n",
        "\n",
        "        for x, y in ds_valid:\n",
        "            valid_result = model.test_on_batch(x, y,reset_metrics=False)\n",
        "\n",
        "        if epoch%1 ==0:\n",
        "            printbar()\n",
        "            tf.print(\"epoch = \",epoch)\n",
        "            print(\"train:\",dict(zip(model.metrics_names,train_result)))\n",
        "            print(\"valid:\",dict(zip(model.metrics_names,valid_result)))\n",
        "            print(\"\")"
      ],
      "metadata": {
        "id": "XsXf97yIENAF"
      },
      "execution_count": 30,
      "outputs": []
    },
    {
      "cell_type": "markdown",
      "source": [
        "## 3. Customized Training Loop\n",
        "\n",
        "Re-compilation of the model is not required in the customized training loop, just back-propagate the iterative parameters through the optimizer according to the loss function, which give the highest flexibility."
      ],
      "metadata": {
        "id": "eFo4snm6HMqC"
      }
    },
    {
      "cell_type": "code",
      "source": [
        "model = create_model()"
      ],
      "metadata": {
        "id": "IHSVl40-EM3H"
      },
      "execution_count": 31,
      "outputs": []
    },
    {
      "cell_type": "code",
      "source": [
        "optimizer = optimizers.Nadam()\n",
        "loss_func = losses.SparseCategoricalCrossentropy()\n",
        "\n",
        "train_loss = metrics.Mean(name='train_loss')\n",
        "train_metric = metrics.SparseCategoricalAccuracy(name='train_accuracy')\n",
        "\n",
        "valid_loss = metrics.Mean(name='valid_loss')\n",
        "valid_metric = metrics.SparseCategoricalAccuracy(name='valid_accuracy')"
      ],
      "metadata": {
        "id": "NdsglZaFEMyp"
      },
      "execution_count": 32,
      "outputs": []
    },
    {
      "cell_type": "code",
      "source": [
        "@tf.function\n",
        "def train_step(model, features, labels):\n",
        "  with tf.GradientTape() as tape:\n",
        "      predictions = model(features, training=True)\n",
        "      loss = loss_func(labels, predictions)\n",
        "\n",
        "  gradients = tape.gradient(loss, model.trainable_variables)\n",
        "  optimizer.apply_gradients(zip(gradients, model.trainable_variables))\n",
        "\n",
        "  train_loss.update_state(loss)\n",
        "  train_metric.update_state(labels, predictions)"
      ],
      "metadata": {
        "id": "WZjf__M4H6fi"
      },
      "execution_count": 33,
      "outputs": []
    },
    {
      "cell_type": "code",
      "source": [
        "@tf.function\n",
        "def valid_step(model, features, labels):\n",
        "  predictions = model(features)\n",
        "  batch_loss = loss_func(labels, predictions)\n",
        "  valid_loss.update_state(batch_loss)\n",
        "  valid_metric.update_state(labels, predictions)"
      ],
      "metadata": {
        "id": "LePbrzPOH6ci"
      },
      "execution_count": 34,
      "outputs": []
    },
    {
      "cell_type": "code",
      "source": [
        "def train_model(model,ds_train,ds_valid,epochs):\n",
        "  for epoch in tf.range(1,epochs+1):\n",
        "\n",
        "    for features, labels in ds_train:\n",
        "      train_step(model, features, labels)\n",
        "\n",
        "    for features, labels in ds_valid:\n",
        "      valid_step(model, features, labels)\n",
        "\n",
        "    logs = 'Epoch={}, Loss:{}, Accuracy:{}, Valid Loss:{}, Valid Accuracy:{}'\n",
        "\n",
        "    if epoch%1 == 0:\n",
        "      printbar()\n",
        "      tf.print(tf.strings.format(logs,\n",
        "        (epoch, train_loss.result(), train_metric.result(), valid_loss.result(), valid_metric.result())))\n",
        "      tf.print(\"\")\n",
        "\n",
        "    train_loss.reset_states()\n",
        "    valid_loss.reset_states()\n",
        "    train_metric.reset_states()\n",
        "    valid_metric.reset_states()"
      ],
      "metadata": {
        "id": "WURyEym7H6Y9"
      },
      "execution_count": 35,
      "outputs": []
    },
    {
      "cell_type": "code",
      "execution_count": 35,
      "metadata": {
        "id": "WWEzl8H2DslL"
      },
      "outputs": [],
      "source": []
    }
  ]
}